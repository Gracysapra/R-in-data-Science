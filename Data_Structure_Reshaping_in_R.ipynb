{
  "nbformat": 4,
  "nbformat_minor": 0,
  "metadata": {
    "colab": {
      "provenance": [],
      "authorship_tag": "ABX9TyMs3VzhOv8/zhxYAI2o3V1v"
    },
    "kernelspec": {
      "name": "ir",
      "display_name": "R"
    },
    "language_info": {
      "name": "R"
    }
  },
  "cells": [
    {
      "cell_type": "markdown",
      "source": [
        "<h1> Data Reshaping in R </h1>\n"
      ],
      "metadata": {
        "id": "hz3n_zYL3yj6"
      }
    },
    {
      "cell_type": "markdown",
      "source": [
        "<h3> Transpose of a Matrix </h3>\n"
      ],
      "metadata": {
        "id": "1gam4X2s4Cio"
      }
    },
    {
      "cell_type": "code",
      "execution_count": null,
      "metadata": {
        "id": "sMwvtsHAgGbQ",
        "colab": {
          "base_uri": "https://localhost:8080/"
        },
        "outputId": "6b2c597f-4749-4a79-ce6b-25175ac90cd3"
      },
      "outputs": [
        {
          "output_type": "stream",
          "name": "stdout",
          "text": [
            "[1] \"Original Matrix:\"\n",
            "     [,1] [,2] [,3] [,4]\n",
            "[1,]    1    2    3    4\n",
            "[2,]    5    6    7    8\n",
            "[3,]    9   10   11   12\n",
            "[1] \"Transposed Matrix:\"\n",
            "     [,1] [,2] [,3]\n",
            "[1,]    1    5    9\n",
            "[2,]    2    6   10\n",
            "[3,]    3    7   11\n",
            "[4,]    4    8   12\n"
          ]
        }
      ],
      "source": [
        "# Creating a matrix\n",
        "matrix_data <- matrix(c(1:12), nrow = 3, byrow = TRUE)\n",
        "print(\"Original Matrix:\")\n",
        "print(matrix_data)\n",
        "\n",
        "# Transposing the matrix\n",
        "transposed_matrix <- t(matrix_data)\n",
        "print(\"Transposed Matrix:\")\n",
        "print(transposed_matrix)"
      ]
    },
    {
      "cell_type": "markdown",
      "source": [
        "<h3> Joining Rows and Columns </h3>\n"
      ],
      "metadata": {
        "id": "bQJkcbNi4dLZ"
      }
    },
    {
      "cell_type": "code",
      "source": [
        "#  Using cbind() to Combine by Columns\n",
        "name <- c(\"Alice\", \"Bob\", \"Charlie\")\n",
        "age <- c(25, 30, 35)\n",
        "city <- c(\"New York\", \"Los Angeles\", \"Chicago\")\n",
        "\n",
        "data <- cbind(name, age, city)\n",
        "data"
      ],
      "metadata": {
        "colab": {
          "base_uri": "https://localhost:8080/",
          "height": 161
        },
        "id": "maFdXG8n37ig",
        "outputId": "f597260c-b76c-4a47-8c33-2d8cccbe92dc"
      },
      "execution_count": null,
      "outputs": [
        {
          "output_type": "display_data",
          "data": {
            "text/html": [
              "<table class=\"dataframe\">\n",
              "<caption>A matrix: 3 × 3 of type chr</caption>\n",
              "<thead>\n",
              "\t<tr><th scope=col>name</th><th scope=col>age</th><th scope=col>city</th></tr>\n",
              "</thead>\n",
              "<tbody>\n",
              "\t<tr><td>Alice  </td><td>25</td><td>New York   </td></tr>\n",
              "\t<tr><td>Bob    </td><td>30</td><td>Los Angeles</td></tr>\n",
              "\t<tr><td>Charlie</td><td>35</td><td>Chicago    </td></tr>\n",
              "</tbody>\n",
              "</table>\n"
            ],
            "text/markdown": "\nA matrix: 3 × 3 of type chr\n\n| name | age | city |\n|---|---|---|\n| Alice   | 25 | New York    |\n| Bob     | 30 | Los Angeles |\n| Charlie | 35 | Chicago     |\n\n",
            "text/latex": "A matrix: 3 × 3 of type chr\n\\begin{tabular}{lll}\n name & age & city\\\\\n\\hline\n\t Alice   & 25 & New York   \\\\\n\t Bob     & 30 & Los Angeles\\\\\n\t Charlie & 35 & Chicago    \\\\\n\\end{tabular}\n",
            "text/plain": [
              "     name    age city       \n",
              "[1,] Alice   25  New York   \n",
              "[2,] Bob     30  Los Angeles\n",
              "[3,] Charlie 35  Chicago    "
            ]
          },
          "metadata": {}
        }
      ]
    },
    {
      "cell_type": "code",
      "source": [
        "# Using rbind() to Combine by Rows\n",
        "data1 <- data.frame(Name = c(\"Alice\", \"Bob\"), Age = c(25, 30))\n",
        "data2 <- data.frame(Name = c(\"Charlie\", \"David\"), Age = c(35, 40))\n",
        "\n",
        "data <- rbind(data1, data2)\n",
        "data\n"
      ],
      "metadata": {
        "colab": {
          "base_uri": "https://localhost:8080/",
          "height": 241
        },
        "id": "N9r64ugO37Ve",
        "outputId": "873cd88f-e684-4131-efe1-8c38a2e0a10d"
      },
      "execution_count": null,
      "outputs": [
        {
          "output_type": "display_data",
          "data": {
            "text/html": [
              "<table class=\"dataframe\">\n",
              "<caption>A data.frame: 4 × 2</caption>\n",
              "<thead>\n",
              "\t<tr><th scope=col>Name</th><th scope=col>Age</th></tr>\n",
              "\t<tr><th scope=col>&lt;chr&gt;</th><th scope=col>&lt;dbl&gt;</th></tr>\n",
              "</thead>\n",
              "<tbody>\n",
              "\t<tr><td>Alice  </td><td>25</td></tr>\n",
              "\t<tr><td>Bob    </td><td>30</td></tr>\n",
              "\t<tr><td>Charlie</td><td>35</td></tr>\n",
              "\t<tr><td>David  </td><td>40</td></tr>\n",
              "</tbody>\n",
              "</table>\n"
            ],
            "text/markdown": "\nA data.frame: 4 × 2\n\n| Name &lt;chr&gt; | Age &lt;dbl&gt; |\n|---|---|\n| Alice   | 25 |\n| Bob     | 30 |\n| Charlie | 35 |\n| David   | 40 |\n\n",
            "text/latex": "A data.frame: 4 × 2\n\\begin{tabular}{ll}\n Name & Age\\\\\n <chr> & <dbl>\\\\\n\\hline\n\t Alice   & 25\\\\\n\t Bob     & 30\\\\\n\t Charlie & 35\\\\\n\t David   & 40\\\\\n\\end{tabular}\n",
            "text/plain": [
              "  Name    Age\n",
              "1 Alice   25 \n",
              "2 Bob     30 \n",
              "3 Charlie 35 \n",
              "4 David   40 "
            ]
          },
          "metadata": {}
        }
      ]
    },
    {
      "cell_type": "markdown",
      "source": [
        "<h3> Merging DataFrame </h3>\n"
      ],
      "metadata": {
        "id": "AqDoT9Za5SIo"
      }
    },
    {
      "cell_type": "code",
      "source": [
        "# Creating two data frames with different columns\n",
        "df1 <- data.frame(ID = c(1, 2, 3), Name = c(\"Alice\", \"Bob\", \"Charlie\"))\n",
        "df2 <- data.frame(ID = c(2, 3, 4), Age = c(30, 35, 28))\n",
        "\n",
        "# Printing the data frames\n",
        "print(\"Data Frame 1:\")\n",
        "print(df1)\n",
        "print(\"Data Frame 2:\")\n",
        "print(df2)"
      ],
      "metadata": {
        "colab": {
          "base_uri": "https://localhost:8080/"
        },
        "id": "faQVm9rc37SF",
        "outputId": "38814df3-c49c-4ffb-c1bf-5b67fd33afa0"
      },
      "execution_count": null,
      "outputs": [
        {
          "output_type": "stream",
          "name": "stdout",
          "text": [
            "[1] \"Data Frame 1:\"\n",
            "  ID    Name\n",
            "1  1   Alice\n",
            "2  2     Bob\n",
            "3  3 Charlie\n",
            "[1] \"Data Frame 2:\"\n",
            "  ID Age\n",
            "1  2  30\n",
            "2  3  35\n",
            "3  4  28\n"
          ]
        }
      ]
    },
    {
      "cell_type": "code",
      "source": [
        "# Performing an inner join\n",
        "inner_join_df <- merge(df1, df2, by = \"ID\")\n",
        "inner_join_df"
      ],
      "metadata": {
        "colab": {
          "base_uri": "https://localhost:8080/",
          "height": 161
        },
        "id": "zxa6_Ss_37PB",
        "outputId": "abbd495a-5a5d-46a0-bce0-b358baa73af7"
      },
      "execution_count": null,
      "outputs": [
        {
          "output_type": "display_data",
          "data": {
            "text/html": [
              "<table class=\"dataframe\">\n",
              "<caption>A data.frame: 2 × 3</caption>\n",
              "<thead>\n",
              "\t<tr><th scope=col>ID</th><th scope=col>Name</th><th scope=col>Age</th></tr>\n",
              "\t<tr><th scope=col>&lt;dbl&gt;</th><th scope=col>&lt;chr&gt;</th><th scope=col>&lt;dbl&gt;</th></tr>\n",
              "</thead>\n",
              "<tbody>\n",
              "\t<tr><td>2</td><td>Bob    </td><td>30</td></tr>\n",
              "\t<tr><td>3</td><td>Charlie</td><td>35</td></tr>\n",
              "</tbody>\n",
              "</table>\n"
            ],
            "text/markdown": "\nA data.frame: 2 × 3\n\n| ID &lt;dbl&gt; | Name &lt;chr&gt; | Age &lt;dbl&gt; |\n|---|---|---|\n| 2 | Bob     | 30 |\n| 3 | Charlie | 35 |\n\n",
            "text/latex": "A data.frame: 2 × 3\n\\begin{tabular}{lll}\n ID & Name & Age\\\\\n <dbl> & <chr> & <dbl>\\\\\n\\hline\n\t 2 & Bob     & 30\\\\\n\t 3 & Charlie & 35\\\\\n\\end{tabular}\n",
            "text/plain": [
              "  ID Name    Age\n",
              "1 2  Bob     30 \n",
              "2 3  Charlie 35 "
            ]
          },
          "metadata": {}
        }
      ]
    },
    {
      "cell_type": "code",
      "source": [
        "# Performing a left join\n",
        "left_join_df <- merge(df1, df2, by = \"ID\", all.x = TRUE)\n",
        "left_join_df"
      ],
      "metadata": {
        "colab": {
          "base_uri": "https://localhost:8080/",
          "height": 192
        },
        "id": "YZZf7Qxm37Lw",
        "outputId": "df1969d7-6882-4c01-ad80-9b57f16824df"
      },
      "execution_count": null,
      "outputs": [
        {
          "output_type": "display_data",
          "data": {
            "text/html": [
              "<table class=\"dataframe\">\n",
              "<caption>A data.frame: 3 × 3</caption>\n",
              "<thead>\n",
              "\t<tr><th scope=col>ID</th><th scope=col>Name</th><th scope=col>Age</th></tr>\n",
              "\t<tr><th scope=col>&lt;dbl&gt;</th><th scope=col>&lt;chr&gt;</th><th scope=col>&lt;dbl&gt;</th></tr>\n",
              "</thead>\n",
              "<tbody>\n",
              "\t<tr><td>1</td><td>Alice  </td><td>NA</td></tr>\n",
              "\t<tr><td>2</td><td>Bob    </td><td>30</td></tr>\n",
              "\t<tr><td>3</td><td>Charlie</td><td>35</td></tr>\n",
              "</tbody>\n",
              "</table>\n"
            ],
            "text/markdown": "\nA data.frame: 3 × 3\n\n| ID &lt;dbl&gt; | Name &lt;chr&gt; | Age &lt;dbl&gt; |\n|---|---|---|\n| 1 | Alice   | NA |\n| 2 | Bob     | 30 |\n| 3 | Charlie | 35 |\n\n",
            "text/latex": "A data.frame: 3 × 3\n\\begin{tabular}{lll}\n ID & Name & Age\\\\\n <dbl> & <chr> & <dbl>\\\\\n\\hline\n\t 1 & Alice   & NA\\\\\n\t 2 & Bob     & 30\\\\\n\t 3 & Charlie & 35\\\\\n\\end{tabular}\n",
            "text/plain": [
              "  ID Name    Age\n",
              "1 1  Alice   NA \n",
              "2 2  Bob     30 \n",
              "3 3  Charlie 35 "
            ]
          },
          "metadata": {}
        }
      ]
    },
    {
      "cell_type": "code",
      "source": [
        "# Performing a right join\n",
        "right_join_df <- merge(df1, df2, by = \"ID\", all.y = TRUE)\n",
        "right_join_df"
      ],
      "metadata": {
        "colab": {
          "base_uri": "https://localhost:8080/",
          "height": 192
        },
        "id": "zVfpv6Ps37Ho",
        "outputId": "1125f126-8b5c-4dfe-ba33-2135dbdc50d6"
      },
      "execution_count": null,
      "outputs": [
        {
          "output_type": "display_data",
          "data": {
            "text/html": [
              "<table class=\"dataframe\">\n",
              "<caption>A data.frame: 3 × 3</caption>\n",
              "<thead>\n",
              "\t<tr><th scope=col>ID</th><th scope=col>Name</th><th scope=col>Age</th></tr>\n",
              "\t<tr><th scope=col>&lt;dbl&gt;</th><th scope=col>&lt;chr&gt;</th><th scope=col>&lt;dbl&gt;</th></tr>\n",
              "</thead>\n",
              "<tbody>\n",
              "\t<tr><td>2</td><td>Bob    </td><td>30</td></tr>\n",
              "\t<tr><td>3</td><td>Charlie</td><td>35</td></tr>\n",
              "\t<tr><td>4</td><td>NA     </td><td>28</td></tr>\n",
              "</tbody>\n",
              "</table>\n"
            ],
            "text/markdown": "\nA data.frame: 3 × 3\n\n| ID &lt;dbl&gt; | Name &lt;chr&gt; | Age &lt;dbl&gt; |\n|---|---|---|\n| 2 | Bob     | 30 |\n| 3 | Charlie | 35 |\n| 4 | NA      | 28 |\n\n",
            "text/latex": "A data.frame: 3 × 3\n\\begin{tabular}{lll}\n ID & Name & Age\\\\\n <dbl> & <chr> & <dbl>\\\\\n\\hline\n\t 2 & Bob     & 30\\\\\n\t 3 & Charlie & 35\\\\\n\t 4 & NA      & 28\\\\\n\\end{tabular}\n",
            "text/plain": [
              "  ID Name    Age\n",
              "1 2  Bob     30 \n",
              "2 3  Charlie 35 \n",
              "3 4  NA      28 "
            ]
          },
          "metadata": {}
        }
      ]
    },
    {
      "cell_type": "code",
      "source": [
        "# Performing a full outer join\n",
        "outer_join_df <- merge(df1, df2, by = \"ID\", all = TRUE)\n",
        "outer_join_df"
      ],
      "metadata": {
        "colab": {
          "base_uri": "https://localhost:8080/",
          "height": 223
        },
        "id": "Z0ucT_rm37EU",
        "outputId": "a27baab7-302b-4a98-ade7-1059ff56454b"
      },
      "execution_count": null,
      "outputs": [
        {
          "output_type": "display_data",
          "data": {
            "text/html": [
              "<table class=\"dataframe\">\n",
              "<caption>A data.frame: 4 × 3</caption>\n",
              "<thead>\n",
              "\t<tr><th scope=col>ID</th><th scope=col>Name</th><th scope=col>Age</th></tr>\n",
              "\t<tr><th scope=col>&lt;dbl&gt;</th><th scope=col>&lt;chr&gt;</th><th scope=col>&lt;dbl&gt;</th></tr>\n",
              "</thead>\n",
              "<tbody>\n",
              "\t<tr><td>1</td><td>Alice  </td><td>NA</td></tr>\n",
              "\t<tr><td>2</td><td>Bob    </td><td>30</td></tr>\n",
              "\t<tr><td>3</td><td>Charlie</td><td>35</td></tr>\n",
              "\t<tr><td>4</td><td>NA     </td><td>28</td></tr>\n",
              "</tbody>\n",
              "</table>\n"
            ],
            "text/markdown": "\nA data.frame: 4 × 3\n\n| ID &lt;dbl&gt; | Name &lt;chr&gt; | Age &lt;dbl&gt; |\n|---|---|---|\n| 1 | Alice   | NA |\n| 2 | Bob     | 30 |\n| 3 | Charlie | 35 |\n| 4 | NA      | 28 |\n\n",
            "text/latex": "A data.frame: 4 × 3\n\\begin{tabular}{lll}\n ID & Name & Age\\\\\n <dbl> & <chr> & <dbl>\\\\\n\\hline\n\t 1 & Alice   & NA\\\\\n\t 2 & Bob     & 30\\\\\n\t 3 & Charlie & 35\\\\\n\t 4 & NA      & 28\\\\\n\\end{tabular}\n",
            "text/plain": [
              "  ID Name    Age\n",
              "1 1  Alice   NA \n",
              "2 2  Bob     30 \n",
              "3 3  Charlie 35 \n",
              "4 4  NA      28 "
            ]
          },
          "metadata": {}
        }
      ]
    },
    {
      "cell_type": "markdown",
      "source": [
        "<h3> Merging DataFrame using dylyr </h3>"
      ],
      "metadata": {
        "id": "hOgUTqvqJdHt"
      }
    },
    {
      "cell_type": "code",
      "source": [
        "library(dplyr)\n",
        "\n",
        "# Creating two data frames\n",
        "df1 <- data.frame(ID = c(1, 2, 3), Name = c(\"Alice\", \"Bob\", \"Charlie\"))\n",
        "df2 <- data.frame(ID = c(2, 3, 4), Age = c(30, 35, 28))\n",
        "\n",
        "# Performing different types of joins using dplyr\n",
        "inner_join_df <- inner_join(df1, df2, by = \"ID\")\n",
        "print(\"Inner Join Data Frame:\")\n",
        "inner_join_df\n",
        "\n",
        "left_join_df <- left_join(df1, df2, by = \"ID\")\n",
        "print(\"Left Join Data Frame:\")\n",
        "left_join_df\n",
        "\n",
        "right_join_df <- right_join(df1, df2, by = \"ID\")\n",
        "print(\"Right Join Data Frame:\")\n",
        "right_join_df\n",
        "\n",
        "full_join_df <- full_join(df1, df2, by = \"ID\")\n",
        "print(\"Full Outer Join Data Frame:\")\n",
        "full_join_df\n"
      ],
      "metadata": {
        "colab": {
          "base_uri": "https://localhost:8080/",
          "height": 1000
        },
        "id": "ZAL0cnGuJcyl",
        "outputId": "b5f4dcd4-0902-4162-f6df-9f20f9b240c1"
      },
      "execution_count": null,
      "outputs": [
        {
          "output_type": "stream",
          "name": "stderr",
          "text": [
            "\n",
            "Attaching package: ‘dplyr’\n",
            "\n",
            "\n",
            "The following objects are masked from ‘package:stats’:\n",
            "\n",
            "    filter, lag\n",
            "\n",
            "\n",
            "The following objects are masked from ‘package:base’:\n",
            "\n",
            "    intersect, setdiff, setequal, union\n",
            "\n",
            "\n"
          ]
        },
        {
          "output_type": "stream",
          "name": "stdout",
          "text": [
            "[1] \"Inner Join Data Frame:\"\n"
          ]
        },
        {
          "output_type": "display_data",
          "data": {
            "text/html": [
              "<table class=\"dataframe\">\n",
              "<caption>A data.frame: 2 × 3</caption>\n",
              "<thead>\n",
              "\t<tr><th scope=col>ID</th><th scope=col>Name</th><th scope=col>Age</th></tr>\n",
              "\t<tr><th scope=col>&lt;dbl&gt;</th><th scope=col>&lt;chr&gt;</th><th scope=col>&lt;dbl&gt;</th></tr>\n",
              "</thead>\n",
              "<tbody>\n",
              "\t<tr><td>2</td><td>Bob    </td><td>30</td></tr>\n",
              "\t<tr><td>3</td><td>Charlie</td><td>35</td></tr>\n",
              "</tbody>\n",
              "</table>\n"
            ],
            "text/markdown": "\nA data.frame: 2 × 3\n\n| ID &lt;dbl&gt; | Name &lt;chr&gt; | Age &lt;dbl&gt; |\n|---|---|---|\n| 2 | Bob     | 30 |\n| 3 | Charlie | 35 |\n\n",
            "text/latex": "A data.frame: 2 × 3\n\\begin{tabular}{lll}\n ID & Name & Age\\\\\n <dbl> & <chr> & <dbl>\\\\\n\\hline\n\t 2 & Bob     & 30\\\\\n\t 3 & Charlie & 35\\\\\n\\end{tabular}\n",
            "text/plain": [
              "  ID Name    Age\n",
              "1 2  Bob     30 \n",
              "2 3  Charlie 35 "
            ]
          },
          "metadata": {}
        },
        {
          "output_type": "stream",
          "name": "stdout",
          "text": [
            "[1] \"Left Join Data Frame:\"\n"
          ]
        },
        {
          "output_type": "display_data",
          "data": {
            "text/html": [
              "<table class=\"dataframe\">\n",
              "<caption>A data.frame: 3 × 3</caption>\n",
              "<thead>\n",
              "\t<tr><th scope=col>ID</th><th scope=col>Name</th><th scope=col>Age</th></tr>\n",
              "\t<tr><th scope=col>&lt;dbl&gt;</th><th scope=col>&lt;chr&gt;</th><th scope=col>&lt;dbl&gt;</th></tr>\n",
              "</thead>\n",
              "<tbody>\n",
              "\t<tr><td>1</td><td>Alice  </td><td>NA</td></tr>\n",
              "\t<tr><td>2</td><td>Bob    </td><td>30</td></tr>\n",
              "\t<tr><td>3</td><td>Charlie</td><td>35</td></tr>\n",
              "</tbody>\n",
              "</table>\n"
            ],
            "text/markdown": "\nA data.frame: 3 × 3\n\n| ID &lt;dbl&gt; | Name &lt;chr&gt; | Age &lt;dbl&gt; |\n|---|---|---|\n| 1 | Alice   | NA |\n| 2 | Bob     | 30 |\n| 3 | Charlie | 35 |\n\n",
            "text/latex": "A data.frame: 3 × 3\n\\begin{tabular}{lll}\n ID & Name & Age\\\\\n <dbl> & <chr> & <dbl>\\\\\n\\hline\n\t 1 & Alice   & NA\\\\\n\t 2 & Bob     & 30\\\\\n\t 3 & Charlie & 35\\\\\n\\end{tabular}\n",
            "text/plain": [
              "  ID Name    Age\n",
              "1 1  Alice   NA \n",
              "2 2  Bob     30 \n",
              "3 3  Charlie 35 "
            ]
          },
          "metadata": {}
        },
        {
          "output_type": "stream",
          "name": "stdout",
          "text": [
            "[1] \"Right Join Data Frame:\"\n"
          ]
        },
        {
          "output_type": "display_data",
          "data": {
            "text/html": [
              "<table class=\"dataframe\">\n",
              "<caption>A data.frame: 3 × 3</caption>\n",
              "<thead>\n",
              "\t<tr><th scope=col>ID</th><th scope=col>Name</th><th scope=col>Age</th></tr>\n",
              "\t<tr><th scope=col>&lt;dbl&gt;</th><th scope=col>&lt;chr&gt;</th><th scope=col>&lt;dbl&gt;</th></tr>\n",
              "</thead>\n",
              "<tbody>\n",
              "\t<tr><td>2</td><td>Bob    </td><td>30</td></tr>\n",
              "\t<tr><td>3</td><td>Charlie</td><td>35</td></tr>\n",
              "\t<tr><td>4</td><td>NA     </td><td>28</td></tr>\n",
              "</tbody>\n",
              "</table>\n"
            ],
            "text/markdown": "\nA data.frame: 3 × 3\n\n| ID &lt;dbl&gt; | Name &lt;chr&gt; | Age &lt;dbl&gt; |\n|---|---|---|\n| 2 | Bob     | 30 |\n| 3 | Charlie | 35 |\n| 4 | NA      | 28 |\n\n",
            "text/latex": "A data.frame: 3 × 3\n\\begin{tabular}{lll}\n ID & Name & Age\\\\\n <dbl> & <chr> & <dbl>\\\\\n\\hline\n\t 2 & Bob     & 30\\\\\n\t 3 & Charlie & 35\\\\\n\t 4 & NA      & 28\\\\\n\\end{tabular}\n",
            "text/plain": [
              "  ID Name    Age\n",
              "1 2  Bob     30 \n",
              "2 3  Charlie 35 \n",
              "3 4  NA      28 "
            ]
          },
          "metadata": {}
        },
        {
          "output_type": "stream",
          "name": "stdout",
          "text": [
            "[1] \"Full Outer Join Data Frame:\"\n"
          ]
        },
        {
          "output_type": "display_data",
          "data": {
            "text/html": [
              "<table class=\"dataframe\">\n",
              "<caption>A data.frame: 4 × 3</caption>\n",
              "<thead>\n",
              "\t<tr><th scope=col>ID</th><th scope=col>Name</th><th scope=col>Age</th></tr>\n",
              "\t<tr><th scope=col>&lt;dbl&gt;</th><th scope=col>&lt;chr&gt;</th><th scope=col>&lt;dbl&gt;</th></tr>\n",
              "</thead>\n",
              "<tbody>\n",
              "\t<tr><td>1</td><td>Alice  </td><td>NA</td></tr>\n",
              "\t<tr><td>2</td><td>Bob    </td><td>30</td></tr>\n",
              "\t<tr><td>3</td><td>Charlie</td><td>35</td></tr>\n",
              "\t<tr><td>4</td><td>NA     </td><td>28</td></tr>\n",
              "</tbody>\n",
              "</table>\n"
            ],
            "text/markdown": "\nA data.frame: 4 × 3\n\n| ID &lt;dbl&gt; | Name &lt;chr&gt; | Age &lt;dbl&gt; |\n|---|---|---|\n| 1 | Alice   | NA |\n| 2 | Bob     | 30 |\n| 3 | Charlie | 35 |\n| 4 | NA      | 28 |\n\n",
            "text/latex": "A data.frame: 4 × 3\n\\begin{tabular}{lll}\n ID & Name & Age\\\\\n <dbl> & <chr> & <dbl>\\\\\n\\hline\n\t 1 & Alice   & NA\\\\\n\t 2 & Bob     & 30\\\\\n\t 3 & Charlie & 35\\\\\n\t 4 & NA      & 28\\\\\n\\end{tabular}\n",
            "text/plain": [
              "  ID Name    Age\n",
              "1 1  Alice   NA \n",
              "2 2  Bob     30 \n",
              "3 3  Charlie 35 \n",
              "4 4  NA      28 "
            ]
          },
          "metadata": {}
        }
      ]
    },
    {
      "cell_type": "markdown",
      "source": [
        "<h3> Melting and Casting DataFrame </h3>\n"
      ],
      "metadata": {
        "id": "Hsiw6cfvEVU4"
      }
    },
    {
      "cell_type": "code",
      "source": [
        "# Install and load the reshape2 package\n",
        "install.packages(\"reshape2\")\n",
        "library(reshape2)\n",
        "\n",
        "# Creating a wide-format data frame\n",
        "wide_data <- data.frame(ID = 1:3, Score1 = c(10, 20, 30), Score2 = c(15, 25, 35))\n",
        "wide_data\n",
        "\n",
        "# Melting to long format\n",
        "long_data <- melt(wide_data, id.vars = \"ID\")\n",
        "long_data\n"
      ],
      "metadata": {
        "colab": {
          "base_uri": "https://localhost:8080/",
          "height": 570
        },
        "id": "BGmL2Hk337Aq",
        "outputId": "b6a9a710-8257-4f6a-cffa-2204c6db1fdd"
      },
      "execution_count": null,
      "outputs": [
        {
          "output_type": "stream",
          "name": "stderr",
          "text": [
            "Installing package into ‘/usr/local/lib/R/site-library’\n",
            "(as ‘lib’ is unspecified)\n",
            "\n",
            "also installing the dependency ‘plyr’\n",
            "\n",
            "\n"
          ]
        },
        {
          "output_type": "display_data",
          "data": {
            "text/html": [
              "<table class=\"dataframe\">\n",
              "<caption>A data.frame: 3 × 3</caption>\n",
              "<thead>\n",
              "\t<tr><th scope=col>ID</th><th scope=col>Score1</th><th scope=col>Score2</th></tr>\n",
              "\t<tr><th scope=col>&lt;int&gt;</th><th scope=col>&lt;dbl&gt;</th><th scope=col>&lt;dbl&gt;</th></tr>\n",
              "</thead>\n",
              "<tbody>\n",
              "\t<tr><td>1</td><td>10</td><td>15</td></tr>\n",
              "\t<tr><td>2</td><td>20</td><td>25</td></tr>\n",
              "\t<tr><td>3</td><td>30</td><td>35</td></tr>\n",
              "</tbody>\n",
              "</table>\n"
            ],
            "text/markdown": "\nA data.frame: 3 × 3\n\n| ID &lt;int&gt; | Score1 &lt;dbl&gt; | Score2 &lt;dbl&gt; |\n|---|---|---|\n| 1 | 10 | 15 |\n| 2 | 20 | 25 |\n| 3 | 30 | 35 |\n\n",
            "text/latex": "A data.frame: 3 × 3\n\\begin{tabular}{lll}\n ID & Score1 & Score2\\\\\n <int> & <dbl> & <dbl>\\\\\n\\hline\n\t 1 & 10 & 15\\\\\n\t 2 & 20 & 25\\\\\n\t 3 & 30 & 35\\\\\n\\end{tabular}\n",
            "text/plain": [
              "  ID Score1 Score2\n",
              "1 1  10     15    \n",
              "2 2  20     25    \n",
              "3 3  30     35    "
            ]
          },
          "metadata": {}
        },
        {
          "output_type": "display_data",
          "data": {
            "text/html": [
              "<table class=\"dataframe\">\n",
              "<caption>A data.frame: 6 × 3</caption>\n",
              "<thead>\n",
              "\t<tr><th scope=col>ID</th><th scope=col>variable</th><th scope=col>value</th></tr>\n",
              "\t<tr><th scope=col>&lt;int&gt;</th><th scope=col>&lt;fct&gt;</th><th scope=col>&lt;dbl&gt;</th></tr>\n",
              "</thead>\n",
              "<tbody>\n",
              "\t<tr><td>1</td><td>Score1</td><td>10</td></tr>\n",
              "\t<tr><td>2</td><td>Score1</td><td>20</td></tr>\n",
              "\t<tr><td>3</td><td>Score1</td><td>30</td></tr>\n",
              "\t<tr><td>1</td><td>Score2</td><td>15</td></tr>\n",
              "\t<tr><td>2</td><td>Score2</td><td>25</td></tr>\n",
              "\t<tr><td>3</td><td>Score2</td><td>35</td></tr>\n",
              "</tbody>\n",
              "</table>\n"
            ],
            "text/markdown": "\nA data.frame: 6 × 3\n\n| ID &lt;int&gt; | variable &lt;fct&gt; | value &lt;dbl&gt; |\n|---|---|---|\n| 1 | Score1 | 10 |\n| 2 | Score1 | 20 |\n| 3 | Score1 | 30 |\n| 1 | Score2 | 15 |\n| 2 | Score2 | 25 |\n| 3 | Score2 | 35 |\n\n",
            "text/latex": "A data.frame: 6 × 3\n\\begin{tabular}{lll}\n ID & variable & value\\\\\n <int> & <fct> & <dbl>\\\\\n\\hline\n\t 1 & Score1 & 10\\\\\n\t 2 & Score1 & 20\\\\\n\t 3 & Score1 & 30\\\\\n\t 1 & Score2 & 15\\\\\n\t 2 & Score2 & 25\\\\\n\t 3 & Score2 & 35\\\\\n\\end{tabular}\n",
            "text/plain": [
              "  ID variable value\n",
              "1 1  Score1   10   \n",
              "2 2  Score1   20   \n",
              "3 3  Score1   30   \n",
              "4 1  Score2   15   \n",
              "5 2  Score2   25   \n",
              "6 3  Score2   35   "
            ]
          },
          "metadata": {}
        }
      ]
    },
    {
      "cell_type": "code",
      "source": [
        "# Casting to wide format\n",
        "wide <- dcast(long_data, ID ~ variable)\n",
        "wide"
      ],
      "metadata": {
        "colab": {
          "base_uri": "https://localhost:8080/",
          "height": 192
        },
        "id": "IaqcZG8n366b",
        "outputId": "abc3b0e7-f48e-4bdf-e831-c01c74d70be4"
      },
      "execution_count": null,
      "outputs": [
        {
          "output_type": "display_data",
          "data": {
            "text/html": [
              "<table class=\"dataframe\">\n",
              "<caption>A data.frame: 3 × 3</caption>\n",
              "<thead>\n",
              "\t<tr><th scope=col>ID</th><th scope=col>Score1</th><th scope=col>Score2</th></tr>\n",
              "\t<tr><th scope=col>&lt;int&gt;</th><th scope=col>&lt;dbl&gt;</th><th scope=col>&lt;dbl&gt;</th></tr>\n",
              "</thead>\n",
              "<tbody>\n",
              "\t<tr><td>1</td><td>10</td><td>15</td></tr>\n",
              "\t<tr><td>2</td><td>20</td><td>25</td></tr>\n",
              "\t<tr><td>3</td><td>30</td><td>35</td></tr>\n",
              "</tbody>\n",
              "</table>\n"
            ],
            "text/markdown": "\nA data.frame: 3 × 3\n\n| ID &lt;int&gt; | Score1 &lt;dbl&gt; | Score2 &lt;dbl&gt; |\n|---|---|---|\n| 1 | 10 | 15 |\n| 2 | 20 | 25 |\n| 3 | 30 | 35 |\n\n",
            "text/latex": "A data.frame: 3 × 3\n\\begin{tabular}{lll}\n ID & Score1 & Score2\\\\\n <int> & <dbl> & <dbl>\\\\\n\\hline\n\t 1 & 10 & 15\\\\\n\t 2 & 20 & 25\\\\\n\t 3 & 30 & 35\\\\\n\\end{tabular}\n",
            "text/plain": [
              "  ID Score1 Score2\n",
              "1 1  10     15    \n",
              "2 2  20     25    \n",
              "3 3  30     35    "
            ]
          },
          "metadata": {}
        }
      ]
    },
    {
      "cell_type": "code",
      "source": [
        "# Handling Missing values\n",
        "data <- c(1, 2, NA, NaN , 4, 5, NaN)\n",
        "data\n",
        "\n",
        "print(is.na(data))\n",
        "print(is.nan(data))"
      ],
      "metadata": {
        "colab": {
          "base_uri": "https://localhost:8080/",
          "height": 71
        },
        "id": "Nrv3OSNw363R",
        "outputId": "0e3be652-e2f3-4368-a956-e1462361363d"
      },
      "execution_count": null,
      "outputs": [
        {
          "output_type": "display_data",
          "data": {
            "text/html": [
              "<style>\n",
              ".list-inline {list-style: none; margin:0; padding: 0}\n",
              ".list-inline>li {display: inline-block}\n",
              ".list-inline>li:not(:last-child)::after {content: \"\\00b7\"; padding: 0 .5ex}\n",
              "</style>\n",
              "<ol class=list-inline><li>1</li><li>2</li><li>&lt;NA&gt;</li><li>NaN</li><li>4</li><li>5</li><li>NaN</li></ol>\n"
            ],
            "text/markdown": "1. 1\n2. 2\n3. &lt;NA&gt;\n4. NaN\n5. 4\n6. 5\n7. NaN\n\n\n",
            "text/latex": "\\begin{enumerate*}\n\\item 1\n\\item 2\n\\item <NA>\n\\item NaN\n\\item 4\n\\item 5\n\\item NaN\n\\end{enumerate*}\n",
            "text/plain": [
              "[1]   1   2  NA NaN   4   5 NaN"
            ]
          },
          "metadata": {}
        },
        {
          "output_type": "stream",
          "name": "stdout",
          "text": [
            "[1] FALSE FALSE  TRUE  TRUE FALSE FALSE  TRUE\n",
            "[1] FALSE FALSE FALSE  TRUE FALSE FALSE  TRUE\n"
          ]
        }
      ]
    },
    {
      "cell_type": "code",
      "source": [
        "# Removing the missing values\n",
        "data1 <- na.omit(data)\n",
        "data1"
      ],
      "metadata": {
        "colab": {
          "base_uri": "https://localhost:8080/",
          "height": 34
        },
        "id": "fAZFWKVG36zp",
        "outputId": "e8a6b863-cc25-4084-e26d-78e6e38d292d"
      },
      "execution_count": null,
      "outputs": [
        {
          "output_type": "display_data",
          "data": {
            "text/html": [
              "<style>\n",
              ".list-inline {list-style: none; margin:0; padding: 0}\n",
              ".list-inline>li {display: inline-block}\n",
              ".list-inline>li:not(:last-child)::after {content: \"\\00b7\"; padding: 0 .5ex}\n",
              "</style>\n",
              "<ol class=list-inline><li>1</li><li>2</li><li>4</li><li>5</li></ol>\n"
            ],
            "text/markdown": "1. 1\n2. 2\n3. 4\n4. 5\n\n\n",
            "text/latex": "\\begin{enumerate*}\n\\item 1\n\\item 2\n\\item 4\n\\item 5\n\\end{enumerate*}\n",
            "text/plain": [
              "[1] 1 2 4 5\n",
              "attr(,\"na.action\")\n",
              "[1] 3 4 7\n",
              "attr(,\"class\")\n",
              "[1] \"omit\""
            ]
          },
          "metadata": {}
        }
      ]
    },
    {
      "cell_type": "code",
      "source": [
        "# Imputing the missing values with mean\n",
        "Mean <- mean(data, na.rm=TRUE)\n",
        "data[is.na(data)]<- Mean\n",
        "data"
      ],
      "metadata": {
        "colab": {
          "base_uri": "https://localhost:8080/",
          "height": 34
        },
        "id": "EoLPuL1eSRHC",
        "outputId": "38e794c5-e900-42cc-99a7-a9b796bf3d29"
      },
      "execution_count": null,
      "outputs": [
        {
          "output_type": "display_data",
          "data": {
            "text/html": [
              "<style>\n",
              ".list-inline {list-style: none; margin:0; padding: 0}\n",
              ".list-inline>li {display: inline-block}\n",
              ".list-inline>li:not(:last-child)::after {content: \"\\00b7\"; padding: 0 .5ex}\n",
              "</style>\n",
              "<ol class=list-inline><li>1</li><li>2</li><li>3</li><li>3</li><li>4</li><li>5</li><li>3</li></ol>\n"
            ],
            "text/markdown": "1. 1\n2. 2\n3. 3\n4. 3\n5. 4\n6. 5\n7. 3\n\n\n",
            "text/latex": "\\begin{enumerate*}\n\\item 1\n\\item 2\n\\item 3\n\\item 3\n\\item 4\n\\item 5\n\\item 3\n\\end{enumerate*}\n",
            "text/plain": [
              "[1] 1 2 3 3 4 5 3"
            ]
          },
          "metadata": {}
        }
      ]
    },
    {
      "cell_type": "code",
      "source": [
        "# Handling missing values in DataFrame\n",
        "df<- data.frame(A = c(2,5,NA,8), B= c(8,1,4,NA))\n",
        "\n",
        "# Identify rows with complete data\n",
        "complete_rows <- complete.cases(df)\n",
        "print(df[complete_rows, ])"
      ],
      "metadata": {
        "colab": {
          "base_uri": "https://localhost:8080/"
        },
        "id": "lsKUYNjvSRCo",
        "outputId": "89ec6822-f28c-4ad0-e6e8-ca9eb23657a1"
      },
      "execution_count": null,
      "outputs": [
        {
          "output_type": "stream",
          "name": "stdout",
          "text": [
            "  A B\n",
            "1 2 8\n",
            "2 5 1\n"
          ]
        }
      ]
    },
    {
      "cell_type": "code",
      "source": [],
      "metadata": {
        "id": "zTrFSMAySQ9S"
      },
      "execution_count": null,
      "outputs": []
    }
  ]
}
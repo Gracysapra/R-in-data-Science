{
  "cells": [
    {
      "cell_type": "markdown",
      "metadata": {
        "id": "HB-2peKRPpR6"
      },
      "source": [
        "<h1> R programming </h1>"
      ]
    },
    {
      "cell_type": "markdown",
      "metadata": {
        "id": "cHukH680Si7_"
      },
      "source": [
        "<h2> Data Preparation </h2>"
      ]
    },
    {
      "cell_type": "markdown",
      "metadata": {
        "id": "wWkuNvK4YQNz"
      },
      "source": [
        "<h3>Step 1: Defining the Problem Statement</h3>\n",
        "\n",
        "<h4>Overview:</h4>\n",
        "<p>Defining the problem statement is the foundational step in data preparation and analysis. This involves understanding the objective, key questions, and the scope of the analysis.</p>\n",
        "\n",
        "<h4>How to Define a Problem Statement:</h4>\n",
        "<ul>\n",
        "  <li><b>Understand the Business Context:</b> Engage with stakeholders, ask questions about the problem and decisions needed.</li>\n",
        "  <li><b>Identify Key Objectives:</b> Determine primary and secondary objectives (e.g., identify products with high sales velocity).</li>\n",
        "  <li><b>Formulate the Problem Statement:</b> Convert business objectives into a precise, actionable problem statement.</li>\n",
        "  <li><b>Scope the Data Required:</b> Decide on the necessary data (e.g., product IDs, sales, customer demographics).</li>\n",
        "  <li><b>Set Success Criteria:</b> Define how success will be measured (e.g., accurate demand forecasting).</li>\n",
        "</ul>"
      ]
    },
    {
      "cell_type": "markdown",
      "metadata": {
        "id": "VdS809WWZFHv"
      },
      "source": [
        "<h3>Step 2: Data Collection</h3>\n",
        "\n",
        "<h4>Importing Data into R:</h4>\n",
        "<p>Use R to load the collected data:</p>\n",
        "<ul>\n",
        "  <li><b>CSV Files:</b> Use functions like <code>read.csv()</code> or <code>read.table()</code>.</li>\n",
        "  <li><b>Text Files:</b> Use <code>read.delim()</code> for tab-delimited data.</li>\n",
        "  <li><b>JSON Files:</b> Use the <code>rjson</code> package to read and convert JSON files.</li>\n",
        "  <li><b>Excel Files:</b> Use the <code>readxl</code> package to handle Excel files.</li>\n",
        "</ul>\n"
      ]
    },
    {
      "cell_type": "code",
      "execution_count": null,
      "metadata": {
        "colab": {
          "base_uri": "https://localhost:8080/",
          "height": 1000
        },
        "collapsed": true,
        "id": "vZKLbbdcNomK",
        "outputId": "f2b525dc-6007-4224-b65e-77da3e07a4b2"
      },
      "outputs": [
        {
          "data": {
            "text/html": [
              "<table class=\"dataframe\">\n",
              "<caption>A data.frame: 6 × 16</caption>\n",
              "<thead>\n",
              "\t<tr><th></th><th scope=col>Poster_Link</th><th scope=col>Series_Title</th><th scope=col>Released_Year</th><th scope=col>Certificate</th><th scope=col>Runtime</th><th scope=col>Genre</th><th scope=col>IMDB_Rating</th><th scope=col>Overview</th><th scope=col>Meta_score</th><th scope=col>Director</th><th scope=col>Star1</th><th scope=col>Star2</th><th scope=col>Star3</th><th scope=col>Star4</th><th scope=col>No_of_Votes</th><th scope=col>Gross</th></tr>\n",
              "\t<tr><th></th><th scope=col>&lt;chr&gt;</th><th scope=col>&lt;chr&gt;</th><th scope=col>&lt;chr&gt;</th><th scope=col>&lt;chr&gt;</th><th scope=col>&lt;chr&gt;</th><th scope=col>&lt;chr&gt;</th><th scope=col>&lt;dbl&gt;</th><th scope=col>&lt;chr&gt;</th><th scope=col>&lt;int&gt;</th><th scope=col>&lt;chr&gt;</th><th scope=col>&lt;chr&gt;</th><th scope=col>&lt;chr&gt;</th><th scope=col>&lt;chr&gt;</th><th scope=col>&lt;chr&gt;</th><th scope=col>&lt;int&gt;</th><th scope=col>&lt;chr&gt;</th></tr>\n",
              "</thead>\n",
              "<tbody>\n",
              "\t<tr><th scope=row>1</th><td>https://m.media-amazon.com/images/M/MV5BMDFkYTc0MGEtZmNhMC00ZDIzLWFmNTEtODM1ZmRlYWMwMWFmXkEyXkFqcGdeQXVyMTMxODk2OTU@._V1_UX67_CR0,0,67,98_AL_.jpg</td><td>The Shawshank Redemption                     </td><td>1994</td><td>A </td><td>142 min</td><td>Drama                   </td><td>9.3</td><td>Two imprisoned men bond over a number of years, finding solace and eventual redemption through acts of common decency.                                                                       </td><td> 80</td><td>Frank Darabont      </td><td>Tim Robbins   </td><td>Morgan Freeman </td><td>Bob Gunton   </td><td>William Sadler</td><td>2343110</td><td>28,341,469 </td></tr>\n",
              "\t<tr><th scope=row>2</th><td>https://m.media-amazon.com/images/M/MV5BM2MyNjYxNmUtYTAwNi00MTYxLWJmNWYtYzZlODY3ZTk3OTFlXkEyXkFqcGdeQXVyNzkwMjQ5NzM@._V1_UY98_CR1,0,67,98_AL_.jpg</td><td>The Godfather                                </td><td>1972</td><td>A </td><td>175 min</td><td>Crime, Drama            </td><td>9.2</td><td>An organized crime dynasty's aging patriarch transfers control of his clandestine empire to his reluctant son.                                                                               </td><td>100</td><td>Francis Ford Coppola</td><td>Marlon Brando </td><td>Al Pacino      </td><td>James Caan   </td><td>Diane Keaton  </td><td>1620367</td><td>134,966,411</td></tr>\n",
              "\t<tr><th scope=row>3</th><td>https://m.media-amazon.com/images/M/MV5BMTMxNTMwODM0NF5BMl5BanBnXkFtZTcwODAyMTk2Mw@@._V1_UX67_CR0,0,67,98_AL_.jpg                                </td><td>The Dark Knight                              </td><td>2008</td><td>UA</td><td>152 min</td><td>Action, Crime, Drama    </td><td>9.0</td><td>When the menace known as the Joker wreaks havoc and chaos on the people of Gotham, Batman must accept one of the greatest psychological and physical tests of his ability to fight injustice.</td><td> 84</td><td>Christopher Nolan   </td><td>Christian Bale</td><td>Heath Ledger   </td><td>Aaron Eckhart</td><td>Michael Caine </td><td>2303232</td><td>534,858,444</td></tr>\n",
              "\t<tr><th scope=row>4</th><td>https://m.media-amazon.com/images/M/MV5BMWMwMGQzZTItY2JlNC00OWZiLWIyMDctNDk2ZDQ2YjRjMWQ0XkEyXkFqcGdeQXVyNzkwMjQ5NzM@._V1_UY98_CR1,0,67,98_AL_.jpg</td><td>The Godfather: Part II                       </td><td>1974</td><td>A </td><td>202 min</td><td>Crime, Drama            </td><td>9.0</td><td>The early life and career of Vito Corleone in 1920s New York City is portrayed, while his son, Michael, expands and tightens his grip on the family crime syndicate.                         </td><td> 90</td><td>Francis Ford Coppola</td><td>Al Pacino     </td><td>Robert De Niro </td><td>Robert Duvall</td><td>Diane Keaton  </td><td>1129952</td><td>57,300,000 </td></tr>\n",
              "\t<tr><th scope=row>5</th><td>https://m.media-amazon.com/images/M/MV5BMWU4N2FjNzYtNTVkNC00NzQ0LTg0MjAtYTJlMjFhNGUxZDFmXkEyXkFqcGdeQXVyNjc1NTYyMjg@._V1_UX67_CR0,0,67,98_AL_.jpg</td><td>12 Angry Men                                 </td><td>1957</td><td>U </td><td>96 min </td><td>Crime, Drama            </td><td>9.0</td><td>A jury holdout attempts to prevent a miscarriage of justice by forcing his colleagues to reconsider the evidence.                                                                            </td><td> 96</td><td>Sidney Lumet        </td><td>Henry Fonda   </td><td>Lee J. Cobb    </td><td>Martin Balsam</td><td>John Fiedler  </td><td> 689845</td><td>4,360,000  </td></tr>\n",
              "\t<tr><th scope=row>6</th><td>https://m.media-amazon.com/images/M/MV5BNzA5ZDNlZWMtM2NhNS00NDJjLTk4NDItYTRmY2EwMWZlMTY3XkEyXkFqcGdeQXVyNzkwMjQ5NzM@._V1_UX67_CR0,0,67,98_AL_.jpg</td><td>The Lord of the Rings: The Return of the King</td><td>2003</td><td>U </td><td>201 min</td><td>Action, Adventure, Drama</td><td>8.9</td><td>Gandalf and Aragorn lead the World of Men against Sauron's army to draw his gaze from Frodo and Sam as they approach Mount Doom with the One Ring.                                           </td><td> 94</td><td>Peter Jackson       </td><td>Elijah Wood   </td><td>Viggo Mortensen</td><td>Ian McKellen </td><td>Orlando Bloom </td><td>1642758</td><td>377,845,905</td></tr>\n",
              "</tbody>\n",
              "</table>\n"
            ],
            "text/latex": "A data.frame: 6 × 16\n\\begin{tabular}{r|llllllllllllllll}\n  & Poster\\_Link & Series\\_Title & Released\\_Year & Certificate & Runtime & Genre & IMDB\\_Rating & Overview & Meta\\_score & Director & Star1 & Star2 & Star3 & Star4 & No\\_of\\_Votes & Gross\\\\\n  & <chr> & <chr> & <chr> & <chr> & <chr> & <chr> & <dbl> & <chr> & <int> & <chr> & <chr> & <chr> & <chr> & <chr> & <int> & <chr>\\\\\n\\hline\n\t1 & https://m.media-amazon.com/images/M/MV5BMDFkYTc0MGEtZmNhMC00ZDIzLWFmNTEtODM1ZmRlYWMwMWFmXkEyXkFqcGdeQXVyMTMxODk2OTU@.\\_V1\\_UX67\\_CR0,0,67,98\\_AL\\_.jpg & The Shawshank Redemption                      & 1994 & A  & 142 min & Drama                    & 9.3 & Two imprisoned men bond over a number of years, finding solace and eventual redemption through acts of common decency.                                                                        &  80 & Frank Darabont       & Tim Robbins    & Morgan Freeman  & Bob Gunton    & William Sadler & 2343110 & 28,341,469 \\\\\n\t2 & https://m.media-amazon.com/images/M/MV5BM2MyNjYxNmUtYTAwNi00MTYxLWJmNWYtYzZlODY3ZTk3OTFlXkEyXkFqcGdeQXVyNzkwMjQ5NzM@.\\_V1\\_UY98\\_CR1,0,67,98\\_AL\\_.jpg & The Godfather                                 & 1972 & A  & 175 min & Crime, Drama             & 9.2 & An organized crime dynasty's aging patriarch transfers control of his clandestine empire to his reluctant son.                                                                                & 100 & Francis Ford Coppola & Marlon Brando  & Al Pacino       & James Caan    & Diane Keaton   & 1620367 & 134,966,411\\\\\n\t3 & https://m.media-amazon.com/images/M/MV5BMTMxNTMwODM0NF5BMl5BanBnXkFtZTcwODAyMTk2Mw@@.\\_V1\\_UX67\\_CR0,0,67,98\\_AL\\_.jpg                                 & The Dark Knight                               & 2008 & UA & 152 min & Action, Crime, Drama     & 9.0 & When the menace known as the Joker wreaks havoc and chaos on the people of Gotham, Batman must accept one of the greatest psychological and physical tests of his ability to fight injustice. &  84 & Christopher Nolan    & Christian Bale & Heath Ledger    & Aaron Eckhart & Michael Caine  & 2303232 & 534,858,444\\\\\n\t4 & https://m.media-amazon.com/images/M/MV5BMWMwMGQzZTItY2JlNC00OWZiLWIyMDctNDk2ZDQ2YjRjMWQ0XkEyXkFqcGdeQXVyNzkwMjQ5NzM@.\\_V1\\_UY98\\_CR1,0,67,98\\_AL\\_.jpg & The Godfather: Part II                        & 1974 & A  & 202 min & Crime, Drama             & 9.0 & The early life and career of Vito Corleone in 1920s New York City is portrayed, while his son, Michael, expands and tightens his grip on the family crime syndicate.                          &  90 & Francis Ford Coppola & Al Pacino      & Robert De Niro  & Robert Duvall & Diane Keaton   & 1129952 & 57,300,000 \\\\\n\t5 & https://m.media-amazon.com/images/M/MV5BMWU4N2FjNzYtNTVkNC00NzQ0LTg0MjAtYTJlMjFhNGUxZDFmXkEyXkFqcGdeQXVyNjc1NTYyMjg@.\\_V1\\_UX67\\_CR0,0,67,98\\_AL\\_.jpg & 12 Angry Men                                  & 1957 & U  & 96 min  & Crime, Drama             & 9.0 & A jury holdout attempts to prevent a miscarriage of justice by forcing his colleagues to reconsider the evidence.                                                                             &  96 & Sidney Lumet         & Henry Fonda    & Lee J. Cobb     & Martin Balsam & John Fiedler   &  689845 & 4,360,000  \\\\\n\t6 & https://m.media-amazon.com/images/M/MV5BNzA5ZDNlZWMtM2NhNS00NDJjLTk4NDItYTRmY2EwMWZlMTY3XkEyXkFqcGdeQXVyNzkwMjQ5NzM@.\\_V1\\_UX67\\_CR0,0,67,98\\_AL\\_.jpg & The Lord of the Rings: The Return of the King & 2003 & U  & 201 min & Action, Adventure, Drama & 8.9 & Gandalf and Aragorn lead the World of Men against Sauron's army to draw his gaze from Frodo and Sam as they approach Mount Doom with the One Ring.                                            &  94 & Peter Jackson        & Elijah Wood    & Viggo Mortensen & Ian McKellen  & Orlando Bloom  & 1642758 & 377,845,905\\\\\n\\end{tabular}\n",
            "text/markdown": "\nA data.frame: 6 × 16\n\n| <!--/--> | Poster_Link &lt;chr&gt; | Series_Title &lt;chr&gt; | Released_Year &lt;chr&gt; | Certificate &lt;chr&gt; | Runtime &lt;chr&gt; | Genre &lt;chr&gt; | IMDB_Rating &lt;dbl&gt; | Overview &lt;chr&gt; | Meta_score &lt;int&gt; | Director &lt;chr&gt; | Star1 &lt;chr&gt; | Star2 &lt;chr&gt; | Star3 &lt;chr&gt; | Star4 &lt;chr&gt; | No_of_Votes &lt;int&gt; | Gross &lt;chr&gt; |\n|---|---|---|---|---|---|---|---|---|---|---|---|---|---|---|---|---|\n| 1 | https://m.media-amazon.com/images/M/MV5BMDFkYTc0MGEtZmNhMC00ZDIzLWFmNTEtODM1ZmRlYWMwMWFmXkEyXkFqcGdeQXVyMTMxODk2OTU@._V1_UX67_CR0,0,67,98_AL_.jpg | The Shawshank Redemption                      | 1994 | A  | 142 min | Drama                    | 9.3 | Two imprisoned men bond over a number of years, finding solace and eventual redemption through acts of common decency.                                                                        |  80 | Frank Darabont       | Tim Robbins    | Morgan Freeman  | Bob Gunton    | William Sadler | 2343110 | 28,341,469  |\n| 2 | https://m.media-amazon.com/images/M/MV5BM2MyNjYxNmUtYTAwNi00MTYxLWJmNWYtYzZlODY3ZTk3OTFlXkEyXkFqcGdeQXVyNzkwMjQ5NzM@._V1_UY98_CR1,0,67,98_AL_.jpg | The Godfather                                 | 1972 | A  | 175 min | Crime, Drama             | 9.2 | An organized crime dynasty's aging patriarch transfers control of his clandestine empire to his reluctant son.                                                                                | 100 | Francis Ford Coppola | Marlon Brando  | Al Pacino       | James Caan    | Diane Keaton   | 1620367 | 134,966,411 |\n| 3 | https://m.media-amazon.com/images/M/MV5BMTMxNTMwODM0NF5BMl5BanBnXkFtZTcwODAyMTk2Mw@@._V1_UX67_CR0,0,67,98_AL_.jpg                                 | The Dark Knight                               | 2008 | UA | 152 min | Action, Crime, Drama     | 9.0 | When the menace known as the Joker wreaks havoc and chaos on the people of Gotham, Batman must accept one of the greatest psychological and physical tests of his ability to fight injustice. |  84 | Christopher Nolan    | Christian Bale | Heath Ledger    | Aaron Eckhart | Michael Caine  | 2303232 | 534,858,444 |\n| 4 | https://m.media-amazon.com/images/M/MV5BMWMwMGQzZTItY2JlNC00OWZiLWIyMDctNDk2ZDQ2YjRjMWQ0XkEyXkFqcGdeQXVyNzkwMjQ5NzM@._V1_UY98_CR1,0,67,98_AL_.jpg | The Godfather: Part II                        | 1974 | A  | 202 min | Crime, Drama             | 9.0 | The early life and career of Vito Corleone in 1920s New York City is portrayed, while his son, Michael, expands and tightens his grip on the family crime syndicate.                          |  90 | Francis Ford Coppola | Al Pacino      | Robert De Niro  | Robert Duvall | Diane Keaton   | 1129952 | 57,300,000  |\n| 5 | https://m.media-amazon.com/images/M/MV5BMWU4N2FjNzYtNTVkNC00NzQ0LTg0MjAtYTJlMjFhNGUxZDFmXkEyXkFqcGdeQXVyNjc1NTYyMjg@._V1_UX67_CR0,0,67,98_AL_.jpg | 12 Angry Men                                  | 1957 | U  | 96 min  | Crime, Drama             | 9.0 | A jury holdout attempts to prevent a miscarriage of justice by forcing his colleagues to reconsider the evidence.                                                                             |  96 | Sidney Lumet         | Henry Fonda    | Lee J. Cobb     | Martin Balsam | John Fiedler   |  689845 | 4,360,000   |\n| 6 | https://m.media-amazon.com/images/M/MV5BNzA5ZDNlZWMtM2NhNS00NDJjLTk4NDItYTRmY2EwMWZlMTY3XkEyXkFqcGdeQXVyNzkwMjQ5NzM@._V1_UX67_CR0,0,67,98_AL_.jpg | The Lord of the Rings: The Return of the King | 2003 | U  | 201 min | Action, Adventure, Drama | 8.9 | Gandalf and Aragorn lead the World of Men against Sauron's army to draw his gaze from Frodo and Sam as they approach Mount Doom with the One Ring.                                            |  94 | Peter Jackson        | Elijah Wood    | Viggo Mortensen | Ian McKellen  | Orlando Bloom  | 1642758 | 377,845,905 |\n\n",
            "text/plain": [
              "  Poster_Link                                                                                                                                      \n",
              "1 https://m.media-amazon.com/images/M/MV5BMDFkYTc0MGEtZmNhMC00ZDIzLWFmNTEtODM1ZmRlYWMwMWFmXkEyXkFqcGdeQXVyMTMxODk2OTU@._V1_UX67_CR0,0,67,98_AL_.jpg\n",
              "2 https://m.media-amazon.com/images/M/MV5BM2MyNjYxNmUtYTAwNi00MTYxLWJmNWYtYzZlODY3ZTk3OTFlXkEyXkFqcGdeQXVyNzkwMjQ5NzM@._V1_UY98_CR1,0,67,98_AL_.jpg\n",
              "3 https://m.media-amazon.com/images/M/MV5BMTMxNTMwODM0NF5BMl5BanBnXkFtZTcwODAyMTk2Mw@@._V1_UX67_CR0,0,67,98_AL_.jpg                                \n",
              "4 https://m.media-amazon.com/images/M/MV5BMWMwMGQzZTItY2JlNC00OWZiLWIyMDctNDk2ZDQ2YjRjMWQ0XkEyXkFqcGdeQXVyNzkwMjQ5NzM@._V1_UY98_CR1,0,67,98_AL_.jpg\n",
              "5 https://m.media-amazon.com/images/M/MV5BMWU4N2FjNzYtNTVkNC00NzQ0LTg0MjAtYTJlMjFhNGUxZDFmXkEyXkFqcGdeQXVyNjc1NTYyMjg@._V1_UX67_CR0,0,67,98_AL_.jpg\n",
              "6 https://m.media-amazon.com/images/M/MV5BNzA5ZDNlZWMtM2NhNS00NDJjLTk4NDItYTRmY2EwMWZlMTY3XkEyXkFqcGdeQXVyNzkwMjQ5NzM@._V1_UX67_CR0,0,67,98_AL_.jpg\n",
              "  Series_Title                                  Released_Year Certificate\n",
              "1 The Shawshank Redemption                      1994          A          \n",
              "2 The Godfather                                 1972          A          \n",
              "3 The Dark Knight                               2008          UA         \n",
              "4 The Godfather: Part II                        1974          A          \n",
              "5 12 Angry Men                                  1957          U          \n",
              "6 The Lord of the Rings: The Return of the King 2003          U          \n",
              "  Runtime Genre                    IMDB_Rating\n",
              "1 142 min Drama                    9.3        \n",
              "2 175 min Crime, Drama             9.2        \n",
              "3 152 min Action, Crime, Drama     9.0        \n",
              "4 202 min Crime, Drama             9.0        \n",
              "5 96 min  Crime, Drama             9.0        \n",
              "6 201 min Action, Adventure, Drama 8.9        \n",
              "  Overview                                                                                                                                                                                     \n",
              "1 Two imprisoned men bond over a number of years, finding solace and eventual redemption through acts of common decency.                                                                       \n",
              "2 An organized crime dynasty's aging patriarch transfers control of his clandestine empire to his reluctant son.                                                                               \n",
              "3 When the menace known as the Joker wreaks havoc and chaos on the people of Gotham, Batman must accept one of the greatest psychological and physical tests of his ability to fight injustice.\n",
              "4 The early life and career of Vito Corleone in 1920s New York City is portrayed, while his son, Michael, expands and tightens his grip on the family crime syndicate.                         \n",
              "5 A jury holdout attempts to prevent a miscarriage of justice by forcing his colleagues to reconsider the evidence.                                                                            \n",
              "6 Gandalf and Aragorn lead the World of Men against Sauron's army to draw his gaze from Frodo and Sam as they approach Mount Doom with the One Ring.                                           \n",
              "  Meta_score Director             Star1          Star2           Star3        \n",
              "1  80        Frank Darabont       Tim Robbins    Morgan Freeman  Bob Gunton   \n",
              "2 100        Francis Ford Coppola Marlon Brando  Al Pacino       James Caan   \n",
              "3  84        Christopher Nolan    Christian Bale Heath Ledger    Aaron Eckhart\n",
              "4  90        Francis Ford Coppola Al Pacino      Robert De Niro  Robert Duvall\n",
              "5  96        Sidney Lumet         Henry Fonda    Lee J. Cobb     Martin Balsam\n",
              "6  94        Peter Jackson        Elijah Wood    Viggo Mortensen Ian McKellen \n",
              "  Star4          No_of_Votes Gross      \n",
              "1 William Sadler 2343110     28,341,469 \n",
              "2 Diane Keaton   1620367     134,966,411\n",
              "3 Michael Caine  2303232     534,858,444\n",
              "4 Diane Keaton   1129952     57,300,000 \n",
              "5 John Fiedler    689845     4,360,000  \n",
              "6 Orlando Bloom  1642758     377,845,905"
            ]
          },
          "metadata": {},
          "output_type": "display_data"
        }
      ],
      "source": [
        "# Import CSV file\n",
        "url= \"/content/imdb_top_1000.csv\"\n",
        "data_csv <- read.csv(url)\n",
        "# Display the first few rows of the data\n",
        "head(data_csv)"
      ]
    },
    {
      "cell_type": "code",
      "execution_count": null,
      "metadata": {
        "colab": {
          "base_uri": "https://localhost:8080/"
        },
        "id": "FSEO3EagNoWq",
        "outputId": "5df31023-75fe-4b93-a5ae-122e5f92489f"
      },
      "outputs": [
        {
          "name": "stdout",
          "output_type": "stream",
          "text": [
            "                     mpg cyl  disp  hp drat    wt  qsec vs am gear carb\n",
            "Mazda RX4           21.0   6 160.0 110 3.90 2.620 16.46  0  1    4    4\n",
            "Mazda RX4 Wag       21.0   6 160.0 110 3.90 2.875 17.02  0  1    4    4\n",
            "Datsun 710          22.8   4 108.0  93 3.85 2.320 18.61  1  1    4    1\n",
            "Hornet 4 Drive      21.4   6 258.0 110 3.08 3.215 19.44  1  0    3    1\n",
            "Hornet Sportabout   18.7   8 360.0 175 3.15 3.440 17.02  0  0    3    2\n",
            "Valiant             18.1   6 225.0 105 2.76 3.460 20.22  1  0    3    1\n",
            "Duster 360          14.3   8 360.0 245 3.21 3.570 15.84  0  0    3    4\n",
            "Merc 240D           24.4   4 146.7  62 3.69 3.190 20.00  1  0    4    2\n",
            "Merc 230            22.8   4 140.8  95 3.92 3.150 22.90  1  0    4    2\n",
            "Merc 280            19.2   6 167.6 123 3.92 3.440 18.30  1  0    4    4\n",
            "Merc 280C           17.8   6 167.6 123 3.92 3.440 18.90  1  0    4    4\n",
            "Merc 450SE          16.4   8 275.8 180 3.07 4.070 17.40  0  0    3    3\n",
            "Merc 450SL          17.3   8 275.8 180 3.07 3.730 17.60  0  0    3    3\n",
            "Merc 450SLC         15.2   8 275.8 180 3.07 3.780 18.00  0  0    3    3\n",
            "Cadillac Fleetwood  10.4   8 472.0 205 2.93 5.250 17.98  0  0    3    4\n",
            "Lincoln Continental 10.4   8 460.0 215 3.00 5.424 17.82  0  0    3    4\n",
            "Chrysler Imperial   14.7   8 440.0 230 3.23 5.345 17.42  0  0    3    4\n",
            "Fiat 128            32.4   4  78.7  66 4.08 2.200 19.47  1  1    4    1\n",
            "Honda Civic         30.4   4  75.7  52 4.93 1.615 18.52  1  1    4    2\n",
            "Toyota Corolla      33.9   4  71.1  65 4.22 1.835 19.90  1  1    4    1\n",
            "Toyota Corona       21.5   4 120.1  97 3.70 2.465 20.01  1  0    3    1\n",
            "Dodge Challenger    15.5   8 318.0 150 2.76 3.520 16.87  0  0    3    2\n",
            "AMC Javelin         15.2   8 304.0 150 3.15 3.435 17.30  0  0    3    2\n",
            "Camaro Z28          13.3   8 350.0 245 3.73 3.840 15.41  0  0    3    4\n",
            "Pontiac Firebird    19.2   8 400.0 175 3.08 3.845 17.05  0  0    3    2\n",
            "Fiat X1-9           27.3   4  79.0  66 4.08 1.935 18.90  1  1    4    1\n",
            "Porsche 914-2       26.0   4 120.3  91 4.43 2.140 16.70  0  1    5    2\n",
            "Lotus Europa        30.4   4  95.1 113 3.77 1.513 16.90  1  1    5    2\n",
            "Ford Pantera L      15.8   8 351.0 264 4.22 3.170 14.50  0  1    5    4\n",
            "Ferrari Dino        19.7   6 145.0 175 3.62 2.770 15.50  0  1    5    6\n",
            "Maserati Bora       15.0   8 301.0 335 3.54 3.570 14.60  0  1    5    8\n",
            "Volvo 142E          21.4   4 121.0 109 4.11 2.780 18.60  1  1    4    2\n"
          ]
        }
      ],
      "source": [
        "# dataset in R\n",
        "print(mtcars)\n",
        "?mtcars # Use the question mark to get information about the data set"
      ]
    },
    {
      "cell_type": "markdown",
      "metadata": {
        "id": "nOL03pFJl3WC"
      },
      "source": [
        "<h3> Step 3: Data Preprocessing"
      ]
    },
    {
      "cell_type": "code",
      "execution_count": null,
      "metadata": {
        "colab": {
          "base_uri": "https://localhost:8080/",
          "height": 225
        },
        "id": "uj1ABl8dctA6",
        "outputId": "9dd6c756-c252-474c-e386-de0b00da90f3"
      },
      "outputs": [
        {
          "data": {
            "text/html": [
              "<style>\n",
              ".list-inline {list-style: none; margin:0; padding: 0}\n",
              ".list-inline>li {display: inline-block}\n",
              ".list-inline>li:not(:last-child)::after {content: \"\\00b7\"; padding: 0 .5ex}\n",
              "</style>\n",
              "<ol class=list-inline><li>1000</li><li>16</li></ol>\n"
            ],
            "text/latex": "\\begin{enumerate*}\n\\item 1000\n\\item 16\n\\end{enumerate*}\n",
            "text/markdown": "1. 1000\n2. 16\n\n\n",
            "text/plain": [
              "[1] 1000   16"
            ]
          },
          "metadata": {},
          "output_type": "display_data"
        },
        {
          "data": {
            "text/html": [
              "<style>\n",
              ".list-inline {list-style: none; margin:0; padding: 0}\n",
              ".list-inline>li {display: inline-block}\n",
              ".list-inline>li:not(:last-child)::after {content: \"\\00b7\"; padding: 0 .5ex}\n",
              "</style>\n",
              "<ol class=list-inline><li>'Poster_Link'</li><li>'Series_Title'</li><li>'Released_Year'</li><li>'Certificate'</li><li>'Runtime'</li><li>'Genre'</li><li>'IMDB_Rating'</li><li>'Overview'</li><li>'Meta_score'</li><li>'Director'</li><li>'Star1'</li><li>'Star2'</li><li>'Star3'</li><li>'Star4'</li><li>'No_of_Votes'</li><li>'Gross'</li></ol>\n"
            ],
            "text/latex": "\\begin{enumerate*}\n\\item 'Poster\\_Link'\n\\item 'Series\\_Title'\n\\item 'Released\\_Year'\n\\item 'Certificate'\n\\item 'Runtime'\n\\item 'Genre'\n\\item 'IMDB\\_Rating'\n\\item 'Overview'\n\\item 'Meta\\_score'\n\\item 'Director'\n\\item 'Star1'\n\\item 'Star2'\n\\item 'Star3'\n\\item 'Star4'\n\\item 'No\\_of\\_Votes'\n\\item 'Gross'\n\\end{enumerate*}\n",
            "text/markdown": "1. 'Poster_Link'\n2. 'Series_Title'\n3. 'Released_Year'\n4. 'Certificate'\n5. 'Runtime'\n6. 'Genre'\n7. 'IMDB_Rating'\n8. 'Overview'\n9. 'Meta_score'\n10. 'Director'\n11. 'Star1'\n12. 'Star2'\n13. 'Star3'\n14. 'Star4'\n15. 'No_of_Votes'\n16. 'Gross'\n\n\n",
            "text/plain": [
              " [1] \"Poster_Link\"   \"Series_Title\"  \"Released_Year\" \"Certificate\"  \n",
              " [5] \"Runtime\"       \"Genre\"         \"IMDB_Rating\"   \"Overview\"     \n",
              " [9] \"Meta_score\"    \"Director\"      \"Star1\"         \"Star2\"        \n",
              "[13] \"Star3\"         \"Star4\"         \"No_of_Votes\"   \"Gross\"        "
            ]
          },
          "metadata": {},
          "output_type": "display_data"
        },
        {
          "data": {
            "text/html": [
              "<style>\n",
              ".list-inline {list-style: none; margin:0; padding: 0}\n",
              ".list-inline>li {display: inline-block}\n",
              ".list-inline>li:not(:last-child)::after {content: \"\\00b7\"; padding: 0 .5ex}\n",
              "</style>\n",
              "<ol class=list-inline><li>'1'</li><li>'2'</li><li>'3'</li><li>'4'</li><li>'5'</li><li>'6'</li><li>'7'</li><li>'8'</li><li>'9'</li><li>'10'</li><li>'11'</li><li>'12'</li><li>'13'</li><li>'14'</li><li>'15'</li><li>'16'</li><li>'17'</li><li>'18'</li><li>'19'</li><li>'20'</li><li>'21'</li><li>'22'</li><li>'23'</li><li>'24'</li><li>'25'</li><li>'26'</li><li>'27'</li><li>'28'</li><li>'29'</li><li>'30'</li><li>'31'</li><li>'32'</li><li>'33'</li><li>'34'</li><li>'35'</li><li>'36'</li><li>'37'</li><li>'38'</li><li>'39'</li><li>'40'</li><li>'41'</li><li>'42'</li><li>'43'</li><li>'44'</li><li>'45'</li><li>'46'</li><li>'47'</li><li>'48'</li><li>'49'</li><li>'50'</li><li>'51'</li><li>'52'</li><li>'53'</li><li>'54'</li><li>'55'</li><li>'56'</li><li>'57'</li><li>'58'</li><li>'59'</li><li>'60'</li><li>'61'</li><li>'62'</li><li>'63'</li><li>'64'</li><li>'65'</li><li>'66'</li><li>'67'</li><li>'68'</li><li>'69'</li><li>'70'</li><li>'71'</li><li>'72'</li><li>'73'</li><li>'74'</li><li>'75'</li><li>'76'</li><li>'77'</li><li>'78'</li><li>'79'</li><li>'80'</li><li>'81'</li><li>'82'</li><li>'83'</li><li>'84'</li><li>'85'</li><li>'86'</li><li>'87'</li><li>'88'</li><li>'89'</li><li>'90'</li><li>'91'</li><li>'92'</li><li>'93'</li><li>'94'</li><li>'95'</li><li>'96'</li><li>'97'</li><li>'98'</li><li>'99'</li><li>'100'</li><li>'101'</li><li>'102'</li><li>'103'</li><li>'104'</li><li>'105'</li><li>'106'</li><li>'107'</li><li>'108'</li><li>'109'</li><li>'110'</li><li>'111'</li><li>'112'</li><li>'113'</li><li>'114'</li><li>'115'</li><li>'116'</li><li>'117'</li><li>'118'</li><li>'119'</li><li>'120'</li><li>'121'</li><li>'122'</li><li>'123'</li><li>'124'</li><li>'125'</li><li>'126'</li><li>'127'</li><li>'128'</li><li>'129'</li><li>'130'</li><li>'131'</li><li>'132'</li><li>'133'</li><li>'134'</li><li>'135'</li><li>'136'</li><li>'137'</li><li>'138'</li><li>'139'</li><li>'140'</li><li>'141'</li><li>'142'</li><li>'143'</li><li>'144'</li><li>'145'</li><li>'146'</li><li>'147'</li><li>'148'</li><li>'149'</li><li>'150'</li><li>'151'</li><li>'152'</li><li>'153'</li><li>'154'</li><li>'155'</li><li>'156'</li><li>'157'</li><li>'158'</li><li>'159'</li><li>'160'</li><li>'161'</li><li>'162'</li><li>'163'</li><li>'164'</li><li>'165'</li><li>'166'</li><li>'167'</li><li>'168'</li><li>'169'</li><li>'170'</li><li>'171'</li><li>'172'</li><li>'173'</li><li>'174'</li><li>'175'</li><li>'176'</li><li>'177'</li><li>'178'</li><li>'179'</li><li>'180'</li><li>'181'</li><li>'182'</li><li>'183'</li><li>'184'</li><li>'185'</li><li>'186'</li><li>'187'</li><li>'188'</li><li>'189'</li><li>'190'</li><li>'191'</li><li>'192'</li><li>'193'</li><li>'194'</li><li>'195'</li><li>'196'</li><li>'197'</li><li>'198'</li><li>'199'</li><li>'200'</li><li>⋯</li><li>'801'</li><li>'802'</li><li>'803'</li><li>'804'</li><li>'805'</li><li>'806'</li><li>'807'</li><li>'808'</li><li>'809'</li><li>'810'</li><li>'811'</li><li>'812'</li><li>'813'</li><li>'814'</li><li>'815'</li><li>'816'</li><li>'817'</li><li>'818'</li><li>'819'</li><li>'820'</li><li>'821'</li><li>'822'</li><li>'823'</li><li>'824'</li><li>'825'</li><li>'826'</li><li>'827'</li><li>'828'</li><li>'829'</li><li>'830'</li><li>'831'</li><li>'832'</li><li>'833'</li><li>'834'</li><li>'835'</li><li>'836'</li><li>'837'</li><li>'838'</li><li>'839'</li><li>'840'</li><li>'841'</li><li>'842'</li><li>'843'</li><li>'844'</li><li>'845'</li><li>'846'</li><li>'847'</li><li>'848'</li><li>'849'</li><li>'850'</li><li>'851'</li><li>'852'</li><li>'853'</li><li>'854'</li><li>'855'</li><li>'856'</li><li>'857'</li><li>'858'</li><li>'859'</li><li>'860'</li><li>'861'</li><li>'862'</li><li>'863'</li><li>'864'</li><li>'865'</li><li>'866'</li><li>'867'</li><li>'868'</li><li>'869'</li><li>'870'</li><li>'871'</li><li>'872'</li><li>'873'</li><li>'874'</li><li>'875'</li><li>'876'</li><li>'877'</li><li>'878'</li><li>'879'</li><li>'880'</li><li>'881'</li><li>'882'</li><li>'883'</li><li>'884'</li><li>'885'</li><li>'886'</li><li>'887'</li><li>'888'</li><li>'889'</li><li>'890'</li><li>'891'</li><li>'892'</li><li>'893'</li><li>'894'</li><li>'895'</li><li>'896'</li><li>'897'</li><li>'898'</li><li>'899'</li><li>'900'</li><li>'901'</li><li>'902'</li><li>'903'</li><li>'904'</li><li>'905'</li><li>'906'</li><li>'907'</li><li>'908'</li><li>'909'</li><li>'910'</li><li>'911'</li><li>'912'</li><li>'913'</li><li>'914'</li><li>'915'</li><li>'916'</li><li>'917'</li><li>'918'</li><li>'919'</li><li>'920'</li><li>'921'</li><li>'922'</li><li>'923'</li><li>'924'</li><li>'925'</li><li>'926'</li><li>'927'</li><li>'928'</li><li>'929'</li><li>'930'</li><li>'931'</li><li>'932'</li><li>'933'</li><li>'934'</li><li>'935'</li><li>'936'</li><li>'937'</li><li>'938'</li><li>'939'</li><li>'940'</li><li>'941'</li><li>'942'</li><li>'943'</li><li>'944'</li><li>'945'</li><li>'946'</li><li>'947'</li><li>'948'</li><li>'949'</li><li>'950'</li><li>'951'</li><li>'952'</li><li>'953'</li><li>'954'</li><li>'955'</li><li>'956'</li><li>'957'</li><li>'958'</li><li>'959'</li><li>'960'</li><li>'961'</li><li>'962'</li><li>'963'</li><li>'964'</li><li>'965'</li><li>'966'</li><li>'967'</li><li>'968'</li><li>'969'</li><li>'970'</li><li>'971'</li><li>'972'</li><li>'973'</li><li>'974'</li><li>'975'</li><li>'976'</li><li>'977'</li><li>'978'</li><li>'979'</li><li>'980'</li><li>'981'</li><li>'982'</li><li>'983'</li><li>'984'</li><li>'985'</li><li>'986'</li><li>'987'</li><li>'988'</li><li>'989'</li><li>'990'</li><li>'991'</li><li>'992'</li><li>'993'</li><li>'994'</li><li>'995'</li><li>'996'</li><li>'997'</li><li>'998'</li><li>'999'</li><li>'1000'</li></ol>\n"
            ],
            "text/latex": "\\begin{enumerate*}\n\\item '1'\n\\item '2'\n\\item '3'\n\\item '4'\n\\item '5'\n\\item '6'\n\\item '7'\n\\item '8'\n\\item '9'\n\\item '10'\n\\item '11'\n\\item '12'\n\\item '13'\n\\item '14'\n\\item '15'\n\\item '16'\n\\item '17'\n\\item '18'\n\\item '19'\n\\item '20'\n\\item '21'\n\\item '22'\n\\item '23'\n\\item '24'\n\\item '25'\n\\item '26'\n\\item '27'\n\\item '28'\n\\item '29'\n\\item '30'\n\\item '31'\n\\item '32'\n\\item '33'\n\\item '34'\n\\item '35'\n\\item '36'\n\\item '37'\n\\item '38'\n\\item '39'\n\\item '40'\n\\item '41'\n\\item '42'\n\\item '43'\n\\item '44'\n\\item '45'\n\\item '46'\n\\item '47'\n\\item '48'\n\\item '49'\n\\item '50'\n\\item '51'\n\\item '52'\n\\item '53'\n\\item '54'\n\\item '55'\n\\item '56'\n\\item '57'\n\\item '58'\n\\item '59'\n\\item '60'\n\\item '61'\n\\item '62'\n\\item '63'\n\\item '64'\n\\item '65'\n\\item '66'\n\\item '67'\n\\item '68'\n\\item '69'\n\\item '70'\n\\item '71'\n\\item '72'\n\\item '73'\n\\item '74'\n\\item '75'\n\\item '76'\n\\item '77'\n\\item '78'\n\\item '79'\n\\item '80'\n\\item '81'\n\\item '82'\n\\item '83'\n\\item '84'\n\\item '85'\n\\item '86'\n\\item '87'\n\\item '88'\n\\item '89'\n\\item '90'\n\\item '91'\n\\item '92'\n\\item '93'\n\\item '94'\n\\item '95'\n\\item '96'\n\\item '97'\n\\item '98'\n\\item '99'\n\\item '100'\n\\item '101'\n\\item '102'\n\\item '103'\n\\item '104'\n\\item '105'\n\\item '106'\n\\item '107'\n\\item '108'\n\\item '109'\n\\item '110'\n\\item '111'\n\\item '112'\n\\item '113'\n\\item '114'\n\\item '115'\n\\item '116'\n\\item '117'\n\\item '118'\n\\item '119'\n\\item '120'\n\\item '121'\n\\item '122'\n\\item '123'\n\\item '124'\n\\item '125'\n\\item '126'\n\\item '127'\n\\item '128'\n\\item '129'\n\\item '130'\n\\item '131'\n\\item '132'\n\\item '133'\n\\item '134'\n\\item '135'\n\\item '136'\n\\item '137'\n\\item '138'\n\\item '139'\n\\item '140'\n\\item '141'\n\\item '142'\n\\item '143'\n\\item '144'\n\\item '145'\n\\item '146'\n\\item '147'\n\\item '148'\n\\item '149'\n\\item '150'\n\\item '151'\n\\item '152'\n\\item '153'\n\\item '154'\n\\item '155'\n\\item '156'\n\\item '157'\n\\item '158'\n\\item '159'\n\\item '160'\n\\item '161'\n\\item '162'\n\\item '163'\n\\item '164'\n\\item '165'\n\\item '166'\n\\item '167'\n\\item '168'\n\\item '169'\n\\item '170'\n\\item '171'\n\\item '172'\n\\item '173'\n\\item '174'\n\\item '175'\n\\item '176'\n\\item '177'\n\\item '178'\n\\item '179'\n\\item '180'\n\\item '181'\n\\item '182'\n\\item '183'\n\\item '184'\n\\item '185'\n\\item '186'\n\\item '187'\n\\item '188'\n\\item '189'\n\\item '190'\n\\item '191'\n\\item '192'\n\\item '193'\n\\item '194'\n\\item '195'\n\\item '196'\n\\item '197'\n\\item '198'\n\\item '199'\n\\item '200'\n\\item ⋯\n\\item '801'\n\\item '802'\n\\item '803'\n\\item '804'\n\\item '805'\n\\item '806'\n\\item '807'\n\\item '808'\n\\item '809'\n\\item '810'\n\\item '811'\n\\item '812'\n\\item '813'\n\\item '814'\n\\item '815'\n\\item '816'\n\\item '817'\n\\item '818'\n\\item '819'\n\\item '820'\n\\item '821'\n\\item '822'\n\\item '823'\n\\item '824'\n\\item '825'\n\\item '826'\n\\item '827'\n\\item '828'\n\\item '829'\n\\item '830'\n\\item '831'\n\\item '832'\n\\item '833'\n\\item '834'\n\\item '835'\n\\item '836'\n\\item '837'\n\\item '838'\n\\item '839'\n\\item '840'\n\\item '841'\n\\item '842'\n\\item '843'\n\\item '844'\n\\item '845'\n\\item '846'\n\\item '847'\n\\item '848'\n\\item '849'\n\\item '850'\n\\item '851'\n\\item '852'\n\\item '853'\n\\item '854'\n\\item '855'\n\\item '856'\n\\item '857'\n\\item '858'\n\\item '859'\n\\item '860'\n\\item '861'\n\\item '862'\n\\item '863'\n\\item '864'\n\\item '865'\n\\item '866'\n\\item '867'\n\\item '868'\n\\item '869'\n\\item '870'\n\\item '871'\n\\item '872'\n\\item '873'\n\\item '874'\n\\item '875'\n\\item '876'\n\\item '877'\n\\item '878'\n\\item '879'\n\\item '880'\n\\item '881'\n\\item '882'\n\\item '883'\n\\item '884'\n\\item '885'\n\\item '886'\n\\item '887'\n\\item '888'\n\\item '889'\n\\item '890'\n\\item '891'\n\\item '892'\n\\item '893'\n\\item '894'\n\\item '895'\n\\item '896'\n\\item '897'\n\\item '898'\n\\item '899'\n\\item '900'\n\\item '901'\n\\item '902'\n\\item '903'\n\\item '904'\n\\item '905'\n\\item '906'\n\\item '907'\n\\item '908'\n\\item '909'\n\\item '910'\n\\item '911'\n\\item '912'\n\\item '913'\n\\item '914'\n\\item '915'\n\\item '916'\n\\item '917'\n\\item '918'\n\\item '919'\n\\item '920'\n\\item '921'\n\\item '922'\n\\item '923'\n\\item '924'\n\\item '925'\n\\item '926'\n\\item '927'\n\\item '928'\n\\item '929'\n\\item '930'\n\\item '931'\n\\item '932'\n\\item '933'\n\\item '934'\n\\item '935'\n\\item '936'\n\\item '937'\n\\item '938'\n\\item '939'\n\\item '940'\n\\item '941'\n\\item '942'\n\\item '943'\n\\item '944'\n\\item '945'\n\\item '946'\n\\item '947'\n\\item '948'\n\\item '949'\n\\item '950'\n\\item '951'\n\\item '952'\n\\item '953'\n\\item '954'\n\\item '955'\n\\item '956'\n\\item '957'\n\\item '958'\n\\item '959'\n\\item '960'\n\\item '961'\n\\item '962'\n\\item '963'\n\\item '964'\n\\item '965'\n\\item '966'\n\\item '967'\n\\item '968'\n\\item '969'\n\\item '970'\n\\item '971'\n\\item '972'\n\\item '973'\n\\item '974'\n\\item '975'\n\\item '976'\n\\item '977'\n\\item '978'\n\\item '979'\n\\item '980'\n\\item '981'\n\\item '982'\n\\item '983'\n\\item '984'\n\\item '985'\n\\item '986'\n\\item '987'\n\\item '988'\n\\item '989'\n\\item '990'\n\\item '991'\n\\item '992'\n\\item '993'\n\\item '994'\n\\item '995'\n\\item '996'\n\\item '997'\n\\item '998'\n\\item '999'\n\\item '1000'\n\\end{enumerate*}\n",
            "text/markdown": "1. '1'\n2. '2'\n3. '3'\n4. '4'\n5. '5'\n6. '6'\n7. '7'\n8. '8'\n9. '9'\n10. '10'\n11. '11'\n12. '12'\n13. '13'\n14. '14'\n15. '15'\n16. '16'\n17. '17'\n18. '18'\n19. '19'\n20. '20'\n21. '21'\n22. '22'\n23. '23'\n24. '24'\n25. '25'\n26. '26'\n27. '27'\n28. '28'\n29. '29'\n30. '30'\n31. '31'\n32. '32'\n33. '33'\n34. '34'\n35. '35'\n36. '36'\n37. '37'\n38. '38'\n39. '39'\n40. '40'\n41. '41'\n42. '42'\n43. '43'\n44. '44'\n45. '45'\n46. '46'\n47. '47'\n48. '48'\n49. '49'\n50. '50'\n51. '51'\n52. '52'\n53. '53'\n54. '54'\n55. '55'\n56. '56'\n57. '57'\n58. '58'\n59. '59'\n60. '60'\n61. '61'\n62. '62'\n63. '63'\n64. '64'\n65. '65'\n66. '66'\n67. '67'\n68. '68'\n69. '69'\n70. '70'\n71. '71'\n72. '72'\n73. '73'\n74. '74'\n75. '75'\n76. '76'\n77. '77'\n78. '78'\n79. '79'\n80. '80'\n81. '81'\n82. '82'\n83. '83'\n84. '84'\n85. '85'\n86. '86'\n87. '87'\n88. '88'\n89. '89'\n90. '90'\n91. '91'\n92. '92'\n93. '93'\n94. '94'\n95. '95'\n96. '96'\n97. '97'\n98. '98'\n99. '99'\n100. '100'\n101. '101'\n102. '102'\n103. '103'\n104. '104'\n105. '105'\n106. '106'\n107. '107'\n108. '108'\n109. '109'\n110. '110'\n111. '111'\n112. '112'\n113. '113'\n114. '114'\n115. '115'\n116. '116'\n117. '117'\n118. '118'\n119. '119'\n120. '120'\n121. '121'\n122. '122'\n123. '123'\n124. '124'\n125. '125'\n126. '126'\n127. '127'\n128. '128'\n129. '129'\n130. '130'\n131. '131'\n132. '132'\n133. '133'\n134. '134'\n135. '135'\n136. '136'\n137. '137'\n138. '138'\n139. '139'\n140. '140'\n141. '141'\n142. '142'\n143. '143'\n144. '144'\n145. '145'\n146. '146'\n147. '147'\n148. '148'\n149. '149'\n150. '150'\n151. '151'\n152. '152'\n153. '153'\n154. '154'\n155. '155'\n156. '156'\n157. '157'\n158. '158'\n159. '159'\n160. '160'\n161. '161'\n162. '162'\n163. '163'\n164. '164'\n165. '165'\n166. '166'\n167. '167'\n168. '168'\n169. '169'\n170. '170'\n171. '171'\n172. '172'\n173. '173'\n174. '174'\n175. '175'\n176. '176'\n177. '177'\n178. '178'\n179. '179'\n180. '180'\n181. '181'\n182. '182'\n183. '183'\n184. '184'\n185. '185'\n186. '186'\n187. '187'\n188. '188'\n189. '189'\n190. '190'\n191. '191'\n192. '192'\n193. '193'\n194. '194'\n195. '195'\n196. '196'\n197. '197'\n198. '198'\n199. '199'\n200. '200'\n201. ⋯\n202. '801'\n203. '802'\n204. '803'\n205. '804'\n206. '805'\n207. '806'\n208. '807'\n209. '808'\n210. '809'\n211. '810'\n212. '811'\n213. '812'\n214. '813'\n215. '814'\n216. '815'\n217. '816'\n218. '817'\n219. '818'\n220. '819'\n221. '820'\n222. '821'\n223. '822'\n224. '823'\n225. '824'\n226. '825'\n227. '826'\n228. '827'\n229. '828'\n230. '829'\n231. '830'\n232. '831'\n233. '832'\n234. '833'\n235. '834'\n236. '835'\n237. '836'\n238. '837'\n239. '838'\n240. '839'\n241. '840'\n242. '841'\n243. '842'\n244. '843'\n245. '844'\n246. '845'\n247. '846'\n248. '847'\n249. '848'\n250. '849'\n251. '850'\n252. '851'\n253. '852'\n254. '853'\n255. '854'\n256. '855'\n257. '856'\n258. '857'\n259. '858'\n260. '859'\n261. '860'\n262. '861'\n263. '862'\n264. '863'\n265. '864'\n266. '865'\n267. '866'\n268. '867'\n269. '868'\n270. '869'\n271. '870'\n272. '871'\n273. '872'\n274. '873'\n275. '874'\n276. '875'\n277. '876'\n278. '877'\n279. '878'\n280. '879'\n281. '880'\n282. '881'\n283. '882'\n284. '883'\n285. '884'\n286. '885'\n287. '886'\n288. '887'\n289. '888'\n290. '889'\n291. '890'\n292. '891'\n293. '892'\n294. '893'\n295. '894'\n296. '895'\n297. '896'\n298. '897'\n299. '898'\n300. '899'\n301. '900'\n302. '901'\n303. '902'\n304. '903'\n305. '904'\n306. '905'\n307. '906'\n308. '907'\n309. '908'\n310. '909'\n311. '910'\n312. '911'\n313. '912'\n314. '913'\n315. '914'\n316. '915'\n317. '916'\n318. '917'\n319. '918'\n320. '919'\n321. '920'\n322. '921'\n323. '922'\n324. '923'\n325. '924'\n326. '925'\n327. '926'\n328. '927'\n329. '928'\n330. '929'\n331. '930'\n332. '931'\n333. '932'\n334. '933'\n335. '934'\n336. '935'\n337. '936'\n338. '937'\n339. '938'\n340. '939'\n341. '940'\n342. '941'\n343. '942'\n344. '943'\n345. '944'\n346. '945'\n347. '946'\n348. '947'\n349. '948'\n350. '949'\n351. '950'\n352. '951'\n353. '952'\n354. '953'\n355. '954'\n356. '955'\n357. '956'\n358. '957'\n359. '958'\n360. '959'\n361. '960'\n362. '961'\n363. '962'\n364. '963'\n365. '964'\n366. '965'\n367. '966'\n368. '967'\n369. '968'\n370. '969'\n371. '970'\n372. '971'\n373. '972'\n374. '973'\n375. '974'\n376. '975'\n377. '976'\n378. '977'\n379. '978'\n380. '979'\n381. '980'\n382. '981'\n383. '982'\n384. '983'\n385. '984'\n386. '985'\n387. '986'\n388. '987'\n389. '988'\n390. '989'\n391. '990'\n392. '991'\n393. '992'\n394. '993'\n395. '994'\n396. '995'\n397. '996'\n398. '997'\n399. '998'\n400. '999'\n401. '1000'\n\n\n",
            "text/plain": [
              "   [1] \"1\"    \"2\"    \"3\"    \"4\"    \"5\"    \"6\"    \"7\"    \"8\"    \"9\"    \"10\"  \n",
              "  [11] \"11\"   \"12\"   \"13\"   \"14\"   \"15\"   \"16\"   \"17\"   \"18\"   \"19\"   \"20\"  \n",
              "  [21] \"21\"   \"22\"   \"23\"   \"24\"   \"25\"   \"26\"   \"27\"   \"28\"   \"29\"   \"30\"  \n",
              "  [31] \"31\"   \"32\"   \"33\"   \"34\"   \"35\"   \"36\"   \"37\"   \"38\"   \"39\"   \"40\"  \n",
              "  [41] \"41\"   \"42\"   \"43\"   \"44\"   \"45\"   \"46\"   \"47\"   \"48\"   \"49\"   \"50\"  \n",
              "  [51] \"51\"   \"52\"   \"53\"   \"54\"   \"55\"   \"56\"   \"57\"   \"58\"   \"59\"   \"60\"  \n",
              "  [61] \"61\"   \"62\"   \"63\"   \"64\"   \"65\"   \"66\"   \"67\"   \"68\"   \"69\"   \"70\"  \n",
              "  [71] \"71\"   \"72\"   \"73\"   \"74\"   \"75\"   \"76\"   \"77\"   \"78\"   \"79\"   \"80\"  \n",
              "  [81] \"81\"   \"82\"   \"83\"   \"84\"   \"85\"   \"86\"   \"87\"   \"88\"   \"89\"   \"90\"  \n",
              "  [91] \"91\"   \"92\"   \"93\"   \"94\"   \"95\"   \"96\"   \"97\"   \"98\"   \"99\"   \"100\" \n",
              " [101] \"101\"  \"102\"  \"103\"  \"104\"  \"105\"  \"106\"  \"107\"  \"108\"  \"109\"  \"110\" \n",
              " [111] \"111\"  \"112\"  \"113\"  \"114\"  \"115\"  \"116\"  \"117\"  \"118\"  \"119\"  \"120\" \n",
              " [121] \"121\"  \"122\"  \"123\"  \"124\"  \"125\"  \"126\"  \"127\"  \"128\"  \"129\"  \"130\" \n",
              " [131] \"131\"  \"132\"  \"133\"  \"134\"  \"135\"  \"136\"  \"137\"  \"138\"  \"139\"  \"140\" \n",
              " [141] \"141\"  \"142\"  \"143\"  \"144\"  \"145\"  \"146\"  \"147\"  \"148\"  \"149\"  \"150\" \n",
              " [151] \"151\"  \"152\"  \"153\"  \"154\"  \"155\"  \"156\"  \"157\"  \"158\"  \"159\"  \"160\" \n",
              " [161] \"161\"  \"162\"  \"163\"  \"164\"  \"165\"  \"166\"  \"167\"  \"168\"  \"169\"  \"170\" \n",
              " [171] \"171\"  \"172\"  \"173\"  \"174\"  \"175\"  \"176\"  \"177\"  \"178\"  \"179\"  \"180\" \n",
              " [181] \"181\"  \"182\"  \"183\"  \"184\"  \"185\"  \"186\"  \"187\"  \"188\"  \"189\"  \"190\" \n",
              " [191] \"191\"  \"192\"  \"193\"  \"194\"  \"195\"  \"196\"  \"197\"  \"198\"  \"199\"  \"200\" \n",
              " [201] \"201\"  \"202\"  \"203\"  \"204\"  \"205\"  \"206\"  \"207\"  \"208\"  \"209\"  \"210\" \n",
              " [211] \"211\"  \"212\"  \"213\"  \"214\"  \"215\"  \"216\"  \"217\"  \"218\"  \"219\"  \"220\" \n",
              " [221] \"221\"  \"222\"  \"223\"  \"224\"  \"225\"  \"226\"  \"227\"  \"228\"  \"229\"  \"230\" \n",
              " [231] \"231\"  \"232\"  \"233\"  \"234\"  \"235\"  \"236\"  \"237\"  \"238\"  \"239\"  \"240\" \n",
              " [241] \"241\"  \"242\"  \"243\"  \"244\"  \"245\"  \"246\"  \"247\"  \"248\"  \"249\"  \"250\" \n",
              " [251] \"251\"  \"252\"  \"253\"  \"254\"  \"255\"  \"256\"  \"257\"  \"258\"  \"259\"  \"260\" \n",
              " [261] \"261\"  \"262\"  \"263\"  \"264\"  \"265\"  \"266\"  \"267\"  \"268\"  \"269\"  \"270\" \n",
              " [271] \"271\"  \"272\"  \"273\"  \"274\"  \"275\"  \"276\"  \"277\"  \"278\"  \"279\"  \"280\" \n",
              " [281] \"281\"  \"282\"  \"283\"  \"284\"  \"285\"  \"286\"  \"287\"  \"288\"  \"289\"  \"290\" \n",
              " [291] \"291\"  \"292\"  \"293\"  \"294\"  \"295\"  \"296\"  \"297\"  \"298\"  \"299\"  \"300\" \n",
              " [301] \"301\"  \"302\"  \"303\"  \"304\"  \"305\"  \"306\"  \"307\"  \"308\"  \"309\"  \"310\" \n",
              " [311] \"311\"  \"312\"  \"313\"  \"314\"  \"315\"  \"316\"  \"317\"  \"318\"  \"319\"  \"320\" \n",
              " [321] \"321\"  \"322\"  \"323\"  \"324\"  \"325\"  \"326\"  \"327\"  \"328\"  \"329\"  \"330\" \n",
              " [331] \"331\"  \"332\"  \"333\"  \"334\"  \"335\"  \"336\"  \"337\"  \"338\"  \"339\"  \"340\" \n",
              " [341] \"341\"  \"342\"  \"343\"  \"344\"  \"345\"  \"346\"  \"347\"  \"348\"  \"349\"  \"350\" \n",
              " [351] \"351\"  \"352\"  \"353\"  \"354\"  \"355\"  \"356\"  \"357\"  \"358\"  \"359\"  \"360\" \n",
              " [361] \"361\"  \"362\"  \"363\"  \"364\"  \"365\"  \"366\"  \"367\"  \"368\"  \"369\"  \"370\" \n",
              " [371] \"371\"  \"372\"  \"373\"  \"374\"  \"375\"  \"376\"  \"377\"  \"378\"  \"379\"  \"380\" \n",
              " [381] \"381\"  \"382\"  \"383\"  \"384\"  \"385\"  \"386\"  \"387\"  \"388\"  \"389\"  \"390\" \n",
              " [391] \"391\"  \"392\"  \"393\"  \"394\"  \"395\"  \"396\"  \"397\"  \"398\"  \"399\"  \"400\" \n",
              " [401] \"401\"  \"402\"  \"403\"  \"404\"  \"405\"  \"406\"  \"407\"  \"408\"  \"409\"  \"410\" \n",
              " [411] \"411\"  \"412\"  \"413\"  \"414\"  \"415\"  \"416\"  \"417\"  \"418\"  \"419\"  \"420\" \n",
              " [421] \"421\"  \"422\"  \"423\"  \"424\"  \"425\"  \"426\"  \"427\"  \"428\"  \"429\"  \"430\" \n",
              " [431] \"431\"  \"432\"  \"433\"  \"434\"  \"435\"  \"436\"  \"437\"  \"438\"  \"439\"  \"440\" \n",
              " [441] \"441\"  \"442\"  \"443\"  \"444\"  \"445\"  \"446\"  \"447\"  \"448\"  \"449\"  \"450\" \n",
              " [451] \"451\"  \"452\"  \"453\"  \"454\"  \"455\"  \"456\"  \"457\"  \"458\"  \"459\"  \"460\" \n",
              " [461] \"461\"  \"462\"  \"463\"  \"464\"  \"465\"  \"466\"  \"467\"  \"468\"  \"469\"  \"470\" \n",
              " [471] \"471\"  \"472\"  \"473\"  \"474\"  \"475\"  \"476\"  \"477\"  \"478\"  \"479\"  \"480\" \n",
              " [481] \"481\"  \"482\"  \"483\"  \"484\"  \"485\"  \"486\"  \"487\"  \"488\"  \"489\"  \"490\" \n",
              " [491] \"491\"  \"492\"  \"493\"  \"494\"  \"495\"  \"496\"  \"497\"  \"498\"  \"499\"  \"500\" \n",
              " [501] \"501\"  \"502\"  \"503\"  \"504\"  \"505\"  \"506\"  \"507\"  \"508\"  \"509\"  \"510\" \n",
              " [511] \"511\"  \"512\"  \"513\"  \"514\"  \"515\"  \"516\"  \"517\"  \"518\"  \"519\"  \"520\" \n",
              " [521] \"521\"  \"522\"  \"523\"  \"524\"  \"525\"  \"526\"  \"527\"  \"528\"  \"529\"  \"530\" \n",
              " [531] \"531\"  \"532\"  \"533\"  \"534\"  \"535\"  \"536\"  \"537\"  \"538\"  \"539\"  \"540\" \n",
              " [541] \"541\"  \"542\"  \"543\"  \"544\"  \"545\"  \"546\"  \"547\"  \"548\"  \"549\"  \"550\" \n",
              " [551] \"551\"  \"552\"  \"553\"  \"554\"  \"555\"  \"556\"  \"557\"  \"558\"  \"559\"  \"560\" \n",
              " [561] \"561\"  \"562\"  \"563\"  \"564\"  \"565\"  \"566\"  \"567\"  \"568\"  \"569\"  \"570\" \n",
              " [571] \"571\"  \"572\"  \"573\"  \"574\"  \"575\"  \"576\"  \"577\"  \"578\"  \"579\"  \"580\" \n",
              " [581] \"581\"  \"582\"  \"583\"  \"584\"  \"585\"  \"586\"  \"587\"  \"588\"  \"589\"  \"590\" \n",
              " [591] \"591\"  \"592\"  \"593\"  \"594\"  \"595\"  \"596\"  \"597\"  \"598\"  \"599\"  \"600\" \n",
              " [601] \"601\"  \"602\"  \"603\"  \"604\"  \"605\"  \"606\"  \"607\"  \"608\"  \"609\"  \"610\" \n",
              " [611] \"611\"  \"612\"  \"613\"  \"614\"  \"615\"  \"616\"  \"617\"  \"618\"  \"619\"  \"620\" \n",
              " [621] \"621\"  \"622\"  \"623\"  \"624\"  \"625\"  \"626\"  \"627\"  \"628\"  \"629\"  \"630\" \n",
              " [631] \"631\"  \"632\"  \"633\"  \"634\"  \"635\"  \"636\"  \"637\"  \"638\"  \"639\"  \"640\" \n",
              " [641] \"641\"  \"642\"  \"643\"  \"644\"  \"645\"  \"646\"  \"647\"  \"648\"  \"649\"  \"650\" \n",
              " [651] \"651\"  \"652\"  \"653\"  \"654\"  \"655\"  \"656\"  \"657\"  \"658\"  \"659\"  \"660\" \n",
              " [661] \"661\"  \"662\"  \"663\"  \"664\"  \"665\"  \"666\"  \"667\"  \"668\"  \"669\"  \"670\" \n",
              " [671] \"671\"  \"672\"  \"673\"  \"674\"  \"675\"  \"676\"  \"677\"  \"678\"  \"679\"  \"680\" \n",
              " [681] \"681\"  \"682\"  \"683\"  \"684\"  \"685\"  \"686\"  \"687\"  \"688\"  \"689\"  \"690\" \n",
              " [691] \"691\"  \"692\"  \"693\"  \"694\"  \"695\"  \"696\"  \"697\"  \"698\"  \"699\"  \"700\" \n",
              " [701] \"701\"  \"702\"  \"703\"  \"704\"  \"705\"  \"706\"  \"707\"  \"708\"  \"709\"  \"710\" \n",
              " [711] \"711\"  \"712\"  \"713\"  \"714\"  \"715\"  \"716\"  \"717\"  \"718\"  \"719\"  \"720\" \n",
              " [721] \"721\"  \"722\"  \"723\"  \"724\"  \"725\"  \"726\"  \"727\"  \"728\"  \"729\"  \"730\" \n",
              " [731] \"731\"  \"732\"  \"733\"  \"734\"  \"735\"  \"736\"  \"737\"  \"738\"  \"739\"  \"740\" \n",
              " [741] \"741\"  \"742\"  \"743\"  \"744\"  \"745\"  \"746\"  \"747\"  \"748\"  \"749\"  \"750\" \n",
              " [751] \"751\"  \"752\"  \"753\"  \"754\"  \"755\"  \"756\"  \"757\"  \"758\"  \"759\"  \"760\" \n",
              " [761] \"761\"  \"762\"  \"763\"  \"764\"  \"765\"  \"766\"  \"767\"  \"768\"  \"769\"  \"770\" \n",
              " [771] \"771\"  \"772\"  \"773\"  \"774\"  \"775\"  \"776\"  \"777\"  \"778\"  \"779\"  \"780\" \n",
              " [781] \"781\"  \"782\"  \"783\"  \"784\"  \"785\"  \"786\"  \"787\"  \"788\"  \"789\"  \"790\" \n",
              " [791] \"791\"  \"792\"  \"793\"  \"794\"  \"795\"  \"796\"  \"797\"  \"798\"  \"799\"  \"800\" \n",
              " [801] \"801\"  \"802\"  \"803\"  \"804\"  \"805\"  \"806\"  \"807\"  \"808\"  \"809\"  \"810\" \n",
              " [811] \"811\"  \"812\"  \"813\"  \"814\"  \"815\"  \"816\"  \"817\"  \"818\"  \"819\"  \"820\" \n",
              " [821] \"821\"  \"822\"  \"823\"  \"824\"  \"825\"  \"826\"  \"827\"  \"828\"  \"829\"  \"830\" \n",
              " [831] \"831\"  \"832\"  \"833\"  \"834\"  \"835\"  \"836\"  \"837\"  \"838\"  \"839\"  \"840\" \n",
              " [841] \"841\"  \"842\"  \"843\"  \"844\"  \"845\"  \"846\"  \"847\"  \"848\"  \"849\"  \"850\" \n",
              " [851] \"851\"  \"852\"  \"853\"  \"854\"  \"855\"  \"856\"  \"857\"  \"858\"  \"859\"  \"860\" \n",
              " [861] \"861\"  \"862\"  \"863\"  \"864\"  \"865\"  \"866\"  \"867\"  \"868\"  \"869\"  \"870\" \n",
              " [871] \"871\"  \"872\"  \"873\"  \"874\"  \"875\"  \"876\"  \"877\"  \"878\"  \"879\"  \"880\" \n",
              " [881] \"881\"  \"882\"  \"883\"  \"884\"  \"885\"  \"886\"  \"887\"  \"888\"  \"889\"  \"890\" \n",
              " [891] \"891\"  \"892\"  \"893\"  \"894\"  \"895\"  \"896\"  \"897\"  \"898\"  \"899\"  \"900\" \n",
              " [901] \"901\"  \"902\"  \"903\"  \"904\"  \"905\"  \"906\"  \"907\"  \"908\"  \"909\"  \"910\" \n",
              " [911] \"911\"  \"912\"  \"913\"  \"914\"  \"915\"  \"916\"  \"917\"  \"918\"  \"919\"  \"920\" \n",
              " [921] \"921\"  \"922\"  \"923\"  \"924\"  \"925\"  \"926\"  \"927\"  \"928\"  \"929\"  \"930\" \n",
              " [931] \"931\"  \"932\"  \"933\"  \"934\"  \"935\"  \"936\"  \"937\"  \"938\"  \"939\"  \"940\" \n",
              " [941] \"941\"  \"942\"  \"943\"  \"944\"  \"945\"  \"946\"  \"947\"  \"948\"  \"949\"  \"950\" \n",
              " [951] \"951\"  \"952\"  \"953\"  \"954\"  \"955\"  \"956\"  \"957\"  \"958\"  \"959\"  \"960\" \n",
              " [961] \"961\"  \"962\"  \"963\"  \"964\"  \"965\"  \"966\"  \"967\"  \"968\"  \"969\"  \"970\" \n",
              " [971] \"971\"  \"972\"  \"973\"  \"974\"  \"975\"  \"976\"  \"977\"  \"978\"  \"979\"  \"980\" \n",
              " [981] \"981\"  \"982\"  \"983\"  \"984\"  \"985\"  \"986\"  \"987\"  \"988\"  \"989\"  \"990\" \n",
              " [991] \"991\"  \"992\"  \"993\"  \"994\"  \"995\"  \"996\"  \"997\"  \"998\"  \"999\"  \"1000\""
            ]
          },
          "metadata": {},
          "output_type": "display_data"
        }
      ],
      "source": [
        "# Use dim() to find the dimension of the data set\n",
        "dim(data_csv)\n",
        "\n",
        "# Use names() to find the names of the variables from the data set\n",
        "names(data_csv)\n",
        "\n",
        "# Use rownames() function to get the name of each row in the first column\n",
        "rownames(data_csv)"
      ]
    },
    {
      "cell_type": "code",
      "execution_count": null,
      "metadata": {
        "colab": {
          "base_uri": "https://localhost:8080/"
        },
        "id": "GMK0BiBelG9f",
        "outputId": "d28c29c0-49e7-4ddd-c266-673b6e8836ba"
      },
      "outputs": [
        {
          "name": "stdout",
          "output_type": "stream",
          "text": [
            "'data.frame':\t1000 obs. of  16 variables:\n",
            " $ Poster_Link  : chr  \"https://m.media-amazon.com/images/M/MV5BMDFkYTc0MGEtZmNhMC00ZDIzLWFmNTEtODM1ZmRlYWMwMWFmXkEyXkFqcGdeQXVyMTMxODk\"| __truncated__ \"https://m.media-amazon.com/images/M/MV5BM2MyNjYxNmUtYTAwNi00MTYxLWJmNWYtYzZlODY3ZTk3OTFlXkEyXkFqcGdeQXVyNzkwMjQ\"| __truncated__ \"https://m.media-amazon.com/images/M/MV5BMTMxNTMwODM0NF5BMl5BanBnXkFtZTcwODAyMTk2Mw@@._V1_UX67_CR0,0,67,98_AL_.jpg\" \"https://m.media-amazon.com/images/M/MV5BMWMwMGQzZTItY2JlNC00OWZiLWIyMDctNDk2ZDQ2YjRjMWQ0XkEyXkFqcGdeQXVyNzkwMjQ\"| __truncated__ ...\n",
            " $ Series_Title : chr  \"The Shawshank Redemption\" \"The Godfather\" \"The Dark Knight\" \"The Godfather: Part II\" ...\n",
            " $ Released_Year: chr  \"1994\" \"1972\" \"2008\" \"1974\" ...\n",
            " $ Certificate  : chr  \"A\" \"A\" \"UA\" \"A\" ...\n",
            " $ Runtime      : chr  \"142 min\" \"175 min\" \"152 min\" \"202 min\" ...\n",
            " $ Genre        : chr  \"Drama\" \"Crime, Drama\" \"Action, Crime, Drama\" \"Crime, Drama\" ...\n",
            " $ IMDB_Rating  : num  9.3 9.2 9 9 9 8.9 8.9 8.9 8.8 8.8 ...\n",
            " $ Overview     : chr  \"Two imprisoned men bond over a number of years, finding solace and eventual redemption through acts of common decency.\" \"An organized crime dynasty's aging patriarch transfers control of his clandestine empire to his reluctant son.\" \"When the menace known as the Joker wreaks havoc and chaos on the people of Gotham, Batman must accept one of th\"| __truncated__ \"The early life and career of Vito Corleone in 1920s New York City is portrayed, while his son, Michael, expands\"| __truncated__ ...\n",
            " $ Meta_score   : int  80 100 84 90 96 94 94 94 74 66 ...\n",
            " $ Director     : chr  \"Frank Darabont\" \"Francis Ford Coppola\" \"Christopher Nolan\" \"Francis Ford Coppola\" ...\n",
            " $ Star1        : chr  \"Tim Robbins\" \"Marlon Brando\" \"Christian Bale\" \"Al Pacino\" ...\n",
            " $ Star2        : chr  \"Morgan Freeman\" \"Al Pacino\" \"Heath Ledger\" \"Robert De Niro\" ...\n",
            " $ Star3        : chr  \"Bob Gunton\" \"James Caan\" \"Aaron Eckhart\" \"Robert Duvall\" ...\n",
            " $ Star4        : chr  \"William Sadler\" \"Diane Keaton\" \"Michael Caine\" \"Diane Keaton\" ...\n",
            " $ No_of_Votes  : int  2343110 1620367 2303232 1129952 689845 1642758 1826188 1213505 2067042 1854740 ...\n",
            " $ Gross        : chr  \"28,341,469\" \"134,966,411\" \"534,858,444\" \"57,300,000\" ...\n"
          ]
        }
      ],
      "source": [
        "# View the structure of the data\n",
        "str(data_csv)"
      ]
    },
    {
      "cell_type": "code",
      "execution_count": null,
      "metadata": {
        "colab": {
          "base_uri": "https://localhost:8080/",
          "height": 601
        },
        "id": "pXU61Cukcs6_",
        "outputId": "476ab2e9-e2a0-42da-aca9-e7c660b87f14"
      },
      "outputs": [
        {
          "data": {
            "text/plain": [
              " Poster_Link        Series_Title       Released_Year      Certificate       \n",
              " Length:1000        Length:1000        Length:1000        Length:1000       \n",
              " Class :character   Class :character   Class :character   Class :character  \n",
              " Mode  :character   Mode  :character   Mode  :character   Mode  :character  \n",
              "                                                                            \n",
              "                                                                            \n",
              "                                                                            \n",
              "                                                                            \n",
              "   Runtime             Genre            IMDB_Rating      Overview        \n",
              " Length:1000        Length:1000        Min.   :7.600   Length:1000       \n",
              " Class :character   Class :character   1st Qu.:7.700   Class :character  \n",
              " Mode  :character   Mode  :character   Median :7.900   Mode  :character  \n",
              "                                       Mean   :7.949                     \n",
              "                                       3rd Qu.:8.100                     \n",
              "                                       Max.   :9.300                     \n",
              "                                                                         \n",
              "   Meta_score       Director            Star1              Star2          \n",
              " Min.   : 28.00   Length:1000        Length:1000        Length:1000       \n",
              " 1st Qu.: 70.00   Class :character   Class :character   Class :character  \n",
              " Median : 79.00   Mode  :character   Mode  :character   Mode  :character  \n",
              " Mean   : 77.97                                                           \n",
              " 3rd Qu.: 87.00                                                           \n",
              " Max.   :100.00                                                           \n",
              " NA's   :157                                                              \n",
              "    Star3              Star4            No_of_Votes         Gross          \n",
              " Length:1000        Length:1000        Min.   :  25088   Length:1000       \n",
              " Class :character   Class :character   1st Qu.:  55526   Class :character  \n",
              " Mode  :character   Mode  :character   Median : 138548   Mode  :character  \n",
              "                                       Mean   : 273693                     \n",
              "                                       3rd Qu.: 374161                     \n",
              "                                       Max.   :2343110                     \n",
              "                                                                           "
            ]
          },
          "metadata": {},
          "output_type": "display_data"
        }
      ],
      "source": [
        "# Get a summary of the data\n",
        "summary(data_csv)"
      ]
    },
    {
      "cell_type": "code",
      "execution_count": null,
      "metadata": {
        "colab": {
          "base_uri": "https://localhost:8080/",
          "height": 52
        },
        "id": "lj5__LmUcs1y",
        "outputId": "1b349e52-7ee1-497c-aafd-8109c6293621"
      },
      "outputs": [
        {
          "data": {
            "text/html": [
              "1"
            ],
            "text/latex": "1",
            "text/markdown": "1",
            "text/plain": [
              "[1] 1"
            ]
          },
          "metadata": {},
          "output_type": "display_data"
        },
        {
          "data": {
            "text/html": [
              "265"
            ],
            "text/latex": "265",
            "text/markdown": "265",
            "text/plain": [
              "[1] 265"
            ]
          },
          "metadata": {},
          "output_type": "display_data"
        }
      ],
      "source": [
        "# which.max() and which.min() functions to find the index position of the max and min value\n",
        "which.max(data_csv$No_of_Votes)\n",
        "which.min(data_csv$No_of_Votes)"
      ]
    },
    {
      "cell_type": "code",
      "execution_count": null,
      "metadata": {
        "colab": {
          "base_uri": "https://localhost:8080/",
          "height": 69
        },
        "id": "DlJ0D5TgcszJ",
        "outputId": "157285be-e122-44d9-8547-9c2e5a4ff86c"
      },
      "outputs": [
        {
          "data": {
            "text/html": [
              "273692.911"
            ],
            "text/latex": "273692.911",
            "text/markdown": "273692.911",
            "text/plain": [
              "[1] 273692.9"
            ]
          },
          "metadata": {},
          "output_type": "display_data"
        },
        {
          "data": {
            "text/html": [
              "138548.5"
            ],
            "text/latex": "138548.5",
            "text/markdown": "138548.5",
            "text/plain": [
              "[1] 138548.5"
            ]
          },
          "metadata": {},
          "output_type": "display_data"
        },
        {
          "data": {
            "text/html": [
              "'numeric'"
            ],
            "text/latex": "'numeric'",
            "text/markdown": "'numeric'",
            "text/plain": [
              "[1] \"numeric\""
            ]
          },
          "metadata": {},
          "output_type": "display_data"
        }
      ],
      "source": [
        "# mean\n",
        "mean(data_csv$No_of_Votes)\n",
        "\n",
        "# median\n",
        "median(data_csv$No_of_Votes)\n",
        "\n",
        "# mode\n",
        "mode(data_csv$No_of_Votes)"
      ]
    },
    {
      "cell_type": "code",
      "execution_count": null,
      "metadata": {
        "colab": {
          "base_uri": "https://localhost:8080/",
          "height": 34
        },
        "id": "WHsFNZz3csvw",
        "outputId": "cf258ad3-6bf5-4015-ef3f-7ee3062869e5"
      },
      "outputs": [
        {
          "data": {
            "text/html": [
              "<style>\n",
              ".dl-inline {width: auto; margin:0; padding: 0}\n",
              ".dl-inline>dt, .dl-inline>dd {float: none; width: auto; display: inline-block}\n",
              ".dl-inline>dt::after {content: \":\\0020\"; padding-right: .5ex}\n",
              ".dl-inline>dt:not(:first-of-type) {padding-left: .5ex}\n",
              "</style><dl class=dl-inline><dt>0%</dt><dd>25088</dd><dt>25%</dt><dd>55526.25</dd><dt>50%</dt><dd>138548.5</dd><dt>75%</dt><dd>374161.25</dd><dt>100%</dt><dd>2343110</dd></dl>\n"
            ],
            "text/latex": "\\begin{description*}\n\\item[0\\textbackslash{}\\%] 25088\n\\item[25\\textbackslash{}\\%] 55526.25\n\\item[50\\textbackslash{}\\%] 138548.5\n\\item[75\\textbackslash{}\\%] 374161.25\n\\item[100\\textbackslash{}\\%] 2343110\n\\end{description*}\n",
            "text/markdown": "0%\n:   2508825%\n:   55526.2550%\n:   138548.575%\n:   374161.25100%\n:   2343110\n\n",
            "text/plain": [
              "        0%        25%        50%        75%       100% \n",
              "  25088.00   55526.25  138548.50  374161.25 2343110.00 "
            ]
          },
          "metadata": {},
          "output_type": "display_data"
        }
      ],
      "source": [
        "# quantile() function\n",
        "quantile(data_csv$No_of_Votes)"
      ]
    },
    {
      "cell_type": "code",
      "execution_count": null,
      "metadata": {
        "colab": {
          "base_uri": "https://localhost:8080/",
          "height": 52
        },
        "id": "wKSkssrhkPxU",
        "outputId": "db1a2823-aadf-4c49-990b-18a531537b93"
      },
      "outputs": [
        {
          "data": {
            "text/html": [
              "<style>\n",
              ".dl-inline {width: auto; margin:0; padding: 0}\n",
              ".dl-inline>dt, .dl-inline>dd {float: none; width: auto; display: inline-block}\n",
              ".dl-inline>dt::after {content: \":\\0020\"; padding-right: .5ex}\n",
              ".dl-inline>dt:not(:first-of-type) {padding-left: .5ex}\n",
              "</style><dl class=dl-inline><dt>Poster_Link</dt><dd>0</dd><dt>Series_Title</dt><dd>0</dd><dt>Released_Year</dt><dd>0</dd><dt>Certificate</dt><dd>0</dd><dt>Runtime</dt><dd>0</dd><dt>Genre</dt><dd>0</dd><dt>IMDB_Rating</dt><dd>0</dd><dt>Overview</dt><dd>0</dd><dt>Meta_score</dt><dd>157</dd><dt>Director</dt><dd>0</dd><dt>Star1</dt><dd>0</dd><dt>Star2</dt><dd>0</dd><dt>Star3</dt><dd>0</dd><dt>Star4</dt><dd>0</dd><dt>No_of_Votes</dt><dd>0</dd><dt>Gross</dt><dd>0</dd></dl>\n"
            ],
            "text/latex": "\\begin{description*}\n\\item[Poster\\textbackslash{}\\_Link] 0\n\\item[Series\\textbackslash{}\\_Title] 0\n\\item[Released\\textbackslash{}\\_Year] 0\n\\item[Certificate] 0\n\\item[Runtime] 0\n\\item[Genre] 0\n\\item[IMDB\\textbackslash{}\\_Rating] 0\n\\item[Overview] 0\n\\item[Meta\\textbackslash{}\\_score] 157\n\\item[Director] 0\n\\item[Star1] 0\n\\item[Star2] 0\n\\item[Star3] 0\n\\item[Star4] 0\n\\item[No\\textbackslash{}\\_of\\textbackslash{}\\_Votes] 0\n\\item[Gross] 0\n\\end{description*}\n",
            "text/markdown": "Poster_Link\n:   0Series_Title\n:   0Released_Year\n:   0Certificate\n:   0Runtime\n:   0Genre\n:   0IMDB_Rating\n:   0Overview\n:   0Meta_score\n:   157Director\n:   0Star1\n:   0Star2\n:   0Star3\n:   0Star4\n:   0No_of_Votes\n:   0Gross\n:   0\n\n",
            "text/plain": [
              "  Poster_Link  Series_Title Released_Year   Certificate       Runtime \n",
              "            0             0             0             0             0 \n",
              "        Genre   IMDB_Rating      Overview    Meta_score      Director \n",
              "            0             0             0           157             0 \n",
              "        Star1         Star2         Star3         Star4   No_of_Votes \n",
              "            0             0             0             0             0 \n",
              "        Gross \n",
              "            0 "
            ]
          },
          "metadata": {},
          "output_type": "display_data"
        }
      ],
      "source": [
        "# Check for missing values\n",
        "missing_val <- is.na(data_csv)\n",
        "colSums(missing_val)"
      ]
    },
    {
      "cell_type": "markdown",
      "metadata": {
        "id": "UuAhohXJPOfe"
      },
      "source": [
        "<h2> Data Preprocessing using dplyr library </h2>"
      ]
    },
    {
      "cell_type": "code",
      "execution_count": null,
      "metadata": {
        "colab": {
          "base_uri": "https://localhost:8080/"
        },
        "id": "30uX3U10mDHP",
        "outputId": "8888d1d6-186a-4c14-c647-ff22ea05bed8"
      },
      "outputs": [
        {
          "name": "stderr",
          "output_type": "stream",
          "text": [
            "Installing package into ‘/usr/local/lib/R/site-library’\n",
            "(as ‘lib’ is unspecified)\n",
            "\n"
          ]
        }
      ],
      "source": [
        "# Installing dplyr library\n",
        "install.packages(\"dplyr\")"
      ]
    },
    {
      "cell_type": "code",
      "execution_count": null,
      "metadata": {
        "colab": {
          "base_uri": "https://localhost:8080/"
        },
        "collapsed": true,
        "id": "sR5eNdhQmC6h",
        "outputId": "00570dfc-f428-4ed7-89a7-9fdf732751df"
      },
      "outputs": [
        {
          "name": "stderr",
          "output_type": "stream",
          "text": [
            "\n",
            "Attaching package: ‘dplyr’\n",
            "\n",
            "\n",
            "The following objects are masked from ‘package:stats’:\n",
            "\n",
            "    filter, lag\n",
            "\n",
            "\n",
            "The following objects are masked from ‘package:base’:\n",
            "\n",
            "    intersect, setdiff, setequal, union\n",
            "\n",
            "\n"
          ]
        }
      ],
      "source": [
        "# Importing the library\n",
        "library(dplyr)"
      ]
    },
    {
      "cell_type": "code",
      "execution_count": null,
      "metadata": {
        "colab": {
          "base_uri": "https://localhost:8080/",
          "height": 410
        },
        "id": "XjYAVXv5mC20",
        "outputId": "0083c61b-894c-4610-ddc6-53ecae5c26f6"
      },
      "outputs": [
        {
          "data": {
            "text/html": [
              "<table class=\"dataframe\">\n",
              "<caption>A data.frame: 6 × 75</caption>\n",
              "<thead>\n",
              "\t<tr><th></th><th scope=col>X</th><th scope=col>year</th><th scope=col>date</th><th scope=col>all_2534</th><th scope=col>HS_2534</th><th scope=col>SC_2534</th><th scope=col>BAp_2534</th><th scope=col>BAo_2534</th><th scope=col>GD_2534</th><th scope=col>White_2534</th><th scope=col>⋯</th><th scope=col>kids_SC_2534</th><th scope=col>kids_BAp_2534</th><th scope=col>kids_BAo_2534</th><th scope=col>kids_GD_2534</th><th scope=col>nokids_poor_2534</th><th scope=col>nokids_mid_2534</th><th scope=col>nokids_rich_2534</th><th scope=col>kids_poor_2534</th><th scope=col>kids_mid_2534</th><th scope=col>kids_rich_2534</th></tr>\n",
              "\t<tr><th></th><th scope=col>&lt;int&gt;</th><th scope=col>&lt;int&gt;</th><th scope=col>&lt;chr&gt;</th><th scope=col>&lt;dbl&gt;</th><th scope=col>&lt;dbl&gt;</th><th scope=col>&lt;dbl&gt;</th><th scope=col>&lt;dbl&gt;</th><th scope=col>&lt;dbl&gt;</th><th scope=col>&lt;dbl&gt;</th><th scope=col>&lt;dbl&gt;</th><th scope=col>⋯</th><th scope=col>&lt;dbl&gt;</th><th scope=col>&lt;dbl&gt;</th><th scope=col>&lt;dbl&gt;</th><th scope=col>&lt;dbl&gt;</th><th scope=col>&lt;dbl&gt;</th><th scope=col>&lt;dbl&gt;</th><th scope=col>&lt;dbl&gt;</th><th scope=col>&lt;dbl&gt;</th><th scope=col>&lt;dbl&gt;</th><th scope=col>&lt;dbl&gt;</th></tr>\n",
              "</thead>\n",
              "<tbody>\n",
              "\t<tr><th scope=row>1</th><td>1</td><td>1960</td><td>1960-01-01</td><td>0.1233145</td><td>0.1095332</td><td>0.1522818</td><td>0.2389952</td><td>0.2389952</td><td>       NA</td><td>0.1164848</td><td>⋯</td><td>0.001150824</td><td>0.0005751073</td><td>0.0005751073</td><td>        NA</td><td>0.4933061</td><td>0.4100080</td><td>0.4921184</td><td>0.008722711</td><td>0.0007532065</td><td>0.0008027331</td></tr>\n",
              "\t<tr><th scope=row>2</th><td>2</td><td>1970</td><td>1970-01-01</td><td>0.1269715</td><td>0.1094000</td><td>0.1495096</td><td>0.2187031</td><td>0.2187031</td><td>       NA</td><td>0.1179043</td><td>⋯</td><td>0.003699982</td><td>0.0014683425</td><td>0.0014683425</td><td>        NA</td><td>0.5097742</td><td>0.3764538</td><td>0.4288948</td><td>0.029974945</td><td>0.0033771145</td><td>0.0030435661</td></tr>\n",
              "\t<tr><th scope=row>3</th><td>3</td><td>1980</td><td>1980-01-01</td><td>0.1991767</td><td>0.1617313</td><td>0.2236916</td><td>0.2881646</td><td>0.2881646</td><td>       NA</td><td>0.1824126</td><td>⋯</td><td>0.018135401</td><td>0.0062544364</td><td>0.0062544364</td><td>        NA</td><td>0.5740402</td><td>0.3998250</td><td>0.3848089</td><td>0.077926214</td><td>0.0102368871</td><td>0.0068317224</td></tr>\n",
              "\t<tr><th scope=row>4</th><td>4</td><td>1990</td><td>1990-01-01</td><td>0.2968306</td><td>0.2777491</td><td>0.2780912</td><td>0.3612968</td><td>0.3656655</td><td>0.3474505</td><td>0.2639256</td><td>⋯</td><td>0.052032702</td><td>0.0171241042</td><td>0.0181766027</td><td>0.01374234</td><td>0.6546908</td><td>0.5186604</td><td>0.4750156</td><td>0.170763774</td><td>0.0274655254</td><td>0.0182329127</td></tr>\n",
              "\t<tr><th scope=row>5</th><td>5</td><td>2000</td><td>2000-01-01</td><td>0.3450087</td><td>0.3316545</td><td>0.3249205</td><td>0.3874906</td><td>0.3939579</td><td>0.3691740</td><td>0.3127149</td><td>⋯</td><td>0.097625310</td><td>0.0370024452</td><td>0.0401009875</td><td>0.02761467</td><td>0.7055451</td><td>0.5690228</td><td>0.4458023</td><td>0.256281918</td><td>0.0597845173</td><td>0.0295644698</td></tr>\n",
              "\t<tr><th scope=row>6</th><td>6</td><td>2001</td><td>2001-01-01</td><td>0.3527767</td><td>0.3446069</td><td>0.3341101</td><td>0.3835686</td><td>0.3925148</td><td>0.3590304</td><td>0.3183506</td><td>⋯</td><td>0.110030662</td><td>0.0399801447</td><td>0.0445838012</td><td>0.02645041</td><td>0.7147334</td><td>0.5864741</td><td>0.4461111</td><td>0.280146488</td><td>0.0677954572</td><td>0.0336540502</td></tr>\n",
              "</tbody>\n",
              "</table>\n"
            ],
            "text/latex": "A data.frame: 6 × 75\n\\begin{tabular}{r|lllllllllllllllllllll}\n  & X & year & date & all\\_2534 & HS\\_2534 & SC\\_2534 & BAp\\_2534 & BAo\\_2534 & GD\\_2534 & White\\_2534 & ⋯ & kids\\_SC\\_2534 & kids\\_BAp\\_2534 & kids\\_BAo\\_2534 & kids\\_GD\\_2534 & nokids\\_poor\\_2534 & nokids\\_mid\\_2534 & nokids\\_rich\\_2534 & kids\\_poor\\_2534 & kids\\_mid\\_2534 & kids\\_rich\\_2534\\\\\n  & <int> & <int> & <chr> & <dbl> & <dbl> & <dbl> & <dbl> & <dbl> & <dbl> & <dbl> & ⋯ & <dbl> & <dbl> & <dbl> & <dbl> & <dbl> & <dbl> & <dbl> & <dbl> & <dbl> & <dbl>\\\\\n\\hline\n\t1 & 1 & 1960 & 1960-01-01 & 0.1233145 & 0.1095332 & 0.1522818 & 0.2389952 & 0.2389952 &        NA & 0.1164848 & ⋯ & 0.001150824 & 0.0005751073 & 0.0005751073 &         NA & 0.4933061 & 0.4100080 & 0.4921184 & 0.008722711 & 0.0007532065 & 0.0008027331\\\\\n\t2 & 2 & 1970 & 1970-01-01 & 0.1269715 & 0.1094000 & 0.1495096 & 0.2187031 & 0.2187031 &        NA & 0.1179043 & ⋯ & 0.003699982 & 0.0014683425 & 0.0014683425 &         NA & 0.5097742 & 0.3764538 & 0.4288948 & 0.029974945 & 0.0033771145 & 0.0030435661\\\\\n\t3 & 3 & 1980 & 1980-01-01 & 0.1991767 & 0.1617313 & 0.2236916 & 0.2881646 & 0.2881646 &        NA & 0.1824126 & ⋯ & 0.018135401 & 0.0062544364 & 0.0062544364 &         NA & 0.5740402 & 0.3998250 & 0.3848089 & 0.077926214 & 0.0102368871 & 0.0068317224\\\\\n\t4 & 4 & 1990 & 1990-01-01 & 0.2968306 & 0.2777491 & 0.2780912 & 0.3612968 & 0.3656655 & 0.3474505 & 0.2639256 & ⋯ & 0.052032702 & 0.0171241042 & 0.0181766027 & 0.01374234 & 0.6546908 & 0.5186604 & 0.4750156 & 0.170763774 & 0.0274655254 & 0.0182329127\\\\\n\t5 & 5 & 2000 & 2000-01-01 & 0.3450087 & 0.3316545 & 0.3249205 & 0.3874906 & 0.3939579 & 0.3691740 & 0.3127149 & ⋯ & 0.097625310 & 0.0370024452 & 0.0401009875 & 0.02761467 & 0.7055451 & 0.5690228 & 0.4458023 & 0.256281918 & 0.0597845173 & 0.0295644698\\\\\n\t6 & 6 & 2001 & 2001-01-01 & 0.3527767 & 0.3446069 & 0.3341101 & 0.3835686 & 0.3925148 & 0.3590304 & 0.3183506 & ⋯ & 0.110030662 & 0.0399801447 & 0.0445838012 & 0.02645041 & 0.7147334 & 0.5864741 & 0.4461111 & 0.280146488 & 0.0677954572 & 0.0336540502\\\\\n\\end{tabular}\n",
            "text/markdown": "\nA data.frame: 6 × 75\n\n| <!--/--> | X &lt;int&gt; | year &lt;int&gt; | date &lt;chr&gt; | all_2534 &lt;dbl&gt; | HS_2534 &lt;dbl&gt; | SC_2534 &lt;dbl&gt; | BAp_2534 &lt;dbl&gt; | BAo_2534 &lt;dbl&gt; | GD_2534 &lt;dbl&gt; | White_2534 &lt;dbl&gt; | ⋯ ⋯ | kids_SC_2534 &lt;dbl&gt; | kids_BAp_2534 &lt;dbl&gt; | kids_BAo_2534 &lt;dbl&gt; | kids_GD_2534 &lt;dbl&gt; | nokids_poor_2534 &lt;dbl&gt; | nokids_mid_2534 &lt;dbl&gt; | nokids_rich_2534 &lt;dbl&gt; | kids_poor_2534 &lt;dbl&gt; | kids_mid_2534 &lt;dbl&gt; | kids_rich_2534 &lt;dbl&gt; |\n|---|---|---|---|---|---|---|---|---|---|---|---|---|---|---|---|---|---|---|---|---|---|\n| 1 | 1 | 1960 | 1960-01-01 | 0.1233145 | 0.1095332 | 0.1522818 | 0.2389952 | 0.2389952 |        NA | 0.1164848 | ⋯ | 0.001150824 | 0.0005751073 | 0.0005751073 |         NA | 0.4933061 | 0.4100080 | 0.4921184 | 0.008722711 | 0.0007532065 | 0.0008027331 |\n| 2 | 2 | 1970 | 1970-01-01 | 0.1269715 | 0.1094000 | 0.1495096 | 0.2187031 | 0.2187031 |        NA | 0.1179043 | ⋯ | 0.003699982 | 0.0014683425 | 0.0014683425 |         NA | 0.5097742 | 0.3764538 | 0.4288948 | 0.029974945 | 0.0033771145 | 0.0030435661 |\n| 3 | 3 | 1980 | 1980-01-01 | 0.1991767 | 0.1617313 | 0.2236916 | 0.2881646 | 0.2881646 |        NA | 0.1824126 | ⋯ | 0.018135401 | 0.0062544364 | 0.0062544364 |         NA | 0.5740402 | 0.3998250 | 0.3848089 | 0.077926214 | 0.0102368871 | 0.0068317224 |\n| 4 | 4 | 1990 | 1990-01-01 | 0.2968306 | 0.2777491 | 0.2780912 | 0.3612968 | 0.3656655 | 0.3474505 | 0.2639256 | ⋯ | 0.052032702 | 0.0171241042 | 0.0181766027 | 0.01374234 | 0.6546908 | 0.5186604 | 0.4750156 | 0.170763774 | 0.0274655254 | 0.0182329127 |\n| 5 | 5 | 2000 | 2000-01-01 | 0.3450087 | 0.3316545 | 0.3249205 | 0.3874906 | 0.3939579 | 0.3691740 | 0.3127149 | ⋯ | 0.097625310 | 0.0370024452 | 0.0401009875 | 0.02761467 | 0.7055451 | 0.5690228 | 0.4458023 | 0.256281918 | 0.0597845173 | 0.0295644698 |\n| 6 | 6 | 2001 | 2001-01-01 | 0.3527767 | 0.3446069 | 0.3341101 | 0.3835686 | 0.3925148 | 0.3590304 | 0.3183506 | ⋯ | 0.110030662 | 0.0399801447 | 0.0445838012 | 0.02645041 | 0.7147334 | 0.5864741 | 0.4461111 | 0.280146488 | 0.0677954572 | 0.0336540502 |\n\n",
            "text/plain": [
              "  X year date       all_2534  HS_2534   SC_2534   BAp_2534  BAo_2534  GD_2534  \n",
              "1 1 1960 1960-01-01 0.1233145 0.1095332 0.1522818 0.2389952 0.2389952        NA\n",
              "2 2 1970 1970-01-01 0.1269715 0.1094000 0.1495096 0.2187031 0.2187031        NA\n",
              "3 3 1980 1980-01-01 0.1991767 0.1617313 0.2236916 0.2881646 0.2881646        NA\n",
              "4 4 1990 1990-01-01 0.2968306 0.2777491 0.2780912 0.3612968 0.3656655 0.3474505\n",
              "5 5 2000 2000-01-01 0.3450087 0.3316545 0.3249205 0.3874906 0.3939579 0.3691740\n",
              "6 6 2001 2001-01-01 0.3527767 0.3446069 0.3341101 0.3835686 0.3925148 0.3590304\n",
              "  White_2534 ⋯ kids_SC_2534 kids_BAp_2534 kids_BAo_2534 kids_GD_2534\n",
              "1 0.1164848  ⋯ 0.001150824  0.0005751073  0.0005751073          NA  \n",
              "2 0.1179043  ⋯ 0.003699982  0.0014683425  0.0014683425          NA  \n",
              "3 0.1824126  ⋯ 0.018135401  0.0062544364  0.0062544364          NA  \n",
              "4 0.2639256  ⋯ 0.052032702  0.0171241042  0.0181766027  0.01374234  \n",
              "5 0.3127149  ⋯ 0.097625310  0.0370024452  0.0401009875  0.02761467  \n",
              "6 0.3183506  ⋯ 0.110030662  0.0399801447  0.0445838012  0.02645041  \n",
              "  nokids_poor_2534 nokids_mid_2534 nokids_rich_2534 kids_poor_2534\n",
              "1 0.4933061        0.4100080       0.4921184        0.008722711   \n",
              "2 0.5097742        0.3764538       0.4288948        0.029974945   \n",
              "3 0.5740402        0.3998250       0.3848089        0.077926214   \n",
              "4 0.6546908        0.5186604       0.4750156        0.170763774   \n",
              "5 0.7055451        0.5690228       0.4458023        0.256281918   \n",
              "6 0.7147334        0.5864741       0.4461111        0.280146488   \n",
              "  kids_mid_2534 kids_rich_2534\n",
              "1 0.0007532065  0.0008027331  \n",
              "2 0.0033771145  0.0030435661  \n",
              "3 0.0102368871  0.0068317224  \n",
              "4 0.0274655254  0.0182329127  \n",
              "5 0.0597845173  0.0295644698  \n",
              "6 0.0677954572  0.0336540502  "
            ]
          },
          "metadata": {},
          "output_type": "display_data"
        }
      ],
      "source": [
        "# Import CSV file using read.csv()\n",
        "data <- read.csv(\"both_sexes.csv\", header = TRUE)\n",
        "\n",
        "# Display the first few rows of the data\n",
        "head(data)"
      ]
    },
    {
      "cell_type": "code",
      "execution_count": null,
      "metadata": {
        "colab": {
          "base_uri": "https://localhost:8080/",
          "height": 1000
        },
        "collapsed": true,
        "id": "qfGpAxuPmCsl",
        "outputId": "8c36efb8-0878-43bc-a7a3-3bd229592fd3"
      },
      "outputs": [
        {
          "name": "stdout",
          "output_type": "stream",
          "text": [
            "Rows: 17\n",
            "Columns: 75\n",
            "$ X                \u001b[3m\u001b[90m<int>\u001b[39m\u001b[23m 1, 2, 3, 4, 5, 6, 7, 8, 9, 10, 11, 12, 13, 14, 15, 16…\n",
            "$ year             \u001b[3m\u001b[90m<int>\u001b[39m\u001b[23m 1960, 1970, 1980, 1990, 2000, 2001, 2002, 2003, 2004,…\n",
            "$ date             \u001b[3m\u001b[90m<chr>\u001b[39m\u001b[23m \"1960-01-01\", \"1970-01-01\", \"1980-01-01\", \"1990-01-01…\n",
            "$ all_2534         \u001b[3m\u001b[90m<dbl>\u001b[39m\u001b[23m 0.1233145, 0.1269715, 0.1991767, 0.2968306, 0.3450087…\n",
            "$ HS_2534          \u001b[3m\u001b[90m<dbl>\u001b[39m\u001b[23m 0.1095332, 0.1094000, 0.1617313, 0.2777491, 0.3316545…\n",
            "$ SC_2534          \u001b[3m\u001b[90m<dbl>\u001b[39m\u001b[23m 0.1522818, 0.1495096, 0.2236916, 0.2780912, 0.3249205…\n",
            "$ BAp_2534         \u001b[3m\u001b[90m<dbl>\u001b[39m\u001b[23m 0.2389952, 0.2187031, 0.2881646, 0.3612968, 0.3874906…\n",
            "$ BAo_2534         \u001b[3m\u001b[90m<dbl>\u001b[39m\u001b[23m 0.2389952, 0.2187031, 0.2881646, 0.3656655, 0.3939579…\n",
            "$ GD_2534          \u001b[3m\u001b[90m<dbl>\u001b[39m\u001b[23m NA, NA, NA, 0.3474505, 0.3691740, 0.3590304, 0.351284…\n",
            "$ White_2534       \u001b[3m\u001b[90m<dbl>\u001b[39m\u001b[23m 0.1164848, 0.1179043, 0.1824126, 0.2639256, 0.3127149…\n",
            "$ Black_2534       \u001b[3m\u001b[90m<dbl>\u001b[39m\u001b[23m 0.1621855, 0.1855163, 0.3137500, 0.4838556, 0.5144994…\n",
            "$ Hisp_2534        \u001b[3m\u001b[90m<dbl>\u001b[39m\u001b[23m 0.1393736, 0.1298769, 0.1885440, 0.2962372, 0.3180681…\n",
            "$ NE_2534          \u001b[3m\u001b[90m<dbl>\u001b[39m\u001b[23m 0.1504184, 0.1517231, 0.2414327, 0.3500384, 0.4091852…\n",
            "$ MA_2534          \u001b[3m\u001b[90m<dbl>\u001b[39m\u001b[23m 0.1628934, 0.1640680, 0.2505925, 0.3623321, 0.4175565…\n",
            "$ Midwest_2534     \u001b[3m\u001b[90m<dbl>\u001b[39m\u001b[23m 0.1121467, 0.1153741, 0.1828339, 0.2755046, 0.3308022…\n",
            "$ South_2534       \u001b[3m\u001b[90m<dbl>\u001b[39m\u001b[23m 0.1090562, 0.1126220, 0.1688435, 0.2639794, 0.3099712…\n",
            "$ Mountain_2534    \u001b[3m\u001b[90m<dbl>\u001b[39m\u001b[23m 0.09152117, 0.10293602, 0.17434230, 0.25264326, 0.306…\n",
            "$ Pacific_2534     \u001b[3m\u001b[90m<dbl>\u001b[39m\u001b[23m 0.1198758, 0.1374964, 0.2334279, 0.3319579, 0.3753061…\n",
            "$ poor_2534        \u001b[3m\u001b[90m<dbl>\u001b[39m\u001b[23m 0.1371597, 0.1717202, 0.3100591, 0.4199108, 0.5033676…\n",
            "$ mid_2534         \u001b[3m\u001b[90m<dbl>\u001b[39m\u001b[23m 0.07514929, 0.08159207, 0.14825303, 0.24320008, 0.302…\n",
            "$ rich_2534        \u001b[3m\u001b[90m<dbl>\u001b[39m\u001b[23m 0.2066776, 0.1724093, 0.1851082, 0.2783226, 0.2717386…\n",
            "$ all_3544         \u001b[3m\u001b[90m<dbl>\u001b[39m\u001b[23m 0.07058157, 0.06732520, 0.06883378, 0.11191800, 0.156…\n",
            "$ HS_3544          \u001b[3m\u001b[90m<dbl>\u001b[39m\u001b[23m 0.06860309, 0.06511964, 0.06429102, 0.11210043, 0.169…\n",
            "$ SC_3544          \u001b[3m\u001b[90m<dbl>\u001b[39m\u001b[23m 0.06663695, 0.06271724, 0.06531333, 0.09699372, 0.138…\n",
            "$ BAp_3544         \u001b[3m\u001b[90m<dbl>\u001b[39m\u001b[23m 0.1326265, 0.1116899, 0.1056102, 0.1285172, 0.1541238…\n",
            "$ BAo_3544         \u001b[3m\u001b[90m<dbl>\u001b[39m\u001b[23m 0.1326265, 0.1116899, 0.1056102, 0.1258567, 0.1536299…\n",
            "$ GD_3544          \u001b[3m\u001b[90m<dbl>\u001b[39m\u001b[23m NA, NA, NA, 0.1328018, 0.1550970, 0.1595169, 0.158009…\n",
            "$ White_3544       \u001b[3m\u001b[90m<dbl>\u001b[39m\u001b[23m 0.06825586, 0.06250372, 0.05966739, 0.09611312, 0.132…\n",
            "$ Black_3544       \u001b[3m\u001b[90m<dbl>\u001b[39m\u001b[23m 0.08836728, 0.10290904, 0.13140081, 0.22010298, 0.302…\n",
            "$ Hisp_3544        \u001b[3m\u001b[90m<dbl>\u001b[39m\u001b[23m 0.07307651, 0.07070500, 0.08110790, 0.12194206, 0.154…\n",
            "$ NE_3544          \u001b[3m\u001b[90m<dbl>\u001b[39m\u001b[23m 0.09194322, 0.08570110, 0.07997323, 0.12785915, 0.173…\n",
            "$ MA_3544          \u001b[3m\u001b[90m<dbl>\u001b[39m\u001b[23m 0.09347468, 0.09040725, 0.09744428, 0.14354989, 0.188…\n",
            "$ Midwest_3544     \u001b[3m\u001b[90m<dbl>\u001b[39m\u001b[23m 0.06863360, 0.06156272, 0.06070641, 0.10157576, 0.145…\n",
            "$ South_3544       \u001b[3m\u001b[90m<dbl>\u001b[39m\u001b[23m 0.06026353, 0.05966057, 0.05914089, 0.09637035, 0.142…\n",
            "$ Mountain_3544    \u001b[3m\u001b[90m<dbl>\u001b[39m\u001b[23m 0.04739747, 0.04651163, 0.04880077, 0.09189904, 0.135…\n",
            "$ Pacific_3544     \u001b[3m\u001b[90m<dbl>\u001b[39m\u001b[23m 0.05822486, 0.06347796, 0.07552538, 0.13134638, 0.174…\n",
            "$ poor_3544        \u001b[3m\u001b[90m<dbl>\u001b[39m\u001b[23m 0.1019749, 0.1117548, 0.1291426, 0.2012208, 0.2813137…\n",
            "$ mid_3544         \u001b[3m\u001b[90m<dbl>\u001b[39m\u001b[23m 0.04717272, 0.04566838, 0.05050321, 0.09024739, 0.128…\n",
            "$ rich_3544        \u001b[3m\u001b[90m<dbl>\u001b[39m\u001b[23m 0.08553870, 0.06499159, 0.04445951, 0.06573916, 0.086…\n",
            "$ all_4554         \u001b[3m\u001b[90m<dbl>\u001b[39m\u001b[23m 0.07254649, 0.05968794, 0.05250871, 0.05947824, 0.088…\n",
            "$ HS_4554          \u001b[3m\u001b[90m<dbl>\u001b[39m\u001b[23m 0.06840792, 0.05833439, 0.05036563, 0.05988244, 0.094…\n",
            "$ SC_4554          \u001b[3m\u001b[90m<dbl>\u001b[39m\u001b[23m 0.07903755, 0.05443478, 0.04816180, 0.04654087, 0.075…\n",
            "$ BAp_4554         \u001b[3m\u001b[90m<dbl>\u001b[39m\u001b[23m 0.15360889, 0.10466047, 0.08623774, 0.07301884, 0.092…\n",
            "$ BAo_4554         \u001b[3m\u001b[90m<dbl>\u001b[39m\u001b[23m 0.15360889, 0.10466047, 0.08623774, 0.06416529, 0.090…\n",
            "$ GD_4554          \u001b[3m\u001b[90m<dbl>\u001b[39m\u001b[23m NA, NA, NA, 0.08394886, 0.09362802, 0.09362876, 0.101…\n",
            "$ White_4554       \u001b[3m\u001b[90m<dbl>\u001b[39m\u001b[23m 0.07246692, 0.05754799, 0.04765354, 0.05092552, 0.075…\n",
            "$ Black_4554       \u001b[3m\u001b[90m<dbl>\u001b[39m\u001b[23m 0.06913249, 0.07899168, 0.08624602, 0.11617699, 0.175…\n",
            "$ Hisp_4554        \u001b[3m\u001b[90m<dbl>\u001b[39m\u001b[23m 0.06636058, 0.05810740, 0.06522951, 0.07613556, 0.094…\n",
            "$ NE_4554          \u001b[3m\u001b[90m<dbl>\u001b[39m\u001b[23m 0.10236412, 0.08028082, 0.06930253, 0.07047502, 0.102…\n",
            "$ MA_4554          \u001b[3m\u001b[90m<dbl>\u001b[39m\u001b[23m 0.09264788, 0.07860635, 0.07508466, 0.08373134, 0.112…\n",
            "$ Midwest_4554     \u001b[3m\u001b[90m<dbl>\u001b[39m\u001b[23m 0.07285321, 0.05791163, 0.04807290, 0.05398391, 0.083…\n",
            "$ South_4554       \u001b[3m\u001b[90m<dbl>\u001b[39m\u001b[23m 0.05977295, 0.05174462, 0.04485348, 0.05043636, 0.076…\n",
            "$ Mountain_4554    \u001b[3m\u001b[90m<dbl>\u001b[39m\u001b[23m 0.04754183, 0.03970134, 0.03374438, 0.04459411, 0.076…\n",
            "$ Pacific_4554     \u001b[3m\u001b[90m<dbl>\u001b[39m\u001b[23m 0.05996993, 0.04826312, 0.04958992, 0.06461875, 0.098…\n",
            "$ poor_4554        \u001b[3m\u001b[90m<dbl>\u001b[39m\u001b[23m 0.1030055, 0.1016489, 0.1003011, 0.1148335, 0.1718976…\n",
            "$ mid_4554         \u001b[3m\u001b[90m<dbl>\u001b[39m\u001b[23m 0.05364421, 0.04221637, 0.03830266, 0.04562332, 0.070…\n",
            "$ rich_4554        \u001b[3m\u001b[90m<dbl>\u001b[39m\u001b[23m 0.07908591, 0.05142867, 0.03311296, 0.03136386, 0.038…\n",
            "$ nokids_all_2534  \u001b[3m\u001b[90m<dbl>\u001b[39m\u001b[23m 0.4640564, 0.4309043, 0.4464304, 0.5425242, 0.5714531…\n",
            "$ kids_all_2534    \u001b[3m\u001b[90m<dbl>\u001b[39m\u001b[23m 0.002820625, 0.009868596, 0.025285667, 0.060277451, 0…\n",
            "$ nokids_HS_2534   \u001b[3m\u001b[90m<dbl>\u001b[39m\u001b[23m 0.4430148, 0.4246779, 0.4319342, 0.5464881, 0.5711395…\n",
            "$ nokids_SC_2534   \u001b[3m\u001b[90m<dbl>\u001b[39m\u001b[23m 0.5000402, 0.4333479, 0.4505900, 0.5238446, 0.5700042…\n",
            "$ nokids_BAp_2534  \u001b[3m\u001b[90m<dbl>\u001b[39m\u001b[23m 0.5619099, 0.4554766, 0.4719700, 0.5560765, 0.5729677…\n",
            "$ nokids_BAo_2534  \u001b[3m\u001b[90m<dbl>\u001b[39m\u001b[23m 0.5619099, 0.4554766, 0.4719700, 0.5633301, 0.5862213…\n",
            "$ nokids_GD_2534   \u001b[3m\u001b[90m<dbl>\u001b[39m\u001b[23m NA, NA, NA, 0.5332628, 0.5367160, 0.5258800, 0.526189…\n",
            "$ kids_HS_2534     \u001b[3m\u001b[90m<dbl>\u001b[39m\u001b[23m 0.003318886, 0.012465915, 0.031930752, 0.078470444, 0…\n",
            "$ kids_SC_2534     \u001b[3m\u001b[90m<dbl>\u001b[39m\u001b[23m 0.001150824, 0.003699982, 0.018135401, 0.052032702, 0…\n",
            "$ kids_BAp_2534    \u001b[3m\u001b[90m<dbl>\u001b[39m\u001b[23m 0.0005751073, 0.0014683425, 0.0062544364, 0.017124104…\n",
            "$ kids_BAo_2534    \u001b[3m\u001b[90m<dbl>\u001b[39m\u001b[23m 0.0005751073, 0.0014683425, 0.0062544364, 0.018176602…\n",
            "$ kids_GD_2534     \u001b[3m\u001b[90m<dbl>\u001b[39m\u001b[23m NA, NA, NA, 0.01374234, 0.02761467, 0.02645041, 0.024…\n",
            "$ nokids_poor_2534 \u001b[3m\u001b[90m<dbl>\u001b[39m\u001b[23m 0.4933061, 0.5097742, 0.5740402, 0.6546908, 0.7055451…\n",
            "$ nokids_mid_2534  \u001b[3m\u001b[90m<dbl>\u001b[39m\u001b[23m 0.4100080, 0.3764538, 0.3998250, 0.5186604, 0.5690228…\n",
            "$ nokids_rich_2534 \u001b[3m\u001b[90m<dbl>\u001b[39m\u001b[23m 0.4921184, 0.4288948, 0.3848089, 0.4750156, 0.4458023…\n",
            "$ kids_poor_2534   \u001b[3m\u001b[90m<dbl>\u001b[39m\u001b[23m 0.008722711, 0.029974945, 0.077926214, 0.170763774, 0…\n",
            "$ kids_mid_2534    \u001b[3m\u001b[90m<dbl>\u001b[39m\u001b[23m 0.0007532065, 0.0033771145, 0.0102368871, 0.027465525…\n",
            "$ kids_rich_2534   \u001b[3m\u001b[90m<dbl>\u001b[39m\u001b[23m 0.0008027331, 0.0030435661, 0.0068317224, 0.018232912…\n"
          ]
        },
        {
          "data": {
            "text/plain": [
              "       X           year          date              all_2534     \n",
              " Min.   : 1   Min.   :1960   Length:17          Min.   :0.1233  \n",
              " 1st Qu.: 5   1st Qu.:2000   Class :character   1st Qu.:0.3450  \n",
              " Median : 9   Median :2004   Mode  :character   Median :0.3673  \n",
              " Mean   : 9   Mean   :1999                      Mean   :0.3587  \n",
              " 3rd Qu.:13   3rd Qu.:2008                      3rd Qu.:0.4394  \n",
              " Max.   :17   Max.   :2012                      Max.   :0.4943  \n",
              "                                                                \n",
              "    HS_2534          SC_2534          BAp_2534         BAo_2534     \n",
              " Min.   :0.1094   Min.   :0.1495   Min.   :0.2187   Min.   :0.2187  \n",
              " 1st Qu.:0.3317   1st Qu.:0.3249   1st Qu.:0.3774   1st Qu.:0.3871  \n",
              " Median :0.3708   Median :0.3451   Median :0.3875   Median :0.4000  \n",
              " Mean   :0.3617   Mean   :0.3481   Mean   :0.3843   Mean   :0.3968  \n",
              " 3rd Qu.:0.4599   3rd Qu.:0.4235   3rd Qu.:0.4298   3rd Qu.:0.4474  \n",
              " Max.   :0.5235   Max.   :0.4799   Max.   :0.4766   Max.   :0.5023  \n",
              "                                                                    \n",
              "    GD_2534         White_2534       Black_2534       Hisp_2534     \n",
              " Min.   :0.3475   Min.   :0.1165   Min.   :0.1622   Min.   :0.1299  \n",
              " 1st Qu.:0.3523   1st Qu.:0.3127   1st Qu.:0.5145   1st Qu.:0.3181  \n",
              " Median :0.3722   Median :0.3306   Median :0.5724   Median :0.3486  \n",
              " Mean   :0.3747   Mean   :0.3259   Mean   :0.5316   Mean   :0.3466  \n",
              " 3rd Qu.:0.3930   3rd Qu.:0.3983   3rd Qu.:0.6431   3rd Qu.:0.4286  \n",
              " Max.   :0.4165   Max.   :0.4540   Max.   :0.6847   Max.   :0.4874  \n",
              " NA's   :3                                                          \n",
              "    NE_2534          MA_2534        Midwest_2534      South_2534    \n",
              " Min.   :0.1504   Min.   :0.1629   Min.   :0.1121   Min.   :0.1091  \n",
              " 1st Qu.:0.4078   1st Qu.:0.4176   1st Qu.:0.3308   1st Qu.:0.3100  \n",
              " Median :0.4491   Median :0.4494   Median :0.3524   Median :0.3342  \n",
              " Mean   :0.4191   Mean   :0.4314   Mean   :0.3420   Mean   :0.3294  \n",
              " 3rd Qu.:0.5095   3rd Qu.:0.5211   3rd Qu.:0.4192   3rd Qu.:0.4082  \n",
              " Max.   :0.5643   Max.   :0.5754   Max.   :0.4721   Max.   :0.4650  \n",
              "                                                                    \n",
              " Mountain_2534      Pacific_2534      poor_2534         mid_2534      \n",
              " Min.   :0.09152   Min.   :0.1199   Min.   :0.1372   Min.   :0.07515  \n",
              " 1st Qu.:0.29687   1st Qu.:0.3753   1st Qu.:0.5034   1st Qu.:0.30202  \n",
              " Median :0.31079   Median :0.3972   Median :0.5368   Median :0.33561  \n",
              " Mean   :0.31453   Mean   :0.3863   Mean   :0.5007   Mean   :0.31765  \n",
              " 3rd Qu.:0.40016   3rd Qu.:0.4724   3rd Qu.:0.6054   3rd Qu.:0.39423  \n",
              " Max.   :0.44282   Max.   :0.5289   Max.   :0.6532   Max.   :0.45613  \n",
              "                                                                      \n",
              "   rich_2534         all_3544          HS_3544           SC_3544       \n",
              " Min.   :0.1724   Min.   :0.06733   Min.   :0.06429   Min.   :0.06272  \n",
              " 1st Qu.:0.2523   1st Qu.:0.15606   1st Qu.:0.16870   1st Qu.:0.13800  \n",
              " Median :0.2717   Median :0.16516   Median :0.18236   Median :0.14933  \n",
              " Mean   :0.2954   Mean   :0.15918   Mean   :0.18085   Mean   :0.14520  \n",
              " 3rd Qu.:0.3626   3rd Qu.:0.19842   3rd Qu.:0.23531   3rd Qu.:0.18053  \n",
              " Max.   :0.4106   Max.   :0.21602   Max.   :0.26876   Max.   :0.20472  \n",
              "                                                                       \n",
              "    BAp_3544         BAo_3544         GD_3544         White_3544     \n",
              " Min.   :0.1056   Min.   :0.1056   Min.   :0.1328   Min.   :0.05967  \n",
              " 1st Qu.:0.1541   1st Qu.:0.1525   1st Qu.:0.1550   1st Qu.:0.13207  \n",
              " Median :0.1564   Median :0.1579   Median :0.1569   Median :0.13836  \n",
              " Mean   :0.1520   Mean   :0.1535   Mean   :0.1564   Mean   :0.13339  \n",
              " 3rd Qu.:0.1669   3rd Qu.:0.1705   3rd Qu.:0.1600   3rd Qu.:0.16386  \n",
              " Max.   :0.1690   Max.   :0.1737   Max.   :0.1656   Max.   :0.17471  \n",
              "                                   NA's   :3                         \n",
              "   Black_3544        Hisp_3544          NE_3544           MA_3544       \n",
              " Min.   :0.08837   Min.   :0.07071   Min.   :0.07997   Min.   :0.09041  \n",
              " 1st Qu.:0.30239   1st Qu.:0.14953   1st Qu.:0.16653   1st Qu.:0.18315  \n",
              " Median :0.32264   Median :0.16560   Median :0.18415   Median :0.19579  \n",
              " Mean   :0.30093   Mean   :0.16446   Mean   :0.17432   Mean   :0.19272  \n",
              " 3rd Qu.:0.37545   3rd Qu.:0.20685   3rd Qu.:0.21242   3rd Qu.:0.23815  \n",
              " Max.   :0.40443   Max.   :0.23340   Max.   :0.22782   Max.   :0.25784  \n",
              "                                                                        \n",
              "  Midwest_3544       South_3544      Mountain_3544      Pacific_3544    \n",
              " Min.   :0.06071   Min.   :0.05914   Min.   :0.04651   Min.   :0.05822  \n",
              " 1st Qu.:0.14539   1st Qu.:0.14231   1st Qu.:0.12944   1st Qu.:0.17480  \n",
              " Median :0.15015   Median :0.15414   Median :0.14747   Median :0.18352  \n",
              " Mean   :0.14749   Mean   :0.14617   Mean   :0.13963   Mean   :0.17585  \n",
              " 3rd Qu.:0.18293   3rd Qu.:0.18092   3rd Qu.:0.18522   3rd Qu.:0.22688  \n",
              " Max.   :0.20167   Max.   :0.20387   Max.   :0.19704   Max.   :0.23349  \n",
              "                                                                        \n",
              "   poor_3544         mid_3544         rich_3544          all_4554      \n",
              " Min.   :0.1020   Min.   :0.04567   Min.   :0.04446   Min.   :0.05251  \n",
              " 1st Qu.:0.2813   1st Qu.:0.12816   1st Qu.:0.06803   1st Qu.:0.08804  \n",
              " Median :0.3093   Median :0.14136   Median :0.08554   Median :0.10122  \n",
              " Mean   :0.2797   Mean   :0.13390   Mean   :0.08826   Mean   :0.10324  \n",
              " 3rd Qu.:0.3365   3rd Qu.:0.16897   3rd Qu.:0.11453   3rd Qu.:0.13152  \n",
              " Max.   :0.3697   Max.   :0.18851   Max.   :0.11757   Max.   :0.14305  \n",
              "                                                                       \n",
              "    HS_4554           SC_4554           BAp_4554          BAo_4554      \n",
              " Min.   :0.05037   Min.   :0.04654   Min.   :0.07302   Min.   :0.06417  \n",
              " 1st Qu.:0.09189   1st Qu.:0.07795   1st Qu.:0.09775   1st Qu.:0.09538  \n",
              " Median :0.10788   Median :0.08964   Median :0.10675   Median :0.10663  \n",
              " Mean   :0.11405   Mean   :0.09179   Mean   :0.10790   Mean   :0.10776  \n",
              " 3rd Qu.:0.15373   3rd Qu.:0.11401   3rd Qu.:0.11859   3rd Qu.:0.12045  \n",
              " Max.   :0.17032   Max.   :0.12700   Max.   :0.15361   Max.   :0.15361  \n",
              "                                                                        \n",
              "    GD_4554          White_4554        Black_4554        Hisp_4554      \n",
              " Min.   :0.08395   Min.   :0.04765   Min.   :0.06913   Min.   :0.05811  \n",
              " 1st Qu.:0.09701   1st Qu.:0.07517   1st Qu.:0.17587   1st Qu.:0.09355  \n",
              " Median :0.10925   Median :0.08645   Median :0.20771   Median :0.10121  \n",
              " Mean   :0.10636   Mean   :0.08820   Mean   :0.20300   Mean   :0.10689  \n",
              " 3rd Qu.:0.11582   3rd Qu.:0.11013   3rd Qu.:0.27099   3rd Qu.:0.13359  \n",
              " Max.   :0.11935   Max.   :0.11796   Max.   :0.29214   Max.   :0.14990  \n",
              " NA's   :3                                                              \n",
              "    NE_4554          MA_4554         Midwest_4554       South_4554     \n",
              " Min.   :0.0693   Min.   :0.07508   Min.   :0.04807   Min.   :0.04485  \n",
              " 1st Qu.:0.1023   1st Qu.:0.10954   1st Qu.:0.08208   1st Qu.:0.07632  \n",
              " Median :0.1138   Median :0.12797   Median :0.09621   Median :0.08903  \n",
              " Mean   :0.1153   Mean   :0.12808   Mean   :0.09714   Mean   :0.09330  \n",
              " 3rd Qu.:0.1373   3rd Qu.:0.16163   3rd Qu.:0.12366   3rd Qu.:0.12089  \n",
              " Max.   :0.1522   Max.   :0.16798   Max.   :0.13430   Max.   :0.13509  \n",
              "                                                                       \n",
              " Mountain_4554      Pacific_4554       poor_4554         mid_4554      \n",
              " Min.   :0.03374   Min.   :0.04826   Min.   :0.1003   Min.   :0.03830  \n",
              " 1st Qu.:0.07406   1st Qu.:0.09897   1st Qu.:0.1719   1st Qu.:0.07056  \n",
              " Median :0.08817   Median :0.11306   Median :0.2013   Median :0.08577  \n",
              " Mean   :0.08776   Mean   :0.11170   Mean   :0.1941   Mean   :0.08352  \n",
              " 3rd Qu.:0.11741   3rd Qu.:0.14439   3rd Qu.:0.2456   3rd Qu.:0.10505  \n",
              " Max.   :0.13223   Max.   :0.15909   Max.   :0.2634   Max.   :0.11853  \n",
              "                                                                       \n",
              "   rich_4554       nokids_all_2534  kids_all_2534      nokids_HS_2534  \n",
              " Min.   :0.02857   Min.   :0.4309   Min.   :0.002821   Min.   :0.4247  \n",
              " 1st Qu.:0.03143   1st Qu.:0.5715   1st Qu.:0.099473   1st Qu.:0.5711  \n",
              " Median :0.05143   Median :0.6004   Median :0.123881   Median :0.6274  \n",
              " Mean   :0.05107   Mean   :0.5966   Mean   :0.113672   Mean   :0.6167  \n",
              " 3rd Qu.:0.06924   3rd Qu.:0.6632   3rd Qu.:0.153806   3rd Qu.:0.6942  \n",
              " Max.   :0.07909   Max.   :0.7019   Max.   :0.183618   Max.   :0.7453  \n",
              "                                                                       \n",
              " nokids_SC_2534   nokids_BAp_2534  nokids_BAo_2534  nokids_GD_2534  \n",
              " Min.   :0.4333   Min.   :0.4555   Min.   :0.4555   Min.   :0.5259  \n",
              " 1st Qu.:0.5700   1st Qu.:0.5656   1st Qu.:0.5804   1st Qu.:0.5304  \n",
              " Median :0.5985   Median :0.5783   Median :0.5964   Median :0.5462  \n",
              " Mean   :0.5971   Mean   :0.5848   Mean   :0.6008   Mean   :0.5539  \n",
              " 3rd Qu.:0.6671   3rd Qu.:0.6272   3rd Qu.:0.6499   3rd Qu.:0.5762  \n",
              " Max.   :0.7018   Max.   :0.6630   Max.   :0.6895   Max.   :0.5987  \n",
              "                                                    NA's   :3       \n",
              "  kids_HS_2534       kids_SC_2534      kids_BAp_2534       kids_BAo_2534      \n",
              " Min.   :0.003319   Min.   :0.001151   Min.   :0.0005751   Min.   :0.0005751  \n",
              " 1st Qu.:0.127194   1st Qu.:0.097625   1st Qu.:0.0370024   1st Qu.:0.0401010  \n",
              " Median :0.164142   Median :0.122975   Median :0.0465660   Median :0.0519828  \n",
              " Mean   :0.146630   Mean   :0.118106   Mean   :0.0420029   Mean   :0.0475117  \n",
              " 3rd Qu.:0.198616   3rd Qu.:0.164814   3rd Qu.:0.0581481   3rd Qu.:0.0656552  \n",
              " Max.   :0.239107   Max.   :0.203470   Max.   :0.0710020   Max.   :0.0830437  \n",
              "                                                                              \n",
              "  kids_GD_2534     nokids_poor_2534 nokids_mid_2534  nokids_rich_2534\n",
              " Min.   :0.01374   Min.   :0.4933   Min.   :0.3765   Min.   :0.3848  \n",
              " 1st Qu.:0.02874   1st Qu.:0.7055   1st Qu.:0.5690   1st Qu.:0.4514  \n",
              " Median :0.03522   Median :0.7327   Median :0.5998   Median :0.4750  \n",
              " Mean   :0.03369   Mean   :0.7092   Mean   :0.5816   Mean   :0.5054  \n",
              " 3rd Qu.:0.03928   3rd Qu.:0.7749   3rd Qu.:0.6524   3rd Qu.:0.5740  \n",
              " Max.   :0.04445   Max.   :0.8093   Max.   :0.6914   Max.   :0.6180  \n",
              " NA's   :3                                                           \n",
              " kids_poor_2534     kids_mid_2534       kids_rich_2534     \n",
              " Min.   :0.008723   Min.   :0.0007532   Min.   :0.0008027  \n",
              " 1st Qu.:0.256282   1st Qu.:0.0597845   1st Qu.:0.0293706  \n",
              " Median :0.306080   Median :0.0803521   Median :0.0326262  \n",
              " Mean   :0.275425   Mean   :0.0752050   Mean   :0.0312513  \n",
              " 3rd Qu.:0.370663   3rd Qu.:0.1035361   3rd Qu.:0.0421522  \n",
              " Max.   :0.414789   Max.   :0.1319638   Max.   :0.0499120  \n",
              "                                                           "
            ]
          },
          "metadata": {},
          "output_type": "display_data"
        }
      ],
      "source": [
        "# Inspecting the data\n",
        "glimpse(data)\n",
        "summary(data)"
      ]
    },
    {
      "cell_type": "markdown",
      "metadata": {
        "id": "f1M3Z59GUCB5"
      },
      "source": [
        "<h3> Handling Missing Values"
      ]
    },
    {
      "cell_type": "code",
      "execution_count": null,
      "metadata": {
        "colab": {
          "base_uri": "https://localhost:8080/",
          "height": 149
        },
        "id": "NHwANBVuTqJO",
        "outputId": "c2abbd3f-d4ec-494c-87e4-a37948fb01cb"
      },
      "outputs": [
        {
          "data": {
            "text/html": [
              "<table class=\"dataframe\">\n",
              "<caption>A data.frame: 1 × 75</caption>\n",
              "<thead>\n",
              "\t<tr><th scope=col>X</th><th scope=col>year</th><th scope=col>date</th><th scope=col>all_2534</th><th scope=col>HS_2534</th><th scope=col>SC_2534</th><th scope=col>BAp_2534</th><th scope=col>BAo_2534</th><th scope=col>GD_2534</th><th scope=col>White_2534</th><th scope=col>⋯</th><th scope=col>kids_SC_2534</th><th scope=col>kids_BAp_2534</th><th scope=col>kids_BAo_2534</th><th scope=col>kids_GD_2534</th><th scope=col>nokids_poor_2534</th><th scope=col>nokids_mid_2534</th><th scope=col>nokids_rich_2534</th><th scope=col>kids_poor_2534</th><th scope=col>kids_mid_2534</th><th scope=col>kids_rich_2534</th></tr>\n",
              "\t<tr><th scope=col>&lt;int&gt;</th><th scope=col>&lt;int&gt;</th><th scope=col>&lt;int&gt;</th><th scope=col>&lt;int&gt;</th><th scope=col>&lt;int&gt;</th><th scope=col>&lt;int&gt;</th><th scope=col>&lt;int&gt;</th><th scope=col>&lt;int&gt;</th><th scope=col>&lt;int&gt;</th><th scope=col>&lt;int&gt;</th><th scope=col>⋯</th><th scope=col>&lt;int&gt;</th><th scope=col>&lt;int&gt;</th><th scope=col>&lt;int&gt;</th><th scope=col>&lt;int&gt;</th><th scope=col>&lt;int&gt;</th><th scope=col>&lt;int&gt;</th><th scope=col>&lt;int&gt;</th><th scope=col>&lt;int&gt;</th><th scope=col>&lt;int&gt;</th><th scope=col>&lt;int&gt;</th></tr>\n",
              "</thead>\n",
              "<tbody>\n",
              "\t<tr><td>0</td><td>0</td><td>0</td><td>0</td><td>0</td><td>0</td><td>0</td><td>0</td><td>3</td><td>0</td><td>⋯</td><td>0</td><td>0</td><td>0</td><td>3</td><td>0</td><td>0</td><td>0</td><td>0</td><td>0</td><td>0</td></tr>\n",
              "</tbody>\n",
              "</table>\n"
            ],
            "text/latex": "A data.frame: 1 × 75\n\\begin{tabular}{lllllllllllllllllllll}\n X & year & date & all\\_2534 & HS\\_2534 & SC\\_2534 & BAp\\_2534 & BAo\\_2534 & GD\\_2534 & White\\_2534 & ⋯ & kids\\_SC\\_2534 & kids\\_BAp\\_2534 & kids\\_BAo\\_2534 & kids\\_GD\\_2534 & nokids\\_poor\\_2534 & nokids\\_mid\\_2534 & nokids\\_rich\\_2534 & kids\\_poor\\_2534 & kids\\_mid\\_2534 & kids\\_rich\\_2534\\\\\n <int> & <int> & <int> & <int> & <int> & <int> & <int> & <int> & <int> & <int> & ⋯ & <int> & <int> & <int> & <int> & <int> & <int> & <int> & <int> & <int> & <int>\\\\\n\\hline\n\t 0 & 0 & 0 & 0 & 0 & 0 & 0 & 0 & 3 & 0 & ⋯ & 0 & 0 & 0 & 3 & 0 & 0 & 0 & 0 & 0 & 0\\\\\n\\end{tabular}\n",
            "text/markdown": "\nA data.frame: 1 × 75\n\n| X &lt;int&gt; | year &lt;int&gt; | date &lt;int&gt; | all_2534 &lt;int&gt; | HS_2534 &lt;int&gt; | SC_2534 &lt;int&gt; | BAp_2534 &lt;int&gt; | BAo_2534 &lt;int&gt; | GD_2534 &lt;int&gt; | White_2534 &lt;int&gt; | ⋯ ⋯ | kids_SC_2534 &lt;int&gt; | kids_BAp_2534 &lt;int&gt; | kids_BAo_2534 &lt;int&gt; | kids_GD_2534 &lt;int&gt; | nokids_poor_2534 &lt;int&gt; | nokids_mid_2534 &lt;int&gt; | nokids_rich_2534 &lt;int&gt; | kids_poor_2534 &lt;int&gt; | kids_mid_2534 &lt;int&gt; | kids_rich_2534 &lt;int&gt; |\n|---|---|---|---|---|---|---|---|---|---|---|---|---|---|---|---|---|---|---|---|---|\n| 0 | 0 | 0 | 0 | 0 | 0 | 0 | 0 | 3 | 0 | ⋯ | 0 | 0 | 0 | 3 | 0 | 0 | 0 | 0 | 0 | 0 |\n\n",
            "text/plain": [
              "  X year date all_2534 HS_2534 SC_2534 BAp_2534 BAo_2534 GD_2534 White_2534 ⋯\n",
              "1 0 0    0    0        0       0       0        0        3       0          ⋯\n",
              "  kids_SC_2534 kids_BAp_2534 kids_BAo_2534 kids_GD_2534 nokids_poor_2534\n",
              "1 0            0             0             3            0               \n",
              "  nokids_mid_2534 nokids_rich_2534 kids_poor_2534 kids_mid_2534 kids_rich_2534\n",
              "1 0               0                0              0             0             "
            ]
          },
          "metadata": {},
          "output_type": "display_data"
        }
      ],
      "source": [
        "# Count missing values in each column\n",
        "data %>% summarise(across(everything(), ~ sum(is.na(.))))"
      ]
    },
    {
      "cell_type": "code",
      "execution_count": null,
      "metadata": {
        "colab": {
          "base_uri": "https://localhost:8080/"
        },
        "id": "ID0JwsaPVvDp",
        "outputId": "d487e804-6d88-48fd-971a-8a77876dd033"
      },
      "outputs": [
        {
          "name": "stderr",
          "output_type": "stream",
          "text": [
            "Installing package into ‘/usr/local/lib/R/site-library’\n",
            "(as ‘lib’ is unspecified)\n",
            "\n"
          ]
        }
      ],
      "source": [
        "install.packages(\"tidyr\")\n",
        "library(tidyr)"
      ]
    },
    {
      "cell_type": "code",
      "execution_count": null,
      "metadata": {
        "id": "RVY3rGOnUINv"
      },
      "outputs": [],
      "source": [
        "# Remove the rows with any missing values\n",
        "data_clean <- data %>% drop_na()"
      ]
    },
    {
      "cell_type": "markdown",
      "metadata": {
        "id": "DkTcEj6MXCOL"
      },
      "source": [
        "mutate() creates new columns that are functions of existing variables. It can also modify (if the name is the same as an existing column) and delete columns (by setting their value to NULL)."
      ]
    },
    {
      "cell_type": "code",
      "execution_count": null,
      "metadata": {
        "id": "4PRcFFScUIK9"
      },
      "outputs": [],
      "source": [
        "# Replacing missing values with column mean\n",
        "data_clean <- data %>%\n",
        "  mutate(across(where(is.numeric), ~ ifelse(is.na(.), mean(., na.rm= TRUE), .)))"
      ]
    },
    {
      "cell_type": "code",
      "execution_count": null,
      "metadata": {
        "colab": {
          "base_uri": "https://localhost:8080/",
          "height": 410
        },
        "id": "qaDg1-q1UIIK",
        "outputId": "1a700c49-9e07-41ac-af90-f738f6d4bcb3"
      },
      "outputs": [
        {
          "data": {
            "text/html": [
              "<table class=\"dataframe\">\n",
              "<caption>A data.frame: 6 × 75</caption>\n",
              "<thead>\n",
              "\t<tr><th></th><th scope=col>X</th><th scope=col>year</th><th scope=col>date</th><th scope=col>all_2534</th><th scope=col>HS_2534</th><th scope=col>SC_2534</th><th scope=col>BAp_2534</th><th scope=col>BAo_2534</th><th scope=col>GD_2534</th><th scope=col>White_2534</th><th scope=col>⋯</th><th scope=col>kids_SC_2534</th><th scope=col>kids_BAp_2534</th><th scope=col>kids_BAo_2534</th><th scope=col>kids_GD_2534</th><th scope=col>nokids_poor_2534</th><th scope=col>nokids_mid_2534</th><th scope=col>nokids_rich_2534</th><th scope=col>kids_poor_2534</th><th scope=col>kids_mid_2534</th><th scope=col>kids_rich_2534</th></tr>\n",
              "\t<tr><th></th><th scope=col>&lt;int&gt;</th><th scope=col>&lt;int&gt;</th><th scope=col>&lt;chr&gt;</th><th scope=col>&lt;dbl&gt;</th><th scope=col>&lt;dbl&gt;</th><th scope=col>&lt;dbl&gt;</th><th scope=col>&lt;dbl&gt;</th><th scope=col>&lt;dbl&gt;</th><th scope=col>&lt;dbl&gt;</th><th scope=col>&lt;dbl&gt;</th><th scope=col>⋯</th><th scope=col>&lt;dbl&gt;</th><th scope=col>&lt;dbl&gt;</th><th scope=col>&lt;dbl&gt;</th><th scope=col>&lt;dbl&gt;</th><th scope=col>&lt;dbl&gt;</th><th scope=col>&lt;dbl&gt;</th><th scope=col>&lt;dbl&gt;</th><th scope=col>&lt;dbl&gt;</th><th scope=col>&lt;dbl&gt;</th><th scope=col>&lt;dbl&gt;</th></tr>\n",
              "</thead>\n",
              "<tbody>\n",
              "\t<tr><th scope=row>1</th><td>1</td><td>1960</td><td>1960-01-01</td><td>0.1233145</td><td>0.1095332</td><td>0.1522818</td><td>0.2389952</td><td>0.2389952</td><td>0.3746516</td><td>0.1164848</td><td>⋯</td><td>0.001150824</td><td>0.0005751073</td><td>0.0005751073</td><td>0.03369062</td><td>0.4933061</td><td>0.4100080</td><td>0.4921184</td><td>0.008722711</td><td>0.0007532065</td><td>0.0008027331</td></tr>\n",
              "\t<tr><th scope=row>2</th><td>2</td><td>1970</td><td>1970-01-01</td><td>0.1269715</td><td>0.1094000</td><td>0.1495096</td><td>0.2187031</td><td>0.2187031</td><td>0.3746516</td><td>0.1179043</td><td>⋯</td><td>0.003699982</td><td>0.0014683425</td><td>0.0014683425</td><td>0.03369062</td><td>0.5097742</td><td>0.3764538</td><td>0.4288948</td><td>0.029974945</td><td>0.0033771145</td><td>0.0030435661</td></tr>\n",
              "\t<tr><th scope=row>3</th><td>3</td><td>1980</td><td>1980-01-01</td><td>0.1991767</td><td>0.1617313</td><td>0.2236916</td><td>0.2881646</td><td>0.2881646</td><td>0.3746516</td><td>0.1824126</td><td>⋯</td><td>0.018135401</td><td>0.0062544364</td><td>0.0062544364</td><td>0.03369062</td><td>0.5740402</td><td>0.3998250</td><td>0.3848089</td><td>0.077926214</td><td>0.0102368871</td><td>0.0068317224</td></tr>\n",
              "\t<tr><th scope=row>4</th><td>4</td><td>1990</td><td>1990-01-01</td><td>0.2968306</td><td>0.2777491</td><td>0.2780912</td><td>0.3612968</td><td>0.3656655</td><td>0.3474505</td><td>0.2639256</td><td>⋯</td><td>0.052032702</td><td>0.0171241042</td><td>0.0181766027</td><td>0.01374234</td><td>0.6546908</td><td>0.5186604</td><td>0.4750156</td><td>0.170763774</td><td>0.0274655254</td><td>0.0182329127</td></tr>\n",
              "\t<tr><th scope=row>5</th><td>5</td><td>2000</td><td>2000-01-01</td><td>0.3450087</td><td>0.3316545</td><td>0.3249205</td><td>0.3874906</td><td>0.3939579</td><td>0.3691740</td><td>0.3127149</td><td>⋯</td><td>0.097625310</td><td>0.0370024452</td><td>0.0401009875</td><td>0.02761467</td><td>0.7055451</td><td>0.5690228</td><td>0.4458023</td><td>0.256281918</td><td>0.0597845173</td><td>0.0295644698</td></tr>\n",
              "\t<tr><th scope=row>6</th><td>6</td><td>2001</td><td>2001-01-01</td><td>0.3527767</td><td>0.3446069</td><td>0.3341101</td><td>0.3835686</td><td>0.3925148</td><td>0.3590304</td><td>0.3183506</td><td>⋯</td><td>0.110030662</td><td>0.0399801447</td><td>0.0445838012</td><td>0.02645041</td><td>0.7147334</td><td>0.5864741</td><td>0.4461111</td><td>0.280146488</td><td>0.0677954572</td><td>0.0336540502</td></tr>\n",
              "</tbody>\n",
              "</table>\n"
            ],
            "text/latex": "A data.frame: 6 × 75\n\\begin{tabular}{r|lllllllllllllllllllll}\n  & X & year & date & all\\_2534 & HS\\_2534 & SC\\_2534 & BAp\\_2534 & BAo\\_2534 & GD\\_2534 & White\\_2534 & ⋯ & kids\\_SC\\_2534 & kids\\_BAp\\_2534 & kids\\_BAo\\_2534 & kids\\_GD\\_2534 & nokids\\_poor\\_2534 & nokids\\_mid\\_2534 & nokids\\_rich\\_2534 & kids\\_poor\\_2534 & kids\\_mid\\_2534 & kids\\_rich\\_2534\\\\\n  & <int> & <int> & <chr> & <dbl> & <dbl> & <dbl> & <dbl> & <dbl> & <dbl> & <dbl> & ⋯ & <dbl> & <dbl> & <dbl> & <dbl> & <dbl> & <dbl> & <dbl> & <dbl> & <dbl> & <dbl>\\\\\n\\hline\n\t1 & 1 & 1960 & 1960-01-01 & 0.1233145 & 0.1095332 & 0.1522818 & 0.2389952 & 0.2389952 & 0.3746516 & 0.1164848 & ⋯ & 0.001150824 & 0.0005751073 & 0.0005751073 & 0.03369062 & 0.4933061 & 0.4100080 & 0.4921184 & 0.008722711 & 0.0007532065 & 0.0008027331\\\\\n\t2 & 2 & 1970 & 1970-01-01 & 0.1269715 & 0.1094000 & 0.1495096 & 0.2187031 & 0.2187031 & 0.3746516 & 0.1179043 & ⋯ & 0.003699982 & 0.0014683425 & 0.0014683425 & 0.03369062 & 0.5097742 & 0.3764538 & 0.4288948 & 0.029974945 & 0.0033771145 & 0.0030435661\\\\\n\t3 & 3 & 1980 & 1980-01-01 & 0.1991767 & 0.1617313 & 0.2236916 & 0.2881646 & 0.2881646 & 0.3746516 & 0.1824126 & ⋯ & 0.018135401 & 0.0062544364 & 0.0062544364 & 0.03369062 & 0.5740402 & 0.3998250 & 0.3848089 & 0.077926214 & 0.0102368871 & 0.0068317224\\\\\n\t4 & 4 & 1990 & 1990-01-01 & 0.2968306 & 0.2777491 & 0.2780912 & 0.3612968 & 0.3656655 & 0.3474505 & 0.2639256 & ⋯ & 0.052032702 & 0.0171241042 & 0.0181766027 & 0.01374234 & 0.6546908 & 0.5186604 & 0.4750156 & 0.170763774 & 0.0274655254 & 0.0182329127\\\\\n\t5 & 5 & 2000 & 2000-01-01 & 0.3450087 & 0.3316545 & 0.3249205 & 0.3874906 & 0.3939579 & 0.3691740 & 0.3127149 & ⋯ & 0.097625310 & 0.0370024452 & 0.0401009875 & 0.02761467 & 0.7055451 & 0.5690228 & 0.4458023 & 0.256281918 & 0.0597845173 & 0.0295644698\\\\\n\t6 & 6 & 2001 & 2001-01-01 & 0.3527767 & 0.3446069 & 0.3341101 & 0.3835686 & 0.3925148 & 0.3590304 & 0.3183506 & ⋯ & 0.110030662 & 0.0399801447 & 0.0445838012 & 0.02645041 & 0.7147334 & 0.5864741 & 0.4461111 & 0.280146488 & 0.0677954572 & 0.0336540502\\\\\n\\end{tabular}\n",
            "text/markdown": "\nA data.frame: 6 × 75\n\n| <!--/--> | X &lt;int&gt; | year &lt;int&gt; | date &lt;chr&gt; | all_2534 &lt;dbl&gt; | HS_2534 &lt;dbl&gt; | SC_2534 &lt;dbl&gt; | BAp_2534 &lt;dbl&gt; | BAo_2534 &lt;dbl&gt; | GD_2534 &lt;dbl&gt; | White_2534 &lt;dbl&gt; | ⋯ ⋯ | kids_SC_2534 &lt;dbl&gt; | kids_BAp_2534 &lt;dbl&gt; | kids_BAo_2534 &lt;dbl&gt; | kids_GD_2534 &lt;dbl&gt; | nokids_poor_2534 &lt;dbl&gt; | nokids_mid_2534 &lt;dbl&gt; | nokids_rich_2534 &lt;dbl&gt; | kids_poor_2534 &lt;dbl&gt; | kids_mid_2534 &lt;dbl&gt; | kids_rich_2534 &lt;dbl&gt; |\n|---|---|---|---|---|---|---|---|---|---|---|---|---|---|---|---|---|---|---|---|---|---|\n| 1 | 1 | 1960 | 1960-01-01 | 0.1233145 | 0.1095332 | 0.1522818 | 0.2389952 | 0.2389952 | 0.3746516 | 0.1164848 | ⋯ | 0.001150824 | 0.0005751073 | 0.0005751073 | 0.03369062 | 0.4933061 | 0.4100080 | 0.4921184 | 0.008722711 | 0.0007532065 | 0.0008027331 |\n| 2 | 2 | 1970 | 1970-01-01 | 0.1269715 | 0.1094000 | 0.1495096 | 0.2187031 | 0.2187031 | 0.3746516 | 0.1179043 | ⋯ | 0.003699982 | 0.0014683425 | 0.0014683425 | 0.03369062 | 0.5097742 | 0.3764538 | 0.4288948 | 0.029974945 | 0.0033771145 | 0.0030435661 |\n| 3 | 3 | 1980 | 1980-01-01 | 0.1991767 | 0.1617313 | 0.2236916 | 0.2881646 | 0.2881646 | 0.3746516 | 0.1824126 | ⋯ | 0.018135401 | 0.0062544364 | 0.0062544364 | 0.03369062 | 0.5740402 | 0.3998250 | 0.3848089 | 0.077926214 | 0.0102368871 | 0.0068317224 |\n| 4 | 4 | 1990 | 1990-01-01 | 0.2968306 | 0.2777491 | 0.2780912 | 0.3612968 | 0.3656655 | 0.3474505 | 0.2639256 | ⋯ | 0.052032702 | 0.0171241042 | 0.0181766027 | 0.01374234 | 0.6546908 | 0.5186604 | 0.4750156 | 0.170763774 | 0.0274655254 | 0.0182329127 |\n| 5 | 5 | 2000 | 2000-01-01 | 0.3450087 | 0.3316545 | 0.3249205 | 0.3874906 | 0.3939579 | 0.3691740 | 0.3127149 | ⋯ | 0.097625310 | 0.0370024452 | 0.0401009875 | 0.02761467 | 0.7055451 | 0.5690228 | 0.4458023 | 0.256281918 | 0.0597845173 | 0.0295644698 |\n| 6 | 6 | 2001 | 2001-01-01 | 0.3527767 | 0.3446069 | 0.3341101 | 0.3835686 | 0.3925148 | 0.3590304 | 0.3183506 | ⋯ | 0.110030662 | 0.0399801447 | 0.0445838012 | 0.02645041 | 0.7147334 | 0.5864741 | 0.4461111 | 0.280146488 | 0.0677954572 | 0.0336540502 |\n\n",
            "text/plain": [
              "  X year date       all_2534  HS_2534   SC_2534   BAp_2534  BAo_2534  GD_2534  \n",
              "1 1 1960 1960-01-01 0.1233145 0.1095332 0.1522818 0.2389952 0.2389952 0.3746516\n",
              "2 2 1970 1970-01-01 0.1269715 0.1094000 0.1495096 0.2187031 0.2187031 0.3746516\n",
              "3 3 1980 1980-01-01 0.1991767 0.1617313 0.2236916 0.2881646 0.2881646 0.3746516\n",
              "4 4 1990 1990-01-01 0.2968306 0.2777491 0.2780912 0.3612968 0.3656655 0.3474505\n",
              "5 5 2000 2000-01-01 0.3450087 0.3316545 0.3249205 0.3874906 0.3939579 0.3691740\n",
              "6 6 2001 2001-01-01 0.3527767 0.3446069 0.3341101 0.3835686 0.3925148 0.3590304\n",
              "  White_2534 ⋯ kids_SC_2534 kids_BAp_2534 kids_BAo_2534 kids_GD_2534\n",
              "1 0.1164848  ⋯ 0.001150824  0.0005751073  0.0005751073  0.03369062  \n",
              "2 0.1179043  ⋯ 0.003699982  0.0014683425  0.0014683425  0.03369062  \n",
              "3 0.1824126  ⋯ 0.018135401  0.0062544364  0.0062544364  0.03369062  \n",
              "4 0.2639256  ⋯ 0.052032702  0.0171241042  0.0181766027  0.01374234  \n",
              "5 0.3127149  ⋯ 0.097625310  0.0370024452  0.0401009875  0.02761467  \n",
              "6 0.3183506  ⋯ 0.110030662  0.0399801447  0.0445838012  0.02645041  \n",
              "  nokids_poor_2534 nokids_mid_2534 nokids_rich_2534 kids_poor_2534\n",
              "1 0.4933061        0.4100080       0.4921184        0.008722711   \n",
              "2 0.5097742        0.3764538       0.4288948        0.029974945   \n",
              "3 0.5740402        0.3998250       0.3848089        0.077926214   \n",
              "4 0.6546908        0.5186604       0.4750156        0.170763774   \n",
              "5 0.7055451        0.5690228       0.4458023        0.256281918   \n",
              "6 0.7147334        0.5864741       0.4461111        0.280146488   \n",
              "  kids_mid_2534 kids_rich_2534\n",
              "1 0.0007532065  0.0008027331  \n",
              "2 0.0033771145  0.0030435661  \n",
              "3 0.0102368871  0.0068317224  \n",
              "4 0.0274655254  0.0182329127  \n",
              "5 0.0597845173  0.0295644698  \n",
              "6 0.0677954572  0.0336540502  "
            ]
          },
          "metadata": {},
          "output_type": "display_data"
        }
      ],
      "source": [
        "head(data_clean)"
      ]
    },
    {
      "cell_type": "markdown",
      "metadata": {
        "id": "jtEa_JxhZnaq"
      },
      "source": [
        "<h3> Removing Outliers with dplyr </h3>\n",
        "<p><strong>Z-Score Method:</strong> This method calculates the Z-scores of data points. Any point with an absolute Z-score above the threshold (usually 3) is considered an outlier.</p> <br>\n",
        "remove_outliers_z <- function(df, column, threshold = 3) {<br>\n",
        "  z_scores <- scale(df[[column]]) <br>\n",
        "  df %>% filter(abs(z_scores) < threshold)<br>\n",
        "}\n",
        "\n",
        "<p><strong>Percentile Method:</strong> This method removes data points outside a specified percentile range, such as below the 1st percentile or above the 99th percentile.</p><br>\n",
        "remove_outliers_percentile <- function(df, column, lower_pct = 0.01, upper_pct<br> = 0.99) {<br>\n",
        "  lower_bound <- quantile(df[[column]], lower_pct)<br>\n",
        "  upper_bound <- quantile(df[[column]], upper_pct)<br>\n",
        "  \n",
        "  df %>% filter(df[[column]] >= lower_bound & df[[column]] <= upper_bound)<br>\n",
        "}\n",
        "\n",
        "<p><strong>IQR Method:</strong> This method removes data points that fall outside the range of Q1 - 1.5 * IQR to Q3 + 1.5 * IQR.</p><br>\n",
        "remove_outliers_iqr <- function(df, column) {<br>\n",
        "  Q1 <- quantile(df[[column]], 0.25)<br>\n",
        "  Q3 <- quantile(df[[column]], 0.75)<br>\n",
        "  IQR <- Q3 - Q1<br>\n",
        "  \n",
        "  df %>% filter(df[[column]] >= (Q1 - 1.5 * IQR) & df[[column]] <= (Q3 + 1.5 * IQR))<br>\n",
        "}"
      ]
    },
    {
      "cell_type": "code",
      "execution_count": null,
      "metadata": {
        "id": "tEIB3_RwUIFj"
      },
      "outputs": [],
      "source": [
        "# Function to remove the outliers using iqr method\n",
        "remove_outliers <- function(df, column){\n",
        "  Q1 <- quantile(df[[column]], 0.25)\n",
        "  Q3 <- quantile(df[[column]], 0.75)\n",
        "  IQR <- Q3 - Q1\n",
        "\n",
        "  df %>% filter(df[[column]] >=(1-1.5*IQR) & df[[column]] <= (Q3+ 1.5*IQR))\n",
        "}\n",
        "\n",
        "# Removing outliers\n",
        "data <- remove_outliers(data, \"all_2534\")"
      ]
    },
    {
      "cell_type": "code",
      "execution_count": null,
      "metadata": {
        "colab": {
          "base_uri": "https://localhost:8080/"
        },
        "id": "0EUksbQ4UICm",
        "outputId": "ef1c1ad2-0ba3-4ca0-b1c1-df1dcf457da0"
      },
      "outputs": [
        {
          "name": "stderr",
          "output_type": "stream",
          "text": [
            "Warning message:\n",
            "“\u001b[1m\u001b[22mThere were 222 warnings in `mutate()`.\n",
            "The first warning was:\n",
            "\u001b[1m\u001b[22m\u001b[36mℹ\u001b[39m In argument: `across(where(is.numeric), ~(. - min(.))/(max(.) - min(.)))`.\n",
            "Caused by warning in `min()`:\n",
            "\u001b[33m!\u001b[39m no non-missing arguments to min; returning Inf\n",
            "\u001b[1m\u001b[22m\u001b[36mℹ\u001b[39m Run `dplyr::last_dplyr_warnings()` to see the 221 remaining warnings.”\n"
          ]
        }
      ],
      "source": [
        "# Min-Max Normalization using dplyr\n",
        "data_normalized <- data %>%\n",
        "  mutate(across(where(is.numeric), ~ (. - min(.)) / (max(.) - min(.))))"
      ]
    },
    {
      "cell_type": "code",
      "execution_count": null,
      "metadata": {
        "colab": {
          "background_save": true,
          "base_uri": "https://localhost:8080/"
        },
        "id": "pUP9DX4GUH_s",
        "outputId": "a247e3a7-aff7-4fc7-c4c9-a85cc4570c17"
      },
      "outputs": [
        {
          "name": "stderr",
          "output_type": "stream",
          "text": [
            "Installing package into ‘/usr/local/lib/R/site-library’\n",
            "(as ‘lib’ is unspecified)\n",
            "\n",
            "also installing the dependencies ‘listenv’, ‘parallelly’, ‘future’, ‘globals’, ‘shape’, ‘future.apply’, ‘numDeriv’, ‘progressr’, ‘SQUAREM’, ‘diagram’, ‘lava’, ‘prodlim’, ‘proxy’, ‘iterators’, ‘clock’, ‘gower’, ‘hardhat’, ‘ipred’, ‘timeDate’, ‘e1071’, ‘foreach’, ‘ModelMetrics’, ‘plyr’, ‘pROC’, ‘recipes’, ‘reshape2’\n",
            "\n",
            "\n",
            "Loading required package: ggplot2\n",
            "\n",
            "Loading required package: lattice\n",
            "\n"
          ]
        },
        {
          "ename": "ERROR",
          "evalue": "Error in `contrasts<-`(`*tmp*`, value = contr.funs[1 + isOF[nn]]): contrasts can be applied only to factors with 2 or more levels\n",
          "output_type": "error",
          "traceback": [
            "Error in `contrasts<-`(`*tmp*`, value = contr.funs[1 + isOF[nn]]): contrasts can be applied only to factors with 2 or more levels\nTraceback:\n",
            "1. as.data.frame(predict(data_encoded, newdata = data))",
            "2. predict(data_encoded, newdata = data)",
            "3. predict.dummyVars(data_encoded, newdata = data)",
            "4. model.matrix(Terms, m)",
            "5. model.matrix.default(Terms, m)",
            "6. `contrasts<-`(`*tmp*`, value = contr.funs[1 + isOF[nn]])",
            "7. stop(\"contrasts can be applied only to factors with 2 or more levels\")"
          ]
        }
      ],
      "source": [
        "# Install and load the necessary package\n",
        "install.packages(\"caret\")\n",
        "library(caret)\n",
        "\n",
        "# One-Hot Encoding for categorical columns\n",
        "data_encoded <- dummyVars(\" ~ .\", data = data)\n",
        "data_transformed <- as.data.frame(predict(data_encoded, newdata = data))"
      ]
    },
    {
      "cell_type": "code",
      "execution_count": null,
      "metadata": {
        "id": "ZMrMPgu0UH8z"
      },
      "outputs": [],
      "source": []
    },
    {
      "cell_type": "code",
      "execution_count": null,
      "metadata": {
        "id": "vtsD8dcYUH6Q"
      },
      "outputs": [],
      "source": []
    },
    {
      "cell_type": "code",
      "execution_count": null,
      "metadata": {
        "id": "I6GDGwdRUH3r"
      },
      "outputs": [],
      "source": []
    },
    {
      "cell_type": "code",
      "execution_count": null,
      "metadata": {
        "id": "IY0OHoBQUH02"
      },
      "outputs": [],
      "source": []
    },
    {
      "cell_type": "code",
      "execution_count": null,
      "metadata": {
        "id": "01quUQ5QUHyA"
      },
      "outputs": [],
      "source": []
    },
    {
      "cell_type": "code",
      "execution_count": null,
      "metadata": {
        "id": "7WLvM6oUUHvM"
      },
      "outputs": [],
      "source": []
    },
    {
      "cell_type": "code",
      "execution_count": null,
      "metadata": {
        "id": "ab9YdRRsUHsL"
      },
      "outputs": [],
      "source": []
    },
    {
      "cell_type": "code",
      "execution_count": null,
      "metadata": {
        "id": "Vkaxm3oNUHqJ"
      },
      "outputs": [],
      "source": []
    },
    {
      "cell_type": "code",
      "execution_count": null,
      "metadata": {
        "id": "yajtUpugUHnP"
      },
      "outputs": [],
      "source": []
    },
    {
      "cell_type": "code",
      "execution_count": null,
      "metadata": {
        "id": "QWWB7TnjUHky"
      },
      "outputs": [],
      "source": []
    }
  ],
  "metadata": {
    "colab": {
      "provenance": [],
      "authorship_tag": "ABX9TyOxr4UgUlzNGJXm4EQbnFxd"
    },
    "kernelspec": {
      "display_name": "R",
      "name": "ir"
    },
    "language_info": {
      "name": "R"
    }
  },
  "nbformat": 4,
  "nbformat_minor": 0
}